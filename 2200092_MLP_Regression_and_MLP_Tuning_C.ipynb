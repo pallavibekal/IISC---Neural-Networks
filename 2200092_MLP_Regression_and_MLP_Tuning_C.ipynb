{
  "nbformat": 4,
  "nbformat_minor": 0,
  "metadata": {
    "colab": {
      "name": "2200092 of M4_AST_02_MLP_Regression_and_MLP_Tuning_C.ipynb",
      "provenance": [],
      "collapsed_sections": [],
      "include_colab_link": true
    },
    "kernelspec": {
      "display_name": "Python 3",
      "language": "python",
      "name": "python3"
    },
    "language_info": {
      "codemirror_mode": {
        "name": "ipython",
        "version": 3
      },
      "file_extension": ".py",
      "mimetype": "text/x-python",
      "name": "python",
      "nbconvert_exporter": "python",
      "pygments_lexer": "ipython3",
      "version": "3.8.5"
    }
  },
  "cells": [
    {
      "cell_type": "markdown",
      "metadata": {
        "id": "view-in-github",
        "colab_type": "text"
      },
      "source": [
        "<a href=\"https://colab.research.google.com/github/pallavibekal/IISC---Neural-Networks/blob/main/2200092_MLP_Regression_and_MLP_Tuning_C.ipynb\" target=\"_parent\"><img src=\"https://colab.research.google.com/assets/colab-badge.svg\" alt=\"Open In Colab\"/></a>"
      ]
    },
    {
      "cell_type": "markdown",
      "metadata": {
        "id": "HklD4MlOgCTy"
      },
      "source": [
        "# Advanced Certification Program in Computational Data Science\n",
        "## A program by IISc and TalentSprint\n",
        "### Assignment 2: MLP Regression and MLP Tuning "
      ]
    },
    {
      "cell_type": "markdown",
      "metadata": {
        "id": "doENGez0k03C"
      },
      "source": [
        "## Learning Objectives"
      ]
    },
    {
      "cell_type": "markdown",
      "metadata": {
        "id": "HbFv4sGHk7VW"
      },
      "source": [
        "At the end of the experiment, you will be able to\n",
        "\n",
        "- understand the concept of MLPs for regression\n",
        "- know the hyperparameters of neural network and their tuning \n",
        "- understand batch normalization using Keras\n",
        "- understand the concept of optimizers\n",
        "- understand the time-based learning rate method through an example\n",
        "- understand the different regularization methods to avoid the overfitting of neural networks"
      ]
    },
    {
      "cell_type": "markdown",
      "metadata": {
        "id": "w-9AxpS_WMr9"
      },
      "source": [
        "### Introduction to Regression MLPs"
      ]
    },
    {
      "cell_type": "markdown",
      "metadata": {
        "id": "btCQw9drWTH_"
      },
      "source": [
        "First, MLPs can be used for regression tasks. If we want to predict a single value (e.g., the  price  of  a  house  given  many  of  its  features), then  we  just  need  a  single  output neuron:  its  output  is  the  predicted  value.  For  multivariate  regression  (i.e.,  to  predict multiple  values  at  once),  we  need  one  output  neuron  per  output  dimension.  For example, to locate the center of an object on an image, we need to predict 2D coordinates,  so  we  need  two  output  neurons.  If  we  also  want  to  place  a  bounding  box around the object, then we need two more numbers: the width and the height of the object. So we end up with 4 output neurons.\n",
        "\n",
        "In general, when building an MLP for regression, we do not want to use any activation  function  for  the  output  neurons,  so  they  are  free  to  output  any  range  of  values. However,  if  we  want  to  guarantee  that  the  output  will  always  be  positive,  then  we can use the ReLU activation function or the softplus activation function in the output layer.  Finally,  if  we  want  to  guarantee  that  the  predictions  will  fall  within  a  given range of values, then we can use the logistic function or the hyperbolic tangent and scale the labels to the appropriate range: 0 to 1 for the logistic function, or –1 to 1 for the hyperbolic tangent.\n",
        "\n",
        "The loss function to use during training is typically the mean squared error, but if we have  a  lot  of  outliers  in  the  training  set,  we  may  prefer  to  use  the  mean  absolute error  instead.  Alternatively,  we  can  use  the  Huber  loss,  which  is  a  combination  of both.\n",
        "\n",
        "**Note:** The Huber loss is quadratic when the error is smaller than a threshold $δ$ (typically 1), but linear when the error is larger than $δ$. This makes it less sensitive to outliers than the mean squared error, and\n",
        "it  is  often  more  precise  and  converges  faster  than  the  mean  absolute error.\n",
        "\n",
        "To know more about Multi Layer Perceptron (MLP), click [here](https://www.cs.toronto.edu/~rgrosse/courses/csc321_2018/readings/L05%20Multilayer%20Perceptrons.pdf).\n",
        "\n",
        "**Implementation Using Keras**\n",
        "\n",
        "Keras is a high-level Deep Learning API that allows us to easily build train, evaluate and execute all sorts of neural networks. To know more about the documentation of Keras, click [here](https://keras.io/).\n",
        "\n",
        "**Implementation of MLP regression Using sklearn**\n",
        "\n",
        "The very popular machine learning library Scikit-Learn is also capable of basic deep learning modeling.\n",
        "\n",
        "Salient points of Multilayer Perceptron (MLP) in Scikit-learn:\n",
        "\n",
        "* There is no activation function in the output layer.\n",
        "* For regression scenarios, the square error is the loss function, and cross-entropy is the loss function for the classification\n",
        "* It can work with single as well as multiple target values regression.\n",
        "* Unlike other popular packages, likes Keras the implementation of MLP in Scikit doesn’t support GPU.\n",
        "\n",
        "To know more about Scikit-Learn MLP regressor, click [here](https://scikit-learn.org/stable/modules/generated/sklearn.neural_network.MLPRegressor.html).\n",
        " "
      ]
    },
    {
      "cell_type": "markdown",
      "metadata": {
        "id": "mx6BJLwYZBxw"
      },
      "source": [
        "### Typical MLP Regressor Architecture"
      ]
    },
    {
      "cell_type": "markdown",
      "metadata": {
        "id": "GH2a3AvwZNlT"
      },
      "source": [
        "\n",
        "Hyperparameter             | Typical Value \n",
        "---------------------------|------------------\n",
        "# input neurons            | One per input feature (e.g., 28 x 28 = 784 for MNIST)\n",
        "# hidden layers            | Depends on the problem. Typically 1 to 5. \n",
        "# neurons per hidden layer | Depends on the problem. Typically 10 to 100.\n",
        "# output neurons           | 1 per prediction dimension\n",
        "Hidden activation          | ReLU\n",
        "Output activation          | None or ReLU/Softplus (if positive outputs) or Logistic/Tanh (if bounded outputs)\n",
        "Loss function              | MSE or MAE/Huber (if outliers)"
      ]
    },
    {
      "cell_type": "markdown",
      "metadata": {
        "id": "BNLA8HiKxQhc"
      },
      "source": [
        "### Setup Steps:"
      ]
    },
    {
      "cell_type": "code",
      "metadata": {
        "id": "2YzfoPvJDiTX"
      },
      "source": [
        "#@title Please enter your registration id to start: { run: \"auto\", display-mode: \"form\" }\n",
        "Id = \"2200092\" #@param {type:\"string\"}"
      ],
      "execution_count": 4,
      "outputs": []
    },
    {
      "cell_type": "code",
      "metadata": {
        "id": "AjoZJWGErxGf"
      },
      "source": [
        "#@title Please enter your password (your registered phone number) to continue: { run: \"auto\", display-mode: \"form\" }\n",
        "password = \"9686800288\" #@param {type:\"string\"}"
      ],
      "execution_count": 8,
      "outputs": []
    },
    {
      "cell_type": "code",
      "metadata": {
        "id": "WBPPuGmBlDIN",
        "cellView": "form",
        "colab": {
          "base_uri": "https://localhost:8080/",
          "height": 34
        },
        "outputId": "fb772e00-86c1-416e-9cb7-5a28c280482a"
      },
      "source": [
        "#@title Run this cell to complete the setup for this Notebook\n",
        "from IPython import get_ipython\n",
        "\n",
        "ipython = get_ipython()\n",
        "  \n",
        "notebook= \"M4_AST_02_MLP_Regression_and_MLP_Tuning_C\" #name of the notebook\n",
        "\n",
        "def setup():\n",
        "#  ipython.magic(\"sx pip3 install torch\")  \n",
        "    \n",
        "    from IPython.display import HTML, display\n",
        "    display(HTML('<script src=\"https://dashboard.talentsprint.com/aiml/record_ip.html?traineeId={0}&recordId={1}\"></script>'.format(getId(),submission_id)))\n",
        "    print(\"Setup completed successfully\")\n",
        "    return\n",
        "\n",
        "def submit_notebook():\n",
        "    ipython.magic(\"notebook -e \"+ notebook + \".ipynb\")\n",
        "    \n",
        "    import requests, json, base64, datetime\n",
        "\n",
        "    url = \"https://dashboard.talentsprint.com/xp/app/save_notebook_attempts\"\n",
        "    if not submission_id:\n",
        "      data = {\"id\" : getId(), \"notebook\" : notebook, \"mobile\" : getPassword()}\n",
        "      r = requests.post(url, data = data)\n",
        "      r = json.loads(r.text)\n",
        "\n",
        "      if r[\"status\"] == \"Success\":\n",
        "          return r[\"record_id\"]\n",
        "      elif \"err\" in r:        \n",
        "        print(r[\"err\"])\n",
        "        return None        \n",
        "      else:\n",
        "        print (\"Something is wrong, the notebook will not be submitted for grading\")\n",
        "        return None\n",
        "    \n",
        "    elif getAnswer() and getComplexity() and getAdditional() and getConcepts() and getComments() and getMentorSupport():\n",
        "      f = open(notebook + \".ipynb\", \"rb\")\n",
        "      file_hash = base64.b64encode(f.read())\n",
        "\n",
        "      data = {\"complexity\" : Complexity, \"additional\" :Additional, \n",
        "              \"concepts\" : Concepts, \"record_id\" : submission_id, \n",
        "              \"answer\" : Answer, \"id\" : Id, \"file_hash\" : file_hash,\n",
        "              \"notebook\" : notebook,\n",
        "              \"feedback_experiments_input\" : Comments,\n",
        "              \"feedback_mentor_support\": Mentor_support}\n",
        "      r = requests.post(url, data = data)\n",
        "      r = json.loads(r.text)\n",
        "      if \"err\" in r:        \n",
        "        print(r[\"err\"])\n",
        "        return None   \n",
        "      else:\n",
        "        print(\"Your submission is successful.\")\n",
        "        print(\"Ref Id:\", submission_id)\n",
        "        print(\"Date of submission: \", r[\"date\"])\n",
        "        print(\"Time of submission: \", r[\"time\"])\n",
        "        print(\"View your submissions: https://cds.iisc.talentsprint.com/notebook_submissions\")\n",
        "        #print(\"For any queries/discrepancies, please connect with mentors through the chat icon in LMS dashboard.\")\n",
        "        return submission_id\n",
        "    else: submission_id\n",
        "    \n",
        "\n",
        "def getAdditional():\n",
        "  try:\n",
        "    if not Additional: \n",
        "      raise NameError\n",
        "    else:\n",
        "      return Additional  \n",
        "  except NameError:\n",
        "    print (\"Please answer Additional Question\")\n",
        "    return None\n",
        "\n",
        "def getComplexity():\n",
        "  try:\n",
        "    if not Complexity:\n",
        "      raise NameError\n",
        "    else:\n",
        "      return Complexity\n",
        "  except NameError:\n",
        "    print (\"Please answer Complexity Question\")\n",
        "    return None\n",
        "  \n",
        "def getConcepts():\n",
        "  try:\n",
        "    if not Concepts:\n",
        "      raise NameError\n",
        "    else:\n",
        "      return Concepts\n",
        "  except NameError:\n",
        "    print (\"Please answer Concepts Question\")\n",
        "    return None\n",
        "  \n",
        "  \n",
        "# def getWalkthrough():\n",
        "#   try:\n",
        "#     if not Walkthrough:\n",
        "#       raise NameError\n",
        "#     else:\n",
        "#       return Walkthrough\n",
        "#   except NameError:\n",
        "#     print (\"Please answer Walkthrough Question\")\n",
        "#     return None\n",
        "  \n",
        "def getComments():\n",
        "  try:\n",
        "    if not Comments:\n",
        "      raise NameError\n",
        "    else:\n",
        "      return Comments\n",
        "  except NameError:\n",
        "    print (\"Please answer Comments Question\")\n",
        "    return None\n",
        "  \n",
        "\n",
        "def getMentorSupport():\n",
        "  try:\n",
        "    if not Mentor_support:\n",
        "      raise NameError\n",
        "    else:\n",
        "      return Mentor_support\n",
        "  except NameError:\n",
        "    print (\"Please answer Mentor support Question\")\n",
        "    return None\n",
        "\n",
        "def getAnswer():\n",
        "  try:\n",
        "    if not Answer:\n",
        "      raise NameError \n",
        "    else: \n",
        "      return Answer\n",
        "  except NameError:\n",
        "    print (\"Please answer Question\")\n",
        "    return None\n",
        "  \n",
        "\n",
        "def getId():\n",
        "  try: \n",
        "    return Id if Id else None\n",
        "  except NameError:\n",
        "    return None\n",
        "\n",
        "def getPassword():\n",
        "  try:\n",
        "    return password if password else None\n",
        "  except NameError:\n",
        "    return None\n",
        "\n",
        "submission_id = None\n",
        "### Setup \n",
        "if getPassword() and getId():\n",
        "  submission_id = submit_notebook()\n",
        "  if submission_id:\n",
        "    setup() \n",
        "else:\n",
        "  print (\"Please complete Id and Password cells before running setup\")\n",
        "\n"
      ],
      "execution_count": 9,
      "outputs": [
        {
          "output_type": "display_data",
          "data": {
            "text/html": [
              "<script src=\"https://dashboard.talentsprint.com/aiml/record_ip.html?traineeId=2200092&recordId=5272\"></script>"
            ],
            "text/plain": [
              "<IPython.core.display.HTML object>"
            ]
          },
          "metadata": {}
        },
        {
          "output_type": "stream",
          "name": "stdout",
          "text": [
            "Setup completed successfully\n"
          ]
        }
      ]
    },
    {
      "cell_type": "markdown",
      "metadata": {
        "id": "tAu6v-CnA8zj"
      },
      "source": [
        "### Import required packages"
      ]
    },
    {
      "cell_type": "code",
      "metadata": {
        "id": "7SRN62EfayXM"
      },
      "source": [
        "# install livelossplot package to visualize epoch by epoch loss and accuracy curve\n",
        "!pip -qq install livelossplot"
      ],
      "execution_count": 10,
      "outputs": []
    },
    {
      "cell_type": "code",
      "metadata": {
        "id": "Fw83tjrgdqNO"
      },
      "source": [
        "import numpy as np\n",
        "import pandas as pd\n",
        "from sklearn.metrics import mean_squared_error             \n",
        "from sklearn.preprocessing import StandardScaler, LabelEncoder, MinMaxScaler              # scaling functions from sklearn\n",
        "from sklearn.model_selection import RandomizedSearchCV, train_test_split                  # search on hyperparameters\n",
        "from functools import partial                                                             # partial functions\n",
        "import tensorflow as tf                                                                   # importing tensorflow library\n",
        "from tensorflow import keras                                                              # importing keras package\n",
        "from scipy.stats import reciprocal \n",
        "from sklearn.neural_network import MLPRegressor                                           # importing MLP regressor            \n",
        "from tensorflow.keras.optimizers import SGD                                               # stochastic Gradient Descent\n",
        "from tensorflow.keras.utils import to_categorical                                         # converting a class to categorical data type\n",
        "from keras.datasets import mnist                                                          # load mnist dataset\n",
        "import livelossplot                                                                       # visualize loss and accuracy \n",
        "from keras.models import Sequential                                                       # using keras importing Sequential Model\n",
        "from keras.layers import Activation, Dense, Input, Flatten, Dropout, BatchNormalization   # using keras importing layers                                    \n",
        "from keras.callbacks import EarlyStopping                                                 # to stop the training process"
      ],
      "execution_count": 11,
      "outputs": []
    },
    {
      "cell_type": "markdown",
      "metadata": {
        "id": "dLVYkKdrdqNV"
      },
      "source": [
        "### Building a Regression MLP "
      ]
    },
    {
      "cell_type": "markdown",
      "metadata": {
        "id": "e5YpbtWMdqNX"
      },
      "source": [
        "Here, in this implementation, we will be using California housing problem and tackle it using a regression neural network."
      ]
    },
    {
      "cell_type": "markdown",
      "metadata": {
        "id": "VE9ZZHrjdqNY"
      },
      "source": [
        "#### Data Preparation"
      ]
    },
    {
      "cell_type": "code",
      "metadata": {
        "id": "j2NZQqhkdqNZ",
        "colab": {
          "base_uri": "https://localhost:8080/",
          "height": 204
        },
        "outputId": "61faf9c7-7642-4820-f98e-281adc81de8e"
      },
      "source": [
        "# train dataset\n",
        "df_train = pd.read_csv('/content/sample_data/california_housing_train.csv')\n",
        "df_train.head()"
      ],
      "execution_count": 12,
      "outputs": [
        {
          "output_type": "execute_result",
          "data": {
            "text/html": [
              "<div>\n",
              "<style scoped>\n",
              "    .dataframe tbody tr th:only-of-type {\n",
              "        vertical-align: middle;\n",
              "    }\n",
              "\n",
              "    .dataframe tbody tr th {\n",
              "        vertical-align: top;\n",
              "    }\n",
              "\n",
              "    .dataframe thead th {\n",
              "        text-align: right;\n",
              "    }\n",
              "</style>\n",
              "<table border=\"1\" class=\"dataframe\">\n",
              "  <thead>\n",
              "    <tr style=\"text-align: right;\">\n",
              "      <th></th>\n",
              "      <th>longitude</th>\n",
              "      <th>latitude</th>\n",
              "      <th>housing_median_age</th>\n",
              "      <th>total_rooms</th>\n",
              "      <th>total_bedrooms</th>\n",
              "      <th>population</th>\n",
              "      <th>households</th>\n",
              "      <th>median_income</th>\n",
              "      <th>median_house_value</th>\n",
              "    </tr>\n",
              "  </thead>\n",
              "  <tbody>\n",
              "    <tr>\n",
              "      <th>0</th>\n",
              "      <td>-114.31</td>\n",
              "      <td>34.19</td>\n",
              "      <td>15.0</td>\n",
              "      <td>5612.0</td>\n",
              "      <td>1283.0</td>\n",
              "      <td>1015.0</td>\n",
              "      <td>472.0</td>\n",
              "      <td>1.4936</td>\n",
              "      <td>66900.0</td>\n",
              "    </tr>\n",
              "    <tr>\n",
              "      <th>1</th>\n",
              "      <td>-114.47</td>\n",
              "      <td>34.40</td>\n",
              "      <td>19.0</td>\n",
              "      <td>7650.0</td>\n",
              "      <td>1901.0</td>\n",
              "      <td>1129.0</td>\n",
              "      <td>463.0</td>\n",
              "      <td>1.8200</td>\n",
              "      <td>80100.0</td>\n",
              "    </tr>\n",
              "    <tr>\n",
              "      <th>2</th>\n",
              "      <td>-114.56</td>\n",
              "      <td>33.69</td>\n",
              "      <td>17.0</td>\n",
              "      <td>720.0</td>\n",
              "      <td>174.0</td>\n",
              "      <td>333.0</td>\n",
              "      <td>117.0</td>\n",
              "      <td>1.6509</td>\n",
              "      <td>85700.0</td>\n",
              "    </tr>\n",
              "    <tr>\n",
              "      <th>3</th>\n",
              "      <td>-114.57</td>\n",
              "      <td>33.64</td>\n",
              "      <td>14.0</td>\n",
              "      <td>1501.0</td>\n",
              "      <td>337.0</td>\n",
              "      <td>515.0</td>\n",
              "      <td>226.0</td>\n",
              "      <td>3.1917</td>\n",
              "      <td>73400.0</td>\n",
              "    </tr>\n",
              "    <tr>\n",
              "      <th>4</th>\n",
              "      <td>-114.57</td>\n",
              "      <td>33.57</td>\n",
              "      <td>20.0</td>\n",
              "      <td>1454.0</td>\n",
              "      <td>326.0</td>\n",
              "      <td>624.0</td>\n",
              "      <td>262.0</td>\n",
              "      <td>1.9250</td>\n",
              "      <td>65500.0</td>\n",
              "    </tr>\n",
              "  </tbody>\n",
              "</table>\n",
              "</div>"
            ],
            "text/plain": [
              "   longitude  latitude  ...  median_income  median_house_value\n",
              "0    -114.31     34.19  ...         1.4936             66900.0\n",
              "1    -114.47     34.40  ...         1.8200             80100.0\n",
              "2    -114.56     33.69  ...         1.6509             85700.0\n",
              "3    -114.57     33.64  ...         3.1917             73400.0\n",
              "4    -114.57     33.57  ...         1.9250             65500.0\n",
              "\n",
              "[5 rows x 9 columns]"
            ]
          },
          "metadata": {},
          "execution_count": 12
        }
      ]
    },
    {
      "cell_type": "code",
      "metadata": {
        "id": "-aToiAvNdqNb",
        "colab": {
          "base_uri": "https://localhost:8080/",
          "height": 204
        },
        "outputId": "dedf3f41-b3d4-4032-b092-3a75724600a8"
      },
      "source": [
        "# test dataset\n",
        "df_test = pd.read_csv('/content/sample_data/california_housing_test.csv')\n",
        "df_test.head()"
      ],
      "execution_count": 13,
      "outputs": [
        {
          "output_type": "execute_result",
          "data": {
            "text/html": [
              "<div>\n",
              "<style scoped>\n",
              "    .dataframe tbody tr th:only-of-type {\n",
              "        vertical-align: middle;\n",
              "    }\n",
              "\n",
              "    .dataframe tbody tr th {\n",
              "        vertical-align: top;\n",
              "    }\n",
              "\n",
              "    .dataframe thead th {\n",
              "        text-align: right;\n",
              "    }\n",
              "</style>\n",
              "<table border=\"1\" class=\"dataframe\">\n",
              "  <thead>\n",
              "    <tr style=\"text-align: right;\">\n",
              "      <th></th>\n",
              "      <th>longitude</th>\n",
              "      <th>latitude</th>\n",
              "      <th>housing_median_age</th>\n",
              "      <th>total_rooms</th>\n",
              "      <th>total_bedrooms</th>\n",
              "      <th>population</th>\n",
              "      <th>households</th>\n",
              "      <th>median_income</th>\n",
              "      <th>median_house_value</th>\n",
              "    </tr>\n",
              "  </thead>\n",
              "  <tbody>\n",
              "    <tr>\n",
              "      <th>0</th>\n",
              "      <td>-122.05</td>\n",
              "      <td>37.37</td>\n",
              "      <td>27.0</td>\n",
              "      <td>3885.0</td>\n",
              "      <td>661.0</td>\n",
              "      <td>1537.0</td>\n",
              "      <td>606.0</td>\n",
              "      <td>6.6085</td>\n",
              "      <td>344700.0</td>\n",
              "    </tr>\n",
              "    <tr>\n",
              "      <th>1</th>\n",
              "      <td>-118.30</td>\n",
              "      <td>34.26</td>\n",
              "      <td>43.0</td>\n",
              "      <td>1510.0</td>\n",
              "      <td>310.0</td>\n",
              "      <td>809.0</td>\n",
              "      <td>277.0</td>\n",
              "      <td>3.5990</td>\n",
              "      <td>176500.0</td>\n",
              "    </tr>\n",
              "    <tr>\n",
              "      <th>2</th>\n",
              "      <td>-117.81</td>\n",
              "      <td>33.78</td>\n",
              "      <td>27.0</td>\n",
              "      <td>3589.0</td>\n",
              "      <td>507.0</td>\n",
              "      <td>1484.0</td>\n",
              "      <td>495.0</td>\n",
              "      <td>5.7934</td>\n",
              "      <td>270500.0</td>\n",
              "    </tr>\n",
              "    <tr>\n",
              "      <th>3</th>\n",
              "      <td>-118.36</td>\n",
              "      <td>33.82</td>\n",
              "      <td>28.0</td>\n",
              "      <td>67.0</td>\n",
              "      <td>15.0</td>\n",
              "      <td>49.0</td>\n",
              "      <td>11.0</td>\n",
              "      <td>6.1359</td>\n",
              "      <td>330000.0</td>\n",
              "    </tr>\n",
              "    <tr>\n",
              "      <th>4</th>\n",
              "      <td>-119.67</td>\n",
              "      <td>36.33</td>\n",
              "      <td>19.0</td>\n",
              "      <td>1241.0</td>\n",
              "      <td>244.0</td>\n",
              "      <td>850.0</td>\n",
              "      <td>237.0</td>\n",
              "      <td>2.9375</td>\n",
              "      <td>81700.0</td>\n",
              "    </tr>\n",
              "  </tbody>\n",
              "</table>\n",
              "</div>"
            ],
            "text/plain": [
              "   longitude  latitude  ...  median_income  median_house_value\n",
              "0    -122.05     37.37  ...         6.6085            344700.0\n",
              "1    -118.30     34.26  ...         3.5990            176500.0\n",
              "2    -117.81     33.78  ...         5.7934            270500.0\n",
              "3    -118.36     33.82  ...         6.1359            330000.0\n",
              "4    -119.67     36.33  ...         2.9375             81700.0\n",
              "\n",
              "[5 rows x 9 columns]"
            ]
          },
          "metadata": {},
          "execution_count": 13
        }
      ]
    },
    {
      "cell_type": "code",
      "metadata": {
        "id": "JyyGRVgVdqNc",
        "colab": {
          "base_uri": "https://localhost:8080/"
        },
        "outputId": "02780494-7c03-4ad2-a198-211c94bab59c"
      },
      "source": [
        "# printing train dataset information\n",
        "df_train.info()"
      ],
      "execution_count": 14,
      "outputs": [
        {
          "output_type": "stream",
          "name": "stdout",
          "text": [
            "<class 'pandas.core.frame.DataFrame'>\n",
            "RangeIndex: 17000 entries, 0 to 16999\n",
            "Data columns (total 9 columns):\n",
            " #   Column              Non-Null Count  Dtype  \n",
            "---  ------              --------------  -----  \n",
            " 0   longitude           17000 non-null  float64\n",
            " 1   latitude            17000 non-null  float64\n",
            " 2   housing_median_age  17000 non-null  float64\n",
            " 3   total_rooms         17000 non-null  float64\n",
            " 4   total_bedrooms      17000 non-null  float64\n",
            " 5   population          17000 non-null  float64\n",
            " 6   households          17000 non-null  float64\n",
            " 7   median_income       17000 non-null  float64\n",
            " 8   median_house_value  17000 non-null  float64\n",
            "dtypes: float64(9)\n",
            "memory usage: 1.2 MB\n"
          ]
        }
      ]
    },
    {
      "cell_type": "code",
      "metadata": {
        "id": "qV-lUMrIdqNd",
        "colab": {
          "base_uri": "https://localhost:8080/"
        },
        "outputId": "08e85a56-1b25-4cc9-f196-c8520404e1ea"
      },
      "source": [
        "# printing test dataset information\n",
        "df_test.info()"
      ],
      "execution_count": 15,
      "outputs": [
        {
          "output_type": "stream",
          "name": "stdout",
          "text": [
            "<class 'pandas.core.frame.DataFrame'>\n",
            "RangeIndex: 3000 entries, 0 to 2999\n",
            "Data columns (total 9 columns):\n",
            " #   Column              Non-Null Count  Dtype  \n",
            "---  ------              --------------  -----  \n",
            " 0   longitude           3000 non-null   float64\n",
            " 1   latitude            3000 non-null   float64\n",
            " 2   housing_median_age  3000 non-null   float64\n",
            " 3   total_rooms         3000 non-null   float64\n",
            " 4   total_bedrooms      3000 non-null   float64\n",
            " 5   population          3000 non-null   float64\n",
            " 6   households          3000 non-null   float64\n",
            " 7   median_income       3000 non-null   float64\n",
            " 8   median_house_value  3000 non-null   float64\n",
            "dtypes: float64(9)\n",
            "memory usage: 211.1 KB\n"
          ]
        }
      ]
    },
    {
      "cell_type": "markdown",
      "metadata": {
        "id": "e_Vwj6P4dqNe"
      },
      "source": [
        "#### Train and Test Data"
      ]
    },
    {
      "cell_type": "code",
      "metadata": {
        "id": "wISS_1e2dqNf"
      },
      "source": [
        "X_train = df_train.drop('median_house_value',axis=1)\n",
        "y_train = df_train['median_house_value']\n",
        "X_test = df_test.drop('median_house_value',axis=1)\n",
        "y_test = df_test['median_house_value']"
      ],
      "execution_count": 16,
      "outputs": []
    },
    {
      "cell_type": "markdown",
      "metadata": {
        "id": "h9Zhd27edqNg"
      },
      "source": [
        "#### Scaling Features"
      ]
    },
    {
      "cell_type": "code",
      "metadata": {
        "id": "MLnjSOd6dqNh"
      },
      "source": [
        "scaler = MinMaxScaler()\n",
        "X_train= scaler.fit_transform(X_train)\n",
        "X_test = scaler.transform(X_test)"
      ],
      "execution_count": 17,
      "outputs": []
    },
    {
      "cell_type": "markdown",
      "metadata": {
        "id": "ZDSuABdjdqNi"
      },
      "source": [
        "There are two ways to implement MLP regressor one is using keras and the other way is using Scikit-Learn. In this section, we will discuss both two ways."
      ]
    },
    {
      "cell_type": "markdown",
      "metadata": {
        "id": "8fnY7eWpdqNj"
      },
      "source": [
        "#### 1. Using Keras API"
      ]
    },
    {
      "cell_type": "markdown",
      "metadata": {
        "id": "rzTaNnmudqNk"
      },
      "source": [
        "Building, training, evaluating, and using a regression MLP using the Sequential API to make  predictions  is  quite  similar  to  what  we  did  for classification.  The  main  differences  are  the  fact  that  the  output  layer  has  a  single  neuron  (since  we  only  want  to predict  a  single  value)  and  uses  no  activation  function,  and  the  loss  function  is  the mean squared error. Since the dataset is quite noisy, we just use a single hidden layer with fewer neurons than before, to avoid overfitting:"
      ]
    },
    {
      "cell_type": "code",
      "metadata": {
        "id": "WdUBydS0dqNl"
      },
      "source": [
        "# create a model with two layers\n",
        "model = Sequential([\n",
        "                    Dense(30, activation=\"relu\", input_shape=X_train.shape[1:]),\n",
        "                    Dense(1)\n",
        "                    ])\n",
        "model.compile(optimizer='adam', loss='mse')"
      ],
      "execution_count": 18,
      "outputs": []
    },
    {
      "cell_type": "markdown",
      "metadata": {
        "id": "glssNoESfQC_"
      },
      "source": [
        "Keras supports the early stopping of training via a callback called EarlyStopping.\n",
        "\n",
        "This callback allows you to specify the performance measure to monitor, the trigger, and once triggered, it will stop the training process.\n",
        "\n",
        "The EarlyStopping callback is configured when instantiated via arguments."
      ]
    },
    {
      "cell_type": "code",
      "metadata": {
        "id": "X7MdewIYdqNm",
        "colab": {
          "base_uri": "https://localhost:8080/"
        },
        "outputId": "f9218d89-1d90-4278-c641-ede147f2096b"
      },
      "source": [
        "# defining early stop \n",
        "early_stop = EarlyStopping(monitor='val_loss', mode='min', verbose=1, patience=10)\n",
        "\n",
        "# fitting the model\n",
        "model.fit(x=X_train,y=y_train.values,\n",
        "          validation_data=(X_test,y_test.values),\n",
        "          batch_size=128,epochs=400, callbacks=[early_stop])\n",
        "          "
      ],
      "execution_count": 19,
      "outputs": [
        {
          "output_type": "stream",
          "name": "stdout",
          "text": [
            "Epoch 1/400\n",
            "133/133 [==============================] - 1s 2ms/step - loss: 56424579072.0000 - val_loss: 55163228160.0000\n",
            "Epoch 2/400\n",
            "133/133 [==============================] - 0s 1ms/step - loss: 56422551552.0000 - val_loss: 55160360960.0000\n",
            "Epoch 3/400\n",
            "133/133 [==============================] - 0s 1ms/step - loss: 56418721792.0000 - val_loss: 55155621888.0000\n",
            "Epoch 4/400\n",
            "133/133 [==============================] - 0s 1ms/step - loss: 56413007872.0000 - val_loss: 55149002752.0000\n",
            "Epoch 5/400\n",
            "133/133 [==============================] - 0s 1ms/step - loss: 56405401600.0000 - val_loss: 55140536320.0000\n",
            "Epoch 6/400\n",
            "133/133 [==============================] - 0s 1ms/step - loss: 56395833344.0000 - val_loss: 55130054656.0000\n",
            "Epoch 7/400\n",
            "133/133 [==============================] - 0s 1ms/step - loss: 56384339968.0000 - val_loss: 55117836288.0000\n",
            "Epoch 8/400\n",
            "133/133 [==============================] - 0s 1ms/step - loss: 56371159040.0000 - val_loss: 55103983616.0000\n",
            "Epoch 9/400\n",
            "133/133 [==============================] - 0s 1ms/step - loss: 56356446208.0000 - val_loss: 55088644096.0000\n",
            "Epoch 10/400\n",
            "133/133 [==============================] - 0s 1ms/step - loss: 56340213760.0000 - val_loss: 55071850496.0000\n",
            "Epoch 11/400\n",
            "133/133 [==============================] - 0s 1ms/step - loss: 56322535424.0000 - val_loss: 55053643776.0000\n",
            "Epoch 12/400\n",
            "133/133 [==============================] - 0s 1ms/step - loss: 56303493120.0000 - val_loss: 55034109952.0000\n",
            "Epoch 13/400\n",
            "133/133 [==============================] - 0s 1ms/step - loss: 56283078656.0000 - val_loss: 55013273600.0000\n",
            "Epoch 14/400\n",
            "133/133 [==============================] - 0s 1ms/step - loss: 56261394432.0000 - val_loss: 54991163392.0000\n",
            "Epoch 15/400\n",
            "133/133 [==============================] - 0s 1ms/step - loss: 56238452736.0000 - val_loss: 54967848960.0000\n",
            "Epoch 16/400\n",
            "133/133 [==============================] - 0s 1ms/step - loss: 56214315008.0000 - val_loss: 54943395840.0000\n",
            "Epoch 17/400\n",
            "133/133 [==============================] - 0s 1ms/step - loss: 56189014016.0000 - val_loss: 54917746688.0000\n",
            "Epoch 18/400\n",
            "133/133 [==============================] - 0s 1ms/step - loss: 56162553856.0000 - val_loss: 54890975232.0000\n",
            "Epoch 19/400\n",
            "133/133 [==============================] - 0s 1ms/step - loss: 56134983680.0000 - val_loss: 54863183872.0000\n",
            "Epoch 20/400\n",
            "133/133 [==============================] - 0s 1ms/step - loss: 56106344448.0000 - val_loss: 54834278400.0000\n",
            "Epoch 21/400\n",
            "133/133 [==============================] - 0s 1ms/step - loss: 56076652544.0000 - val_loss: 54804373504.0000\n",
            "Epoch 22/400\n",
            "133/133 [==============================] - 0s 1ms/step - loss: 56045916160.0000 - val_loss: 54773403648.0000\n",
            "Epoch 23/400\n",
            "133/133 [==============================] - 0s 1ms/step - loss: 56014176256.0000 - val_loss: 54741504000.0000\n",
            "Epoch 24/400\n",
            "133/133 [==============================] - 0s 1ms/step - loss: 55981436928.0000 - val_loss: 54708592640.0000\n",
            "Epoch 25/400\n",
            "133/133 [==============================] - 0s 1ms/step - loss: 55947710464.0000 - val_loss: 54674784256.0000\n",
            "Epoch 26/400\n",
            "133/133 [==============================] - 0s 1ms/step - loss: 55913037824.0000 - val_loss: 54639898624.0000\n",
            "Epoch 27/400\n",
            "133/133 [==============================] - 0s 1ms/step - loss: 55877406720.0000 - val_loss: 54604201984.0000\n",
            "Epoch 28/400\n",
            "133/133 [==============================] - 0s 1ms/step - loss: 55840849920.0000 - val_loss: 54567538688.0000\n",
            "Epoch 29/400\n",
            "133/133 [==============================] - 0s 1ms/step - loss: 55803342848.0000 - val_loss: 54529990656.0000\n",
            "Epoch 30/400\n",
            "133/133 [==============================] - 0s 1ms/step - loss: 55764951040.0000 - val_loss: 54491492352.0000\n",
            "Epoch 31/400\n",
            "133/133 [==============================] - 0s 1ms/step - loss: 55725678592.0000 - val_loss: 54452125696.0000\n",
            "Epoch 32/400\n",
            "133/133 [==============================] - 0s 1ms/step - loss: 55685476352.0000 - val_loss: 54411939840.0000\n",
            "Epoch 33/400\n",
            "133/133 [==============================] - 0s 1ms/step - loss: 55644405760.0000 - val_loss: 54370873344.0000\n",
            "Epoch 34/400\n",
            "133/133 [==============================] - 0s 1ms/step - loss: 55602470912.0000 - val_loss: 54328901632.0000\n",
            "Epoch 35/400\n",
            "133/133 [==============================] - 0s 1ms/step - loss: 55559680000.0000 - val_loss: 54286061568.0000\n",
            "Epoch 36/400\n",
            "133/133 [==============================] - 0s 1ms/step - loss: 55516041216.0000 - val_loss: 54242545664.0000\n",
            "Epoch 37/400\n",
            "133/133 [==============================] - 0s 1ms/step - loss: 55471538176.0000 - val_loss: 54197968896.0000\n",
            "Epoch 38/400\n",
            "133/133 [==============================] - 0s 1ms/step - loss: 55426179072.0000 - val_loss: 54152736768.0000\n",
            "Epoch 39/400\n",
            "133/133 [==============================] - 0s 1ms/step - loss: 55379996672.0000 - val_loss: 54106525696.0000\n",
            "Epoch 40/400\n",
            "133/133 [==============================] - 0s 1ms/step - loss: 55332982784.0000 - val_loss: 54059577344.0000\n",
            "Epoch 41/400\n",
            "133/133 [==============================] - 0s 1ms/step - loss: 55285137408.0000 - val_loss: 54011809792.0000\n",
            "Epoch 42/400\n",
            "133/133 [==============================] - 0s 1ms/step - loss: 55236476928.0000 - val_loss: 53963272192.0000\n",
            "Epoch 43/400\n",
            "133/133 [==============================] - 0s 1ms/step - loss: 55187001344.0000 - val_loss: 53913817088.0000\n",
            "Epoch 44/400\n",
            "133/133 [==============================] - 0s 1ms/step - loss: 55136673792.0000 - val_loss: 53863665664.0000\n",
            "Epoch 45/400\n",
            "133/133 [==============================] - 0s 1ms/step - loss: 55085588480.0000 - val_loss: 53812686848.0000\n",
            "Epoch 46/400\n",
            "133/133 [==============================] - 0s 1ms/step - loss: 55033683968.0000 - val_loss: 53760876544.0000\n",
            "Epoch 47/400\n",
            "133/133 [==============================] - 0s 1ms/step - loss: 54980960256.0000 - val_loss: 53708341248.0000\n",
            "Epoch 48/400\n",
            "133/133 [==============================] - 0s 1ms/step - loss: 54927441920.0000 - val_loss: 53654970368.0000\n",
            "Epoch 49/400\n",
            "133/133 [==============================] - 0s 1ms/step - loss: 54873124864.0000 - val_loss: 53600874496.0000\n",
            "Epoch 50/400\n",
            "133/133 [==============================] - 0s 1ms/step - loss: 54818054144.0000 - val_loss: 53545799680.0000\n",
            "Epoch 51/400\n",
            "133/133 [==============================] - 0s 1ms/step - loss: 54762164224.0000 - val_loss: 53490245632.0000\n",
            "Epoch 52/400\n",
            "133/133 [==============================] - 0s 1ms/step - loss: 54705512448.0000 - val_loss: 53433683968.0000\n",
            "Epoch 53/400\n",
            "133/133 [==============================] - 0s 1ms/step - loss: 54648078336.0000 - val_loss: 53376405504.0000\n",
            "Epoch 54/400\n",
            "133/133 [==============================] - 0s 1ms/step - loss: 54589886464.0000 - val_loss: 53318393856.0000\n",
            "Epoch 55/400\n",
            "133/133 [==============================] - 0s 1ms/step - loss: 54530936832.0000 - val_loss: 53259644928.0000\n",
            "Epoch 56/400\n",
            "133/133 [==============================] - 0s 1ms/step - loss: 54471188480.0000 - val_loss: 53200220160.0000\n",
            "Epoch 57/400\n",
            "133/133 [==============================] - 0s 1ms/step - loss: 54410674176.0000 - val_loss: 53139886080.0000\n",
            "Epoch 58/400\n",
            "133/133 [==============================] - 0s 1ms/step - loss: 54349418496.0000 - val_loss: 53078884352.0000\n",
            "Epoch 59/400\n",
            "133/133 [==============================] - 0s 1ms/step - loss: 54287380480.0000 - val_loss: 53017153536.0000\n",
            "Epoch 60/400\n",
            "133/133 [==============================] - 0s 1ms/step - loss: 54224580608.0000 - val_loss: 52954558464.0000\n",
            "Epoch 61/400\n",
            "133/133 [==============================] - 0s 1ms/step - loss: 54161063936.0000 - val_loss: 52891332608.0000\n",
            "Epoch 62/400\n",
            "133/133 [==============================] - 0s 1ms/step - loss: 54096764928.0000 - val_loss: 52827254784.0000\n",
            "Epoch 63/400\n",
            "133/133 [==============================] - 0s 1ms/step - loss: 54031720448.0000 - val_loss: 52762554368.0000\n",
            "Epoch 64/400\n",
            "133/133 [==============================] - 0s 1ms/step - loss: 53965930496.0000 - val_loss: 52697055232.0000\n",
            "Epoch 65/400\n",
            "133/133 [==============================] - 0s 1ms/step - loss: 53899423744.0000 - val_loss: 52630851584.0000\n",
            "Epoch 66/400\n",
            "133/133 [==============================] - 0s 1ms/step - loss: 53832146944.0000 - val_loss: 52564033536.0000\n",
            "Epoch 67/400\n",
            "133/133 [==============================] - 0s 1ms/step - loss: 53764149248.0000 - val_loss: 52496195584.0000\n",
            "Epoch 68/400\n",
            "133/133 [==============================] - 0s 1ms/step - loss: 53695389696.0000 - val_loss: 52427816960.0000\n",
            "Epoch 69/400\n",
            "133/133 [==============================] - 0s 1ms/step - loss: 53625950208.0000 - val_loss: 52358676480.0000\n",
            "Epoch 70/400\n",
            "133/133 [==============================] - 0s 1ms/step - loss: 53555744768.0000 - val_loss: 52288860160.0000\n",
            "Epoch 71/400\n",
            "133/133 [==============================] - 0s 1ms/step - loss: 53484851200.0000 - val_loss: 52218339328.0000\n",
            "Epoch 72/400\n",
            "133/133 [==============================] - 0s 1ms/step - loss: 53413199872.0000 - val_loss: 52147122176.0000\n",
            "Epoch 73/400\n",
            "133/133 [==============================] - 0s 1ms/step - loss: 53340860416.0000 - val_loss: 52075065344.0000\n",
            "Epoch 74/400\n",
            "133/133 [==============================] - 0s 1ms/step - loss: 53267800064.0000 - val_loss: 52002377728.0000\n",
            "Epoch 75/400\n",
            "133/133 [==============================] - 0s 1ms/step - loss: 53194027008.0000 - val_loss: 51929038848.0000\n",
            "Epoch 76/400\n",
            "133/133 [==============================] - 0s 1ms/step - loss: 53119533056.0000 - val_loss: 51854950400.0000\n",
            "Epoch 77/400\n",
            "133/133 [==============================] - 0s 1ms/step - loss: 53044322304.0000 - val_loss: 51780104192.0000\n",
            "Epoch 78/400\n",
            "133/133 [==============================] - 0s 1ms/step - loss: 52968411136.0000 - val_loss: 51704713216.0000\n",
            "Epoch 79/400\n",
            "133/133 [==============================] - 0s 1ms/step - loss: 52891811840.0000 - val_loss: 51628556288.0000\n",
            "Epoch 80/400\n",
            "133/133 [==============================] - 0s 1ms/step - loss: 52814516224.0000 - val_loss: 51551637504.0000\n",
            "Epoch 81/400\n",
            "133/133 [==============================] - 0s 1ms/step - loss: 52736503808.0000 - val_loss: 51474120704.0000\n",
            "Epoch 82/400\n",
            "133/133 [==============================] - 0s 1ms/step - loss: 52657848320.0000 - val_loss: 51395928064.0000\n",
            "Epoch 83/400\n",
            "133/133 [==============================] - 0s 1ms/step - loss: 52578480128.0000 - val_loss: 51316891648.0000\n",
            "Epoch 84/400\n",
            "133/133 [==============================] - 0s 1ms/step - loss: 52498415616.0000 - val_loss: 51237437440.0000\n",
            "Epoch 85/400\n",
            "133/133 [==============================] - 0s 1ms/step - loss: 52417662976.0000 - val_loss: 51157176320.0000\n",
            "Epoch 86/400\n",
            "133/133 [==============================] - 0s 1ms/step - loss: 52336214016.0000 - val_loss: 51076259840.0000\n",
            "Epoch 87/400\n",
            "133/133 [==============================] - 0s 1ms/step - loss: 52254113792.0000 - val_loss: 50994581504.0000\n",
            "Epoch 88/400\n",
            "133/133 [==============================] - 0s 1ms/step - loss: 52171300864.0000 - val_loss: 50912407552.0000\n",
            "Epoch 89/400\n",
            "133/133 [==============================] - 0s 2ms/step - loss: 52087861248.0000 - val_loss: 50829398016.0000\n",
            "Epoch 90/400\n",
            "133/133 [==============================] - 0s 1ms/step - loss: 52003733504.0000 - val_loss: 50745888768.0000\n",
            "Epoch 91/400\n",
            "133/133 [==============================] - 0s 1ms/step - loss: 51918958592.0000 - val_loss: 50661523456.0000\n",
            "Epoch 92/400\n",
            "133/133 [==============================] - 0s 1ms/step - loss: 51833479168.0000 - val_loss: 50576691200.0000\n",
            "Epoch 93/400\n",
            "133/133 [==============================] - 0s 1ms/step - loss: 51747385344.0000 - val_loss: 50491170816.0000\n",
            "Epoch 94/400\n",
            "133/133 [==============================] - 0s 1ms/step - loss: 51660644352.0000 - val_loss: 50404806656.0000\n",
            "Epoch 95/400\n",
            "133/133 [==============================] - 0s 1ms/step - loss: 51573248000.0000 - val_loss: 50318053376.0000\n",
            "Epoch 96/400\n",
            "133/133 [==============================] - 0s 1ms/step - loss: 51485192192.0000 - val_loss: 50230620160.0000\n",
            "Epoch 97/400\n",
            "133/133 [==============================] - 0s 1ms/step - loss: 51396526080.0000 - val_loss: 50142502912.0000\n",
            "Epoch 98/400\n",
            "133/133 [==============================] - 0s 1ms/step - loss: 51307175936.0000 - val_loss: 50053844992.0000\n",
            "Epoch 99/400\n",
            "133/133 [==============================] - 0s 1ms/step - loss: 51217178624.0000 - val_loss: 49964437504.0000\n",
            "Epoch 100/400\n",
            "133/133 [==============================] - 0s 1ms/step - loss: 51126587392.0000 - val_loss: 49874345984.0000\n",
            "Epoch 101/400\n",
            "133/133 [==============================] - 0s 1ms/step - loss: 51035348992.0000 - val_loss: 49783758848.0000\n",
            "Epoch 102/400\n",
            "133/133 [==============================] - 0s 1ms/step - loss: 50943455232.0000 - val_loss: 49692581888.0000\n",
            "Epoch 103/400\n",
            "133/133 [==============================] - 0s 1ms/step - loss: 50850955264.0000 - val_loss: 49600798720.0000\n",
            "Epoch 104/400\n",
            "133/133 [==============================] - 0s 1ms/step - loss: 50757808128.0000 - val_loss: 49508220928.0000\n",
            "Epoch 105/400\n",
            "133/133 [==============================] - 0s 1ms/step - loss: 50664034304.0000 - val_loss: 49415098368.0000\n",
            "Epoch 106/400\n",
            "133/133 [==============================] - 0s 1ms/step - loss: 50569609216.0000 - val_loss: 49321476096.0000\n",
            "Epoch 107/400\n",
            "133/133 [==============================] - 0s 1ms/step - loss: 50474610688.0000 - val_loss: 49227132928.0000\n",
            "Epoch 108/400\n",
            "133/133 [==============================] - 0s 1ms/step - loss: 50378985472.0000 - val_loss: 49132167168.0000\n",
            "Epoch 109/400\n",
            "133/133 [==============================] - 0s 1ms/step - loss: 50282754048.0000 - val_loss: 49036636160.0000\n",
            "Epoch 110/400\n",
            "133/133 [==============================] - 0s 1ms/step - loss: 50185932800.0000 - val_loss: 48940576768.0000\n",
            "Epoch 111/400\n",
            "133/133 [==============================] - 0s 1ms/step - loss: 50088542208.0000 - val_loss: 48843849728.0000\n",
            "Epoch 112/400\n",
            "133/133 [==============================] - 0s 1ms/step - loss: 49990537216.0000 - val_loss: 48746475520.0000\n",
            "Epoch 113/400\n",
            "133/133 [==============================] - 0s 1ms/step - loss: 49891938304.0000 - val_loss: 48648585216.0000\n",
            "Epoch 114/400\n",
            "133/133 [==============================] - 0s 1ms/step - loss: 49792749568.0000 - val_loss: 48550199296.0000\n",
            "Epoch 115/400\n",
            "133/133 [==============================] - 0s 1ms/step - loss: 49692995584.0000 - val_loss: 48451211264.0000\n",
            "Epoch 116/400\n",
            "133/133 [==============================] - 0s 1ms/step - loss: 49592594432.0000 - val_loss: 48351604736.0000\n",
            "Epoch 117/400\n",
            "133/133 [==============================] - 0s 1ms/step - loss: 49491623936.0000 - val_loss: 48251441152.0000\n",
            "Epoch 118/400\n",
            "133/133 [==============================] - 0s 1ms/step - loss: 49390125056.0000 - val_loss: 48150581248.0000\n",
            "Epoch 119/400\n",
            "133/133 [==============================] - 0s 1ms/step - loss: 49287962624.0000 - val_loss: 48049291264.0000\n",
            "Epoch 120/400\n",
            "133/133 [==============================] - 0s 1ms/step - loss: 49185267712.0000 - val_loss: 47947526144.0000\n",
            "Epoch 121/400\n",
            "133/133 [==============================] - 0s 1ms/step - loss: 49082032128.0000 - val_loss: 47844806656.0000\n",
            "Epoch 122/400\n",
            "133/133 [==============================] - 0s 1ms/step - loss: 48978219008.0000 - val_loss: 47741890560.0000\n",
            "Epoch 123/400\n",
            "133/133 [==============================] - 0s 1ms/step - loss: 48873852928.0000 - val_loss: 47638351872.0000\n",
            "Epoch 124/400\n",
            "133/133 [==============================] - 0s 1ms/step - loss: 48768946176.0000 - val_loss: 47534243840.0000\n",
            "Epoch 125/400\n",
            "133/133 [==============================] - 0s 1ms/step - loss: 48663498752.0000 - val_loss: 47429468160.0000\n",
            "Epoch 126/400\n",
            "133/133 [==============================] - 0s 1ms/step - loss: 48557461504.0000 - val_loss: 47324487680.0000\n",
            "Epoch 127/400\n",
            "133/133 [==============================] - 0s 1ms/step - loss: 48450883584.0000 - val_loss: 47218753536.0000\n",
            "Epoch 128/400\n",
            "133/133 [==============================] - 0s 1ms/step - loss: 48343748608.0000 - val_loss: 47112437760.0000\n",
            "Epoch 129/400\n",
            "133/133 [==============================] - 0s 1ms/step - loss: 48236113920.0000 - val_loss: 47005622272.0000\n",
            "Epoch 130/400\n",
            "133/133 [==============================] - 0s 1ms/step - loss: 48127942656.0000 - val_loss: 46898339840.0000\n",
            "Epoch 131/400\n",
            "133/133 [==============================] - 0s 1ms/step - loss: 48019222528.0000 - val_loss: 46790549504.0000\n",
            "Epoch 132/400\n",
            "133/133 [==============================] - 0s 1ms/step - loss: 47909953536.0000 - val_loss: 46682148864.0000\n",
            "Epoch 133/400\n",
            "133/133 [==============================] - 0s 1ms/step - loss: 47800143872.0000 - val_loss: 46573293568.0000\n",
            "Epoch 134/400\n",
            "133/133 [==============================] - 0s 1ms/step - loss: 47689826304.0000 - val_loss: 46463639552.0000\n",
            "Epoch 135/400\n",
            "133/133 [==============================] - 0s 2ms/step - loss: 47578976256.0000 - val_loss: 46354055168.0000\n",
            "Epoch 136/400\n",
            "133/133 [==============================] - 0s 1ms/step - loss: 47467663360.0000 - val_loss: 46243553280.0000\n",
            "Epoch 137/400\n",
            "133/133 [==============================] - 0s 1ms/step - loss: 47355830272.0000 - val_loss: 46132441088.0000\n",
            "Epoch 138/400\n",
            "133/133 [==============================] - 0s 1ms/step - loss: 47243436032.0000 - val_loss: 46021283840.0000\n",
            "Epoch 139/400\n",
            "133/133 [==============================] - 0s 1ms/step - loss: 47130542080.0000 - val_loss: 45909241856.0000\n",
            "Epoch 140/400\n",
            "133/133 [==============================] - 0s 1ms/step - loss: 47017127936.0000 - val_loss: 45797027840.0000\n",
            "Epoch 141/400\n",
            "133/133 [==============================] - 0s 1ms/step - loss: 46903234560.0000 - val_loss: 45684170752.0000\n",
            "Epoch 142/400\n",
            "133/133 [==============================] - 0s 1ms/step - loss: 46788886528.0000 - val_loss: 45570510848.0000\n",
            "Epoch 143/400\n",
            "133/133 [==============================] - 0s 1ms/step - loss: 46674055168.0000 - val_loss: 45456609280.0000\n",
            "Epoch 144/400\n",
            "133/133 [==============================] - 0s 1ms/step - loss: 46558789632.0000 - val_loss: 45342191616.0000\n",
            "Epoch 145/400\n",
            "133/133 [==============================] - 0s 1ms/step - loss: 46442999808.0000 - val_loss: 45227728896.0000\n",
            "Epoch 146/400\n",
            "133/133 [==============================] - 0s 1ms/step - loss: 46326763520.0000 - val_loss: 45112254464.0000\n",
            "Epoch 147/400\n",
            "133/133 [==============================] - 0s 2ms/step - loss: 46210015232.0000 - val_loss: 44996550656.0000\n",
            "Epoch 148/400\n",
            "133/133 [==============================] - 0s 2ms/step - loss: 46092804096.0000 - val_loss: 44880510976.0000\n",
            "Epoch 149/400\n",
            "133/133 [==============================] - 0s 1ms/step - loss: 45975154688.0000 - val_loss: 44763602944.0000\n",
            "Epoch 150/400\n",
            "133/133 [==============================] - 0s 1ms/step - loss: 45857034240.0000 - val_loss: 44646563840.0000\n",
            "Epoch 151/400\n",
            "133/133 [==============================] - 0s 1ms/step - loss: 45738475520.0000 - val_loss: 44529152000.0000\n",
            "Epoch 152/400\n",
            "133/133 [==============================] - 0s 1ms/step - loss: 45619453952.0000 - val_loss: 44411224064.0000\n",
            "Epoch 153/400\n",
            "133/133 [==============================] - 0s 1ms/step - loss: 45499965440.0000 - val_loss: 44292825088.0000\n",
            "Epoch 154/400\n",
            "133/133 [==============================] - 0s 1ms/step - loss: 45380038656.0000 - val_loss: 44173946880.0000\n",
            "Epoch 155/400\n",
            "133/133 [==============================] - 0s 1ms/step - loss: 45259665408.0000 - val_loss: 44054798336.0000\n",
            "Epoch 156/400\n",
            "133/133 [==============================] - 0s 1ms/step - loss: 45138878464.0000 - val_loss: 43935084544.0000\n",
            "Epoch 157/400\n",
            "133/133 [==============================] - 0s 2ms/step - loss: 45017632768.0000 - val_loss: 43814973440.0000\n",
            "Epoch 158/400\n",
            "133/133 [==============================] - 0s 1ms/step - loss: 44895981568.0000 - val_loss: 43694284800.0000\n",
            "Epoch 159/400\n",
            "133/133 [==============================] - 0s 1ms/step - loss: 44773916672.0000 - val_loss: 43573129216.0000\n",
            "Epoch 160/400\n",
            "133/133 [==============================] - 0s 1ms/step - loss: 44651450368.0000 - val_loss: 43451813888.0000\n",
            "Epoch 161/400\n",
            "133/133 [==============================] - 0s 1ms/step - loss: 44528513024.0000 - val_loss: 43330072576.0000\n",
            "Epoch 162/400\n",
            "133/133 [==============================] - 0s 1ms/step - loss: 44405161984.0000 - val_loss: 43208007680.0000\n",
            "Epoch 163/400\n",
            "133/133 [==============================] - 0s 1ms/step - loss: 44281405440.0000 - val_loss: 43085381632.0000\n",
            "Epoch 164/400\n",
            "133/133 [==============================] - 0s 1ms/step - loss: 44157251584.0000 - val_loss: 42962296832.0000\n",
            "Epoch 165/400\n",
            "133/133 [==============================] - 0s 1ms/step - loss: 44032757760.0000 - val_loss: 42838773760.0000\n",
            "Epoch 166/400\n",
            "133/133 [==============================] - 0s 1ms/step - loss: 43907825664.0000 - val_loss: 42715119616.0000\n",
            "Epoch 167/400\n",
            "133/133 [==============================] - 0s 1ms/step - loss: 43782488064.0000 - val_loss: 42591162368.0000\n",
            "Epoch 168/400\n",
            "133/133 [==============================] - 0s 1ms/step - loss: 43656781824.0000 - val_loss: 42466500608.0000\n",
            "Epoch 169/400\n",
            "133/133 [==============================] - 0s 1ms/step - loss: 43530657792.0000 - val_loss: 42341404672.0000\n",
            "Epoch 170/400\n",
            "133/133 [==============================] - 0s 1ms/step - loss: 43404136448.0000 - val_loss: 42216386560.0000\n",
            "Epoch 171/400\n",
            "133/133 [==============================] - 0s 1ms/step - loss: 43277312000.0000 - val_loss: 42090504192.0000\n",
            "Epoch 172/400\n",
            "133/133 [==============================] - 0s 1ms/step - loss: 43150069760.0000 - val_loss: 41964654592.0000\n",
            "Epoch 173/400\n",
            "133/133 [==============================] - 0s 2ms/step - loss: 43022491648.0000 - val_loss: 41838206976.0000\n",
            "Epoch 174/400\n",
            "133/133 [==============================] - 0s 1ms/step - loss: 42894536704.0000 - val_loss: 41711648768.0000\n",
            "Epoch 175/400\n",
            "133/133 [==============================] - 0s 1ms/step - loss: 42766213120.0000 - val_loss: 41584558080.0000\n",
            "Epoch 176/400\n",
            "133/133 [==============================] - 0s 1ms/step - loss: 42637508608.0000 - val_loss: 41457061888.0000\n",
            "Epoch 177/400\n",
            "133/133 [==============================] - 0s 1ms/step - loss: 42508480512.0000 - val_loss: 41329340416.0000\n",
            "Epoch 178/400\n",
            "133/133 [==============================] - 0s 1ms/step - loss: 42379149312.0000 - val_loss: 41201172480.0000\n",
            "Epoch 179/400\n",
            "133/133 [==============================] - 0s 2ms/step - loss: 42249474048.0000 - val_loss: 41072517120.0000\n",
            "Epoch 180/400\n",
            "133/133 [==============================] - 0s 1ms/step - loss: 42119417856.0000 - val_loss: 40943955968.0000\n",
            "Epoch 181/400\n",
            "133/133 [==============================] - 0s 1ms/step - loss: 41989074944.0000 - val_loss: 40814600192.0000\n",
            "Epoch 182/400\n",
            "133/133 [==============================] - 0s 1ms/step - loss: 41858347008.0000 - val_loss: 40685404160.0000\n",
            "Epoch 183/400\n",
            "133/133 [==============================] - 0s 1ms/step - loss: 41727332352.0000 - val_loss: 40555663360.0000\n",
            "Epoch 184/400\n",
            "133/133 [==============================] - 0s 2ms/step - loss: 41596010496.0000 - val_loss: 40425627648.0000\n",
            "Epoch 185/400\n",
            "133/133 [==============================] - 0s 1ms/step - loss: 41464328192.0000 - val_loss: 40295387136.0000\n",
            "Epoch 186/400\n",
            "133/133 [==============================] - 0s 1ms/step - loss: 41332404224.0000 - val_loss: 40164564992.0000\n",
            "Epoch 187/400\n",
            "133/133 [==============================] - 0s 1ms/step - loss: 41200136192.0000 - val_loss: 40033751040.0000\n",
            "Epoch 188/400\n",
            "133/133 [==============================] - 0s 1ms/step - loss: 41067597824.0000 - val_loss: 39902584832.0000\n",
            "Epoch 189/400\n",
            "133/133 [==============================] - 0s 1ms/step - loss: 40934744064.0000 - val_loss: 39771037696.0000\n",
            "Epoch 190/400\n",
            "133/133 [==============================] - 0s 1ms/step - loss: 40801685504.0000 - val_loss: 39639056384.0000\n",
            "Epoch 191/400\n",
            "133/133 [==============================] - 0s 1ms/step - loss: 40668258304.0000 - val_loss: 39507218432.0000\n",
            "Epoch 192/400\n",
            "133/133 [==============================] - 0s 1ms/step - loss: 40534544384.0000 - val_loss: 39374946304.0000\n",
            "Epoch 193/400\n",
            "133/133 [==============================] - 0s 1ms/step - loss: 40400535552.0000 - val_loss: 39242268672.0000\n",
            "Epoch 194/400\n",
            "133/133 [==============================] - 0s 1ms/step - loss: 40266244096.0000 - val_loss: 39109345280.0000\n",
            "Epoch 195/400\n",
            "133/133 [==============================] - 0s 1ms/step - loss: 40131739648.0000 - val_loss: 38976061440.0000\n",
            "Epoch 196/400\n",
            "133/133 [==============================] - 0s 1ms/step - loss: 39996956672.0000 - val_loss: 38842757120.0000\n",
            "Epoch 197/400\n",
            "133/133 [==============================] - 0s 1ms/step - loss: 39861956608.0000 - val_loss: 38709288960.0000\n",
            "Epoch 198/400\n",
            "133/133 [==============================] - 0s 1ms/step - loss: 39726665728.0000 - val_loss: 38575386624.0000\n",
            "Epoch 199/400\n",
            "133/133 [==============================] - 0s 1ms/step - loss: 39591145472.0000 - val_loss: 38441082880.0000\n",
            "Epoch 200/400\n",
            "133/133 [==============================] - 0s 1ms/step - loss: 39455363072.0000 - val_loss: 38306828288.0000\n",
            "Epoch 201/400\n",
            "133/133 [==============================] - 0s 1ms/step - loss: 39319351296.0000 - val_loss: 38172225536.0000\n",
            "Epoch 202/400\n",
            "133/133 [==============================] - 0s 1ms/step - loss: 39183114240.0000 - val_loss: 38037372928.0000\n",
            "Epoch 203/400\n",
            "133/133 [==============================] - 0s 1ms/step - loss: 39046606848.0000 - val_loss: 37902422016.0000\n",
            "Epoch 204/400\n",
            "133/133 [==============================] - 0s 2ms/step - loss: 38909886464.0000 - val_loss: 37767258112.0000\n",
            "Epoch 205/400\n",
            "133/133 [==============================] - 0s 1ms/step - loss: 38772965376.0000 - val_loss: 37631582208.0000\n",
            "Epoch 206/400\n",
            "133/133 [==============================] - 0s 2ms/step - loss: 38635855872.0000 - val_loss: 37495975936.0000\n",
            "Epoch 207/400\n",
            "133/133 [==============================] - 0s 1ms/step - loss: 38498537472.0000 - val_loss: 37359927296.0000\n",
            "Epoch 208/400\n",
            "133/133 [==============================] - 0s 1ms/step - loss: 38360924160.0000 - val_loss: 37224239104.0000\n",
            "Epoch 209/400\n",
            "133/133 [==============================] - 0s 2ms/step - loss: 38223220736.0000 - val_loss: 37087592448.0000\n",
            "Epoch 210/400\n",
            "133/133 [==============================] - 0s 2ms/step - loss: 38085308416.0000 - val_loss: 36951117824.0000\n",
            "Epoch 211/400\n",
            "133/133 [==============================] - 0s 1ms/step - loss: 37947154432.0000 - val_loss: 36814778368.0000\n",
            "Epoch 212/400\n",
            "133/133 [==============================] - 0s 1ms/step - loss: 37808844800.0000 - val_loss: 36677922816.0000\n",
            "Epoch 213/400\n",
            "133/133 [==============================] - 0s 1ms/step - loss: 37670350848.0000 - val_loss: 36540788736.0000\n",
            "Epoch 214/400\n",
            "133/133 [==============================] - 0s 1ms/step - loss: 37531688960.0000 - val_loss: 36403720192.0000\n",
            "Epoch 215/400\n",
            "133/133 [==============================] - 0s 1ms/step - loss: 37392842752.0000 - val_loss: 36266618880.0000\n",
            "Epoch 216/400\n",
            "133/133 [==============================] - 0s 1ms/step - loss: 37253832704.0000 - val_loss: 36129026048.0000\n",
            "Epoch 217/400\n",
            "133/133 [==============================] - 0s 1ms/step - loss: 37114634240.0000 - val_loss: 35991515136.0000\n",
            "Epoch 218/400\n",
            "133/133 [==============================] - 0s 1ms/step - loss: 36975321088.0000 - val_loss: 35853602816.0000\n",
            "Epoch 219/400\n",
            "133/133 [==============================] - 0s 1ms/step - loss: 36835889152.0000 - val_loss: 35715690496.0000\n",
            "Epoch 220/400\n",
            "133/133 [==============================] - 0s 1ms/step - loss: 36696252416.0000 - val_loss: 35577696256.0000\n",
            "Epoch 221/400\n",
            "133/133 [==============================] - 0s 1ms/step - loss: 36556423168.0000 - val_loss: 35439677440.0000\n",
            "Epoch 222/400\n",
            "133/133 [==============================] - 0s 1ms/step - loss: 36416503808.0000 - val_loss: 35300990976.0000\n",
            "Epoch 223/400\n",
            "133/133 [==============================] - 0s 1ms/step - loss: 36276428800.0000 - val_loss: 35162685440.0000\n",
            "Epoch 224/400\n",
            "133/133 [==============================] - 0s 1ms/step - loss: 36136312832.0000 - val_loss: 35024048128.0000\n",
            "Epoch 225/400\n",
            "133/133 [==============================] - 0s 2ms/step - loss: 35996049408.0000 - val_loss: 34885300224.0000\n",
            "Epoch 226/400\n",
            "133/133 [==============================] - 0s 1ms/step - loss: 35855757312.0000 - val_loss: 34746482688.0000\n",
            "Epoch 227/400\n",
            "133/133 [==============================] - 0s 1ms/step - loss: 35715301376.0000 - val_loss: 34607751168.0000\n",
            "Epoch 228/400\n",
            "133/133 [==============================] - 0s 1ms/step - loss: 35574763520.0000 - val_loss: 34468917248.0000\n",
            "Epoch 229/400\n",
            "133/133 [==============================] - 0s 2ms/step - loss: 35434094592.0000 - val_loss: 34329933824.0000\n",
            "Epoch 230/400\n",
            "133/133 [==============================] - 0s 1ms/step - loss: 35293360128.0000 - val_loss: 34190452736.0000\n",
            "Epoch 231/400\n",
            "133/133 [==============================] - 0s 1ms/step - loss: 35152515072.0000 - val_loss: 34051512320.0000\n",
            "Epoch 232/400\n",
            "133/133 [==============================] - 0s 1ms/step - loss: 35011596288.0000 - val_loss: 33912020992.0000\n",
            "Epoch 233/400\n",
            "133/133 [==============================] - 0s 1ms/step - loss: 34870542336.0000 - val_loss: 33772785664.0000\n",
            "Epoch 234/400\n",
            "133/133 [==============================] - 0s 1ms/step - loss: 34729435136.0000 - val_loss: 33633210368.0000\n",
            "Epoch 235/400\n",
            "133/133 [==============================] - 0s 1ms/step - loss: 34588241920.0000 - val_loss: 33493706752.0000\n",
            "Epoch 236/400\n",
            "133/133 [==============================] - 0s 1ms/step - loss: 34447032320.0000 - val_loss: 33354092544.0000\n",
            "Epoch 237/400\n",
            "133/133 [==============================] - 0s 1ms/step - loss: 34305734656.0000 - val_loss: 33214662656.0000\n",
            "Epoch 238/400\n",
            "133/133 [==============================] - 0s 1ms/step - loss: 34164383744.0000 - val_loss: 33074970624.0000\n",
            "Epoch 239/400\n",
            "133/133 [==============================] - 0s 1ms/step - loss: 34022985728.0000 - val_loss: 32935297024.0000\n",
            "Epoch 240/400\n",
            "133/133 [==============================] - 0s 1ms/step - loss: 33881571328.0000 - val_loss: 32795367424.0000\n",
            "Epoch 241/400\n",
            "133/133 [==============================] - 0s 1ms/step - loss: 33740118016.0000 - val_loss: 32655747072.0000\n",
            "Epoch 242/400\n",
            "133/133 [==============================] - 0s 2ms/step - loss: 33598648320.0000 - val_loss: 32516218880.0000\n",
            "Epoch 243/400\n",
            "133/133 [==============================] - 0s 1ms/step - loss: 33457211392.0000 - val_loss: 32376068096.0000\n",
            "Epoch 244/400\n",
            "133/133 [==============================] - 0s 1ms/step - loss: 33315670016.0000 - val_loss: 32236441600.0000\n",
            "Epoch 245/400\n",
            "133/133 [==============================] - 0s 1ms/step - loss: 33174106112.0000 - val_loss: 32096661504.0000\n",
            "Epoch 246/400\n",
            "133/133 [==============================] - 0s 2ms/step - loss: 33032548352.0000 - val_loss: 31956869120.0000\n",
            "Epoch 247/400\n",
            "133/133 [==============================] - 0s 2ms/step - loss: 32891013120.0000 - val_loss: 31817031680.0000\n",
            "Epoch 248/400\n",
            "133/133 [==============================] - 0s 1ms/step - loss: 32749488128.0000 - val_loss: 31677302784.0000\n",
            "Epoch 249/400\n",
            "133/133 [==============================] - 0s 1ms/step - loss: 32607991808.0000 - val_loss: 31537233920.0000\n",
            "Epoch 250/400\n",
            "133/133 [==============================] - 0s 1ms/step - loss: 32466462720.0000 - val_loss: 31397550080.0000\n",
            "Epoch 251/400\n",
            "133/133 [==============================] - 0s 2ms/step - loss: 32324972544.0000 - val_loss: 31258050560.0000\n",
            "Epoch 252/400\n",
            "133/133 [==============================] - 0s 2ms/step - loss: 32183537664.0000 - val_loss: 31118086144.0000\n",
            "Epoch 253/400\n",
            "133/133 [==============================] - 0s 1ms/step - loss: 32042072064.0000 - val_loss: 30978869248.0000\n",
            "Epoch 254/400\n",
            "133/133 [==============================] - 0s 1ms/step - loss: 31900692480.0000 - val_loss: 30838919168.0000\n",
            "Epoch 255/400\n",
            "133/133 [==============================] - 0s 1ms/step - loss: 31759267840.0000 - val_loss: 30699563008.0000\n",
            "Epoch 256/400\n",
            "133/133 [==============================] - 0s 1ms/step - loss: 31618041856.0000 - val_loss: 30559696896.0000\n",
            "Epoch 257/400\n",
            "133/133 [==============================] - 0s 1ms/step - loss: 31476830208.0000 - val_loss: 30420305920.0000\n",
            "Epoch 258/400\n",
            "133/133 [==============================] - 0s 1ms/step - loss: 31335694336.0000 - val_loss: 30281211904.0000\n",
            "Epoch 259/400\n",
            "133/133 [==============================] - 0s 1ms/step - loss: 31194613760.0000 - val_loss: 30141761536.0000\n",
            "Epoch 260/400\n",
            "133/133 [==============================] - 0s 1ms/step - loss: 31053555712.0000 - val_loss: 30002798592.0000\n",
            "Epoch 261/400\n",
            "133/133 [==============================] - 0s 2ms/step - loss: 30912634880.0000 - val_loss: 29863491584.0000\n",
            "Epoch 262/400\n",
            "133/133 [==============================] - 0s 2ms/step - loss: 30771736576.0000 - val_loss: 29724395520.0000\n",
            "Epoch 263/400\n",
            "133/133 [==============================] - 0s 1ms/step - loss: 30630979584.0000 - val_loss: 29585731584.0000\n",
            "Epoch 264/400\n",
            "133/133 [==============================] - 0s 1ms/step - loss: 30490339328.0000 - val_loss: 29446600704.0000\n",
            "Epoch 265/400\n",
            "133/133 [==============================] - 0s 1ms/step - loss: 30349783040.0000 - val_loss: 29307891712.0000\n",
            "Epoch 266/400\n",
            "133/133 [==============================] - 0s 1ms/step - loss: 30209288192.0000 - val_loss: 29169350656.0000\n",
            "Epoch 267/400\n",
            "133/133 [==============================] - 0s 1ms/step - loss: 30068908032.0000 - val_loss: 29030828032.0000\n",
            "Epoch 268/400\n",
            "133/133 [==============================] - 0s 1ms/step - loss: 29928677376.0000 - val_loss: 28892452864.0000\n",
            "Epoch 269/400\n",
            "133/133 [==============================] - 0s 1ms/step - loss: 29788534784.0000 - val_loss: 28754282496.0000\n",
            "Epoch 270/400\n",
            "133/133 [==============================] - 0s 1ms/step - loss: 29648547840.0000 - val_loss: 28616165376.0000\n",
            "Epoch 271/400\n",
            "133/133 [==============================] - 0s 1ms/step - loss: 29508673536.0000 - val_loss: 28478038016.0000\n",
            "Epoch 272/400\n",
            "133/133 [==============================] - 0s 1ms/step - loss: 29368973312.0000 - val_loss: 28340307968.0000\n",
            "Epoch 273/400\n",
            "133/133 [==============================] - 0s 1ms/step - loss: 29229504512.0000 - val_loss: 28202567680.0000\n",
            "Epoch 274/400\n",
            "133/133 [==============================] - 0s 1ms/step - loss: 29090101248.0000 - val_loss: 28065280000.0000\n",
            "Epoch 275/400\n",
            "133/133 [==============================] - 0s 1ms/step - loss: 28950904832.0000 - val_loss: 27927728128.0000\n",
            "Epoch 276/400\n",
            "133/133 [==============================] - 0s 1ms/step - loss: 28811845632.0000 - val_loss: 27790708736.0000\n",
            "Epoch 277/400\n",
            "133/133 [==============================] - 0s 1ms/step - loss: 28673040384.0000 - val_loss: 27653552128.0000\n",
            "Epoch 278/400\n",
            "133/133 [==============================] - 0s 1ms/step - loss: 28534382592.0000 - val_loss: 27517061120.0000\n",
            "Epoch 279/400\n",
            "133/133 [==============================] - 0s 1ms/step - loss: 28395843584.0000 - val_loss: 27380326400.0000\n",
            "Epoch 280/400\n",
            "133/133 [==============================] - 0s 1ms/step - loss: 28257538048.0000 - val_loss: 27243993088.0000\n",
            "Epoch 281/400\n",
            "133/133 [==============================] - 0s 1ms/step - loss: 28119416832.0000 - val_loss: 27107811328.0000\n",
            "Epoch 282/400\n",
            "133/133 [==============================] - 0s 1ms/step - loss: 27981461504.0000 - val_loss: 26971723776.0000\n",
            "Epoch 283/400\n",
            "133/133 [==============================] - 0s 1ms/step - loss: 27843758080.0000 - val_loss: 26835908608.0000\n",
            "Epoch 284/400\n",
            "133/133 [==============================] - 0s 1ms/step - loss: 27706241024.0000 - val_loss: 26700718080.0000\n",
            "Epoch 285/400\n",
            "133/133 [==============================] - 0s 1ms/step - loss: 27569049600.0000 - val_loss: 26565058560.0000\n",
            "Epoch 286/400\n",
            "133/133 [==============================] - 0s 1ms/step - loss: 27431997440.0000 - val_loss: 26430044160.0000\n",
            "Epoch 287/400\n",
            "133/133 [==============================] - 0s 2ms/step - loss: 27295158272.0000 - val_loss: 26295255040.0000\n",
            "Epoch 288/400\n",
            "133/133 [==============================] - 0s 1ms/step - loss: 27158581248.0000 - val_loss: 26160584704.0000\n",
            "Epoch 289/400\n",
            "133/133 [==============================] - 0s 1ms/step - loss: 27022282752.0000 - val_loss: 26026360832.0000\n",
            "Epoch 290/400\n",
            "133/133 [==============================] - 0s 1ms/step - loss: 26886141952.0000 - val_loss: 25892571136.0000\n",
            "Epoch 291/400\n",
            "133/133 [==============================] - 0s 1ms/step - loss: 26750306304.0000 - val_loss: 25758085120.0000\n",
            "Epoch 292/400\n",
            "133/133 [==============================] - 0s 2ms/step - loss: 26614702080.0000 - val_loss: 25624565760.0000\n",
            "Epoch 293/400\n",
            "133/133 [==============================] - 0s 1ms/step - loss: 26479435776.0000 - val_loss: 25491302400.0000\n",
            "Epoch 294/400\n",
            "133/133 [==============================] - 0s 1ms/step - loss: 26344374272.0000 - val_loss: 25358481408.0000\n",
            "Epoch 295/400\n",
            "133/133 [==============================] - 0s 1ms/step - loss: 26209587200.0000 - val_loss: 25225510912.0000\n",
            "Epoch 296/400\n",
            "133/133 [==============================] - 0s 1ms/step - loss: 26075105280.0000 - val_loss: 25092964352.0000\n",
            "Epoch 297/400\n",
            "133/133 [==============================] - 0s 1ms/step - loss: 25940948992.0000 - val_loss: 24960954368.0000\n",
            "Epoch 298/400\n",
            "133/133 [==============================] - 0s 1ms/step - loss: 25807095808.0000 - val_loss: 24829177856.0000\n",
            "Epoch 299/400\n",
            "133/133 [==============================] - 0s 1ms/step - loss: 25673543680.0000 - val_loss: 24697485312.0000\n",
            "Epoch 300/400\n",
            "133/133 [==============================] - 0s 1ms/step - loss: 25540220928.0000 - val_loss: 24566374400.0000\n",
            "Epoch 301/400\n",
            "133/133 [==============================] - 0s 1ms/step - loss: 25407283200.0000 - val_loss: 24435324928.0000\n",
            "Epoch 302/400\n",
            "133/133 [==============================] - 0s 1ms/step - loss: 25274683392.0000 - val_loss: 24304674816.0000\n",
            "Epoch 303/400\n",
            "133/133 [==============================] - 0s 1ms/step - loss: 25142427648.0000 - val_loss: 24174569472.0000\n",
            "Epoch 304/400\n",
            "133/133 [==============================] - 0s 1ms/step - loss: 25010446336.0000 - val_loss: 24044638208.0000\n",
            "Epoch 305/400\n",
            "133/133 [==============================] - 0s 1ms/step - loss: 24878841856.0000 - val_loss: 23915096064.0000\n",
            "Epoch 306/400\n",
            "133/133 [==============================] - 0s 1ms/step - loss: 24747554816.0000 - val_loss: 23785834496.0000\n",
            "Epoch 307/400\n",
            "133/133 [==============================] - 0s 1ms/step - loss: 24616601600.0000 - val_loss: 23656982528.0000\n",
            "Epoch 308/400\n",
            "133/133 [==============================] - 0s 1ms/step - loss: 24486053888.0000 - val_loss: 23528333312.0000\n",
            "Epoch 309/400\n",
            "133/133 [==============================] - 0s 1ms/step - loss: 24355956736.0000 - val_loss: 23400314880.0000\n",
            "Epoch 310/400\n",
            "133/133 [==============================] - 0s 1ms/step - loss: 24226248704.0000 - val_loss: 23272380416.0000\n",
            "Epoch 311/400\n",
            "133/133 [==============================] - 0s 1ms/step - loss: 24096917504.0000 - val_loss: 23145410560.0000\n",
            "Epoch 312/400\n",
            "133/133 [==============================] - 0s 1ms/step - loss: 23967969280.0000 - val_loss: 23018565632.0000\n",
            "Epoch 313/400\n",
            "133/133 [==============================] - 0s 1ms/step - loss: 23839381504.0000 - val_loss: 22892042240.0000\n",
            "Epoch 314/400\n",
            "133/133 [==============================] - 0s 1ms/step - loss: 23711182848.0000 - val_loss: 22765899776.0000\n",
            "Epoch 315/400\n",
            "133/133 [==============================] - 0s 2ms/step - loss: 23583313920.0000 - val_loss: 22640355328.0000\n",
            "Epoch 316/400\n",
            "133/133 [==============================] - 0s 1ms/step - loss: 23455862784.0000 - val_loss: 22514515968.0000\n",
            "Epoch 317/400\n",
            "133/133 [==============================] - 0s 1ms/step - loss: 23328782336.0000 - val_loss: 22389942272.0000\n",
            "Epoch 318/400\n",
            "133/133 [==============================] - 0s 1ms/step - loss: 23202170880.0000 - val_loss: 22265309184.0000\n",
            "Epoch 319/400\n",
            "133/133 [==============================] - 0s 2ms/step - loss: 23076016128.0000 - val_loss: 22141169664.0000\n",
            "Epoch 320/400\n",
            "133/133 [==============================] - 0s 1ms/step - loss: 22950295552.0000 - val_loss: 22017409024.0000\n",
            "Epoch 321/400\n",
            "133/133 [==============================] - 0s 2ms/step - loss: 22825072640.0000 - val_loss: 21894166528.0000\n",
            "Epoch 322/400\n",
            "133/133 [==============================] - 0s 2ms/step - loss: 22700152832.0000 - val_loss: 21771925504.0000\n",
            "Epoch 323/400\n",
            "133/133 [==============================] - 0s 1ms/step - loss: 22575869952.0000 - val_loss: 21649227776.0000\n",
            "Epoch 324/400\n",
            "133/133 [==============================] - 0s 1ms/step - loss: 22451990528.0000 - val_loss: 21527566336.0000\n",
            "Epoch 325/400\n",
            "133/133 [==============================] - 0s 2ms/step - loss: 22328561664.0000 - val_loss: 21406470144.0000\n",
            "Epoch 326/400\n",
            "133/133 [==============================] - 0s 2ms/step - loss: 22205638656.0000 - val_loss: 21285535744.0000\n",
            "Epoch 327/400\n",
            "133/133 [==============================] - 0s 2ms/step - loss: 22083182592.0000 - val_loss: 21165117440.0000\n",
            "Epoch 328/400\n",
            "133/133 [==============================] - 0s 1ms/step - loss: 21961213952.0000 - val_loss: 21045356544.0000\n",
            "Epoch 329/400\n",
            "133/133 [==============================] - 0s 2ms/step - loss: 21839802368.0000 - val_loss: 20926042112.0000\n",
            "Epoch 330/400\n",
            "133/133 [==============================] - 0s 2ms/step - loss: 21718829056.0000 - val_loss: 20807540736.0000\n",
            "Epoch 331/400\n",
            "133/133 [==============================] - 0s 1ms/step - loss: 21598339072.0000 - val_loss: 20689082368.0000\n",
            "Epoch 332/400\n",
            "133/133 [==============================] - 0s 1ms/step - loss: 21478322176.0000 - val_loss: 20571447296.0000\n",
            "Epoch 333/400\n",
            "133/133 [==============================] - 0s 2ms/step - loss: 21358915584.0000 - val_loss: 20453976064.0000\n",
            "Epoch 334/400\n",
            "133/133 [==============================] - 0s 1ms/step - loss: 21240004608.0000 - val_loss: 20337227776.0000\n",
            "Epoch 335/400\n",
            "133/133 [==============================] - 0s 1ms/step - loss: 21121638400.0000 - val_loss: 20220844032.0000\n",
            "Epoch 336/400\n",
            "133/133 [==============================] - 0s 2ms/step - loss: 21003802624.0000 - val_loss: 20105281536.0000\n",
            "Epoch 337/400\n",
            "133/133 [==============================] - 0s 2ms/step - loss: 20886599680.0000 - val_loss: 19990353920.0000\n",
            "Epoch 338/400\n",
            "133/133 [==============================] - 0s 1ms/step - loss: 20769890304.0000 - val_loss: 19875747840.0000\n",
            "Epoch 339/400\n",
            "133/133 [==============================] - 0s 1ms/step - loss: 20653694976.0000 - val_loss: 19761954816.0000\n",
            "Epoch 340/400\n",
            "133/133 [==============================] - 0s 1ms/step - loss: 20538155008.0000 - val_loss: 19648339968.0000\n",
            "Epoch 341/400\n",
            "133/133 [==============================] - 0s 1ms/step - loss: 20423106560.0000 - val_loss: 19535769600.0000\n",
            "Epoch 342/400\n",
            "133/133 [==============================] - 0s 1ms/step - loss: 20308713472.0000 - val_loss: 19423279104.0000\n",
            "Epoch 343/400\n",
            "133/133 [==============================] - 0s 1ms/step - loss: 20194789376.0000 - val_loss: 19311777792.0000\n",
            "Epoch 344/400\n",
            "133/133 [==============================] - 0s 1ms/step - loss: 20081594368.0000 - val_loss: 19200393216.0000\n",
            "Epoch 345/400\n",
            "133/133 [==============================] - 0s 1ms/step - loss: 19968944128.0000 - val_loss: 19090317312.0000\n",
            "Epoch 346/400\n",
            "133/133 [==============================] - 0s 1ms/step - loss: 19856971776.0000 - val_loss: 18980153344.0000\n",
            "Epoch 347/400\n",
            "133/133 [==============================] - 0s 1ms/step - loss: 19745511424.0000 - val_loss: 18871050240.0000\n",
            "Epoch 348/400\n",
            "133/133 [==============================] - 0s 2ms/step - loss: 19634642944.0000 - val_loss: 18762362880.0000\n",
            "Epoch 349/400\n",
            "133/133 [==============================] - 0s 1ms/step - loss: 19524421632.0000 - val_loss: 18654285824.0000\n",
            "Epoch 350/400\n",
            "133/133 [==============================] - 0s 1ms/step - loss: 19414876160.0000 - val_loss: 18546923520.0000\n",
            "Epoch 351/400\n",
            "133/133 [==============================] - 0s 1ms/step - loss: 19305918464.0000 - val_loss: 18440269824.0000\n",
            "Epoch 352/400\n",
            "133/133 [==============================] - 0s 1ms/step - loss: 19197628416.0000 - val_loss: 18334322688.0000\n",
            "Epoch 353/400\n",
            "133/133 [==============================] - 0s 1ms/step - loss: 19090065408.0000 - val_loss: 18228590592.0000\n",
            "Epoch 354/400\n",
            "133/133 [==============================] - 0s 1ms/step - loss: 18983043072.0000 - val_loss: 18123978752.0000\n",
            "Epoch 355/400\n",
            "133/133 [==============================] - 0s 1ms/step - loss: 18876778496.0000 - val_loss: 18019803136.0000\n",
            "Epoch 356/400\n",
            "133/133 [==============================] - 0s 1ms/step - loss: 18771036160.0000 - val_loss: 17917048832.0000\n",
            "Epoch 357/400\n",
            "133/133 [==============================] - 0s 1ms/step - loss: 18666133504.0000 - val_loss: 17813753856.0000\n",
            "Epoch 358/400\n",
            "133/133 [==============================] - 0s 1ms/step - loss: 18561781760.0000 - val_loss: 17711708160.0000\n",
            "Epoch 359/400\n",
            "133/133 [==============================] - 0s 1ms/step - loss: 18458267648.0000 - val_loss: 17610065920.0000\n",
            "Epoch 360/400\n",
            "133/133 [==============================] - 0s 1ms/step - loss: 18355337216.0000 - val_loss: 17509978112.0000\n",
            "Epoch 361/400\n",
            "133/133 [==============================] - 0s 1ms/step - loss: 18253148160.0000 - val_loss: 17409945600.0000\n",
            "Epoch 362/400\n",
            "133/133 [==============================] - 0s 2ms/step - loss: 18151620608.0000 - val_loss: 17310197760.0000\n",
            "Epoch 363/400\n",
            "133/133 [==============================] - 0s 1ms/step - loss: 18050836480.0000 - val_loss: 17211815936.0000\n",
            "Epoch 364/400\n",
            "133/133 [==============================] - 0s 1ms/step - loss: 17950760960.0000 - val_loss: 17114322944.0000\n",
            "Epoch 365/400\n",
            "133/133 [==============================] - 0s 2ms/step - loss: 17851467776.0000 - val_loss: 17016884224.0000\n",
            "Epoch 366/400\n",
            "133/133 [==============================] - 0s 1ms/step - loss: 17752817664.0000 - val_loss: 16920557568.0000\n",
            "Epoch 367/400\n",
            "133/133 [==============================] - 0s 1ms/step - loss: 17654943744.0000 - val_loss: 16824784896.0000\n",
            "Epoch 368/400\n",
            "133/133 [==============================] - 0s 2ms/step - loss: 17557848064.0000 - val_loss: 16729719808.0000\n",
            "Epoch 369/400\n",
            "133/133 [==============================] - 0s 2ms/step - loss: 17461485568.0000 - val_loss: 16635617280.0000\n",
            "Epoch 370/400\n",
            "133/133 [==============================] - 0s 1ms/step - loss: 17365893120.0000 - val_loss: 16542443520.0000\n",
            "Epoch 371/400\n",
            "133/133 [==============================] - 0s 1ms/step - loss: 17271062528.0000 - val_loss: 16449548288.0000\n",
            "Epoch 372/400\n",
            "133/133 [==============================] - 0s 1ms/step - loss: 17176964096.0000 - val_loss: 16358153216.0000\n",
            "Epoch 373/400\n",
            "133/133 [==============================] - 0s 2ms/step - loss: 17083692032.0000 - val_loss: 16266948608.0000\n",
            "Epoch 374/400\n",
            "133/133 [==============================] - 0s 2ms/step - loss: 16991129600.0000 - val_loss: 16176993280.0000\n",
            "Epoch 375/400\n",
            "133/133 [==============================] - 0s 1ms/step - loss: 16899405824.0000 - val_loss: 16087165952.0000\n",
            "Epoch 376/400\n",
            "133/133 [==============================] - 0s 1ms/step - loss: 16808488960.0000 - val_loss: 15998238720.0000\n",
            "Epoch 377/400\n",
            "133/133 [==============================] - 0s 1ms/step - loss: 16718397440.0000 - val_loss: 15910542336.0000\n",
            "Epoch 378/400\n",
            "133/133 [==============================] - 0s 1ms/step - loss: 16629159936.0000 - val_loss: 15823685632.0000\n",
            "Epoch 379/400\n",
            "133/133 [==============================] - 0s 1ms/step - loss: 16540815360.0000 - val_loss: 15737419776.0000\n",
            "Epoch 380/400\n",
            "133/133 [==============================] - 0s 1ms/step - loss: 16453160960.0000 - val_loss: 15652113408.0000\n",
            "Epoch 381/400\n",
            "133/133 [==============================] - 0s 1ms/step - loss: 16366392320.0000 - val_loss: 15567067136.0000\n",
            "Epoch 382/400\n",
            "133/133 [==============================] - 0s 1ms/step - loss: 16280355840.0000 - val_loss: 15484050432.0000\n",
            "Epoch 383/400\n",
            "133/133 [==============================] - 0s 1ms/step - loss: 16195296256.0000 - val_loss: 15400765440.0000\n",
            "Epoch 384/400\n",
            "133/133 [==============================] - 0s 1ms/step - loss: 16110999552.0000 - val_loss: 15319171072.0000\n",
            "Epoch 385/400\n",
            "133/133 [==============================] - 0s 1ms/step - loss: 16027557888.0000 - val_loss: 15237737472.0000\n",
            "Epoch 386/400\n",
            "133/133 [==============================] - 0s 1ms/step - loss: 15944798208.0000 - val_loss: 15157479424.0000\n",
            "Epoch 387/400\n",
            "133/133 [==============================] - 0s 2ms/step - loss: 15862990848.0000 - val_loss: 15077948416.0000\n",
            "Epoch 388/400\n",
            "133/133 [==============================] - 0s 2ms/step - loss: 15782132736.0000 - val_loss: 14999018496.0000\n",
            "Epoch 389/400\n",
            "133/133 [==============================] - 0s 1ms/step - loss: 15702118400.0000 - val_loss: 14921171968.0000\n",
            "Epoch 390/400\n",
            "133/133 [==============================] - 0s 1ms/step - loss: 15622939648.0000 - val_loss: 14844349440.0000\n",
            "Epoch 391/400\n",
            "133/133 [==============================] - 0s 1ms/step - loss: 15544625152.0000 - val_loss: 14768232448.0000\n",
            "Epoch 392/400\n",
            "133/133 [==============================] - 0s 1ms/step - loss: 15467180032.0000 - val_loss: 14693312512.0000\n",
            "Epoch 393/400\n",
            "133/133 [==============================] - 0s 1ms/step - loss: 15390665728.0000 - val_loss: 14618748928.0000\n",
            "Epoch 394/400\n",
            "133/133 [==============================] - 0s 1ms/step - loss: 15315024896.0000 - val_loss: 14545512448.0000\n",
            "Epoch 395/400\n",
            "133/133 [==============================] - 0s 1ms/step - loss: 15240333312.0000 - val_loss: 14473038848.0000\n",
            "Epoch 396/400\n",
            "133/133 [==============================] - 0s 1ms/step - loss: 15166487552.0000 - val_loss: 14401199104.0000\n",
            "Epoch 397/400\n",
            "133/133 [==============================] - 0s 1ms/step - loss: 15093555200.0000 - val_loss: 14330653696.0000\n",
            "Epoch 398/400\n",
            "133/133 [==============================] - 0s 2ms/step - loss: 15021569024.0000 - val_loss: 14260809728.0000\n",
            "Epoch 399/400\n",
            "133/133 [==============================] - 0s 1ms/step - loss: 14950437888.0000 - val_loss: 14192031744.0000\n",
            "Epoch 400/400\n",
            "133/133 [==============================] - 0s 1ms/step - loss: 14880234496.0000 - val_loss: 14124062720.0000\n"
          ]
        },
        {
          "output_type": "execute_result",
          "data": {
            "text/plain": [
              "<keras.callbacks.History at 0x7f54c2f46d50>"
            ]
          },
          "metadata": {},
          "execution_count": 19
        }
      ]
    },
    {
      "cell_type": "code",
      "metadata": {
        "id": "DzYPgOOEdqNn",
        "colab": {
          "base_uri": "https://localhost:8080/"
        },
        "outputId": "3984f2ec-864e-49f5-b454-a08e6c2cb4a3"
      },
      "source": [
        "# Sequential Model Summary \n",
        "model.summary() "
      ],
      "execution_count": 20,
      "outputs": [
        {
          "output_type": "stream",
          "name": "stdout",
          "text": [
            "Model: \"sequential\"\n",
            "_________________________________________________________________\n",
            " Layer (type)                Output Shape              Param #   \n",
            "=================================================================\n",
            " dense (Dense)               (None, 30)                270       \n",
            "                                                                 \n",
            " dense_1 (Dense)             (None, 1)                 31        \n",
            "                                                                 \n",
            "=================================================================\n",
            "Total params: 301\n",
            "Trainable params: 301\n",
            "Non-trainable params: 0\n",
            "_________________________________________________________________\n"
          ]
        }
      ]
    },
    {
      "cell_type": "markdown",
      "metadata": {
        "id": "X0IzyLyTdqNo"
      },
      "source": [
        "##### Prediction"
      ]
    },
    {
      "cell_type": "code",
      "metadata": {
        "id": "-_0If9N3dqNp",
        "colab": {
          "base_uri": "https://localhost:8080/"
        },
        "outputId": "d615cc35-484a-45a1-f8ab-2a96444847a4"
      },
      "source": [
        "y_pred = model.predict(X_test)\n",
        "y_pred"
      ],
      "execution_count": 21,
      "outputs": [
        {
          "output_type": "execute_result",
          "data": {
            "text/plain": [
              "array([[168363.   ],\n",
              "       [166110.36 ],\n",
              "       [164802.56 ],\n",
              "       ...,\n",
              "       [126754.805],\n",
              "       [158961.06 ],\n",
              "       [177471.   ]], dtype=float32)"
            ]
          },
          "metadata": {},
          "execution_count": 21
        }
      ]
    },
    {
      "cell_type": "markdown",
      "metadata": {
        "id": "osGmwIw7dqNq"
      },
      "source": [
        "##### Evaluation"
      ]
    },
    {
      "cell_type": "code",
      "metadata": {
        "id": "Eou7_DeldqNr",
        "colab": {
          "base_uri": "https://localhost:8080/"
        },
        "outputId": "6ec87543-dd7f-4383-be06-b11495a60150"
      },
      "source": [
        "np.sqrt(mean_squared_error(y_test,y_pred))"
      ],
      "execution_count": 22,
      "outputs": [
        {
          "output_type": "execute_result",
          "data": {
            "text/plain": [
              "118844.69821218107"
            ]
          },
          "metadata": {},
          "execution_count": 22
        }
      ]
    },
    {
      "cell_type": "markdown",
      "metadata": {
        "id": "52QacZPvdqNs"
      },
      "source": [
        "#### 2. Using Sci-kit Learn API"
      ]
    },
    {
      "cell_type": "markdown",
      "metadata": {
        "id": "bgmVeddndqNs"
      },
      "source": [
        "Using the same dataset, we will implement MLP regressor using sci-kit learn API. "
      ]
    },
    {
      "cell_type": "markdown",
      "metadata": {
        "id": "CUVZ9KE8dqNt"
      },
      "source": [
        "In the below code, one hidden layer is modeled with 32 neurons. Considering\n",
        "the input and output layer, we have a total of 5 layers in the model. In case any optimizer is not mentioned then “Adam” is the default optimizer and it can manage a pretty large dataset."
      ]
    },
    {
      "cell_type": "code",
      "metadata": {
        "id": "EkBzCoekdqNu",
        "colab": {
          "base_uri": "https://localhost:8080/"
        },
        "outputId": "08f5e31c-a665-4b7b-e794-87abf8383ffe"
      },
      "source": [
        "# implementing MLPregressor\n",
        "regr = MLPRegressor(hidden_layer_sizes=(32), activation=\"relu\", random_state=1, max_iter=500).fit(X_train, y_train)"
      ],
      "execution_count": 23,
      "outputs": [
        {
          "output_type": "stream",
          "name": "stderr",
          "text": [
            "/usr/local/lib/python3.7/dist-packages/sklearn/neural_network/_multilayer_perceptron.py:696: ConvergenceWarning: Stochastic Optimizer: Maximum iterations (500) reached and the optimization hasn't converged yet.\n",
            "  ConvergenceWarning,\n"
          ]
        }
      ]
    },
    {
      "cell_type": "markdown",
      "metadata": {
        "id": "Rruum2FKdqNv"
      },
      "source": [
        "##### Prediction"
      ]
    },
    {
      "cell_type": "code",
      "metadata": {
        "id": "5yPBpSl0dqN1",
        "colab": {
          "base_uri": "https://localhost:8080/"
        },
        "outputId": "0c7fffa9-b416-4ea4-f878-b5e43e5e6099"
      },
      "source": [
        "y_pred = regr.predict(X_test)\n",
        "y_pred"
      ],
      "execution_count": 24,
      "outputs": [
        {
          "output_type": "execute_result",
          "data": {
            "text/plain": [
              "array([106943.7296704 , 105433.71377299, 104575.22478819, ...,\n",
              "        80490.94502437, 100875.35533722, 112639.58639599])"
            ]
          },
          "metadata": {},
          "execution_count": 24
        }
      ]
    },
    {
      "cell_type": "markdown",
      "metadata": {
        "id": "l-HUagWGdqN2"
      },
      "source": [
        "##### Evaluation"
      ]
    },
    {
      "cell_type": "code",
      "metadata": {
        "id": "PKmNxwzodqN3",
        "colab": {
          "base_uri": "https://localhost:8080/"
        },
        "outputId": "7d61d2ce-3b7c-41a1-80d2-f37db9c56f14"
      },
      "source": [
        "np.sqrt(mean_squared_error(y_test,y_pred))"
      ],
      "execution_count": 25,
      "outputs": [
        {
          "output_type": "execute_result",
          "data": {
            "text/plain": [
              "152367.3177159458"
            ]
          },
          "metadata": {},
          "execution_count": 25
        }
      ]
    },
    {
      "cell_type": "markdown",
      "metadata": {
        "id": "ehdUQLWSdqN4"
      },
      "source": [
        "Now, let us look at the tuning of the neural network hyperparameters or hyperparameter regularization."
      ]
    },
    {
      "cell_type": "markdown",
      "metadata": {
        "id": "SYgkmzLEdqN5"
      },
      "source": [
        "### Fine-Tuning Neural Network Hyperparameters"
      ]
    },
    {
      "cell_type": "markdown",
      "metadata": {
        "id": "gEYREMR3dqN6"
      },
      "source": [
        "The flexibility of neural networks is also one of their main drawbacks: there are many hyperparameters  to  tweak.  Not  only  can  we  use  any  imaginable  network  architecture, but even in a simple MLP we can change the number of layers, the number of neurons per layer, the type of activation function to use in each layer, the weight initialization  logic,  and  much  more. \n",
        "\n",
        "One  option  is  to  simply  try  many  combinations  of  hyperparameters  and  see  which one works best on the validation set (or using K-fold cross-validation). For this, one approach  is  simply to use  GridSearchCV  or  RandomizedSearchCV  to  explore  the  hyperparameter space."
      ]
    },
    {
      "cell_type": "markdown",
      "metadata": {
        "id": "WawLE5TndqN6"
      },
      "source": [
        "The first step is to create a function that will build and compile a Keras model, given a set of hyperparameters:"
      ]
    },
    {
      "cell_type": "code",
      "metadata": {
        "id": "KYsW5K_VdqN7"
      },
      "source": [
        "def build_model(n_hidden=1, n_neurons=30, learning_rate=3e-3, input_shape=[8]):\n",
        "    model = Sequential()\n",
        "    options = {\"input_shape\": input_shape}\n",
        "    for layer in range(n_hidden):\n",
        "        model.add(Dense(n_neurons, activation=\"relu\", **options))\n",
        "        options = {}\n",
        "    model.add(Dense(1, **options))\n",
        "    optimizer = SGD(learning_rate)\n",
        "    model.compile(loss=\"mse\", optimizer=optimizer)\n",
        "    return model"
      ],
      "execution_count": 26,
      "outputs": []
    },
    {
      "cell_type": "markdown",
      "metadata": {
        "id": "DBH4CYF5dqN8"
      },
      "source": [
        "This function creates a simple Sequential model for univariate regression (only one output  neuron),  with  the  given  input  shape  and  the  given  number  of  hidden  layers and  neurons,  and  it  compiles  it  using  an  SGD  optimizer  configured  with  the  given learning rate.\n",
        "\n",
        "Next, let’s create a KerasRegressor based on this build_model() function:"
      ]
    },
    {
      "cell_type": "code",
      "metadata": {
        "id": "gLNf-9oFdqN9",
        "colab": {
          "base_uri": "https://localhost:8080/"
        },
        "outputId": "fd82fa74-91ef-46ec-ea94-e22e4d750617"
      },
      "source": [
        "keras_reg = keras.wrappers.scikit_learn.KerasRegressor(build_model)"
      ],
      "execution_count": 27,
      "outputs": [
        {
          "output_type": "stream",
          "name": "stderr",
          "text": [
            "/usr/local/lib/python3.7/dist-packages/ipykernel_launcher.py:1: DeprecationWarning: KerasRegressor is deprecated, use Sci-Keras (https://github.com/adriangb/scikeras) instead.\n",
            "  \"\"\"Entry point for launching an IPython kernel.\n"
          ]
        }
      ]
    },
    {
      "cell_type": "markdown",
      "metadata": {
        "id": "fUo6pP6JdqN-"
      },
      "source": [
        "We want to train hundreds of variants and see which one performs best on the validation set. Since there are many hyperparameters, it is preferable to use a randomized search rather than grid search. \n",
        "\n",
        "Let’s try to explore the number of hidden layers, the number of neurons, and the learning rate:"
      ]
    },
    {
      "cell_type": "code",
      "metadata": {
        "id": "JKMjD2XHdqN_"
      },
      "source": [
        "param_distribs = {\n",
        "    \"n_hidden\": [0, 1, 2, 3],\n",
        "    \"n_neurons\": np.arange(1, 100),\n",
        "    \"learning_rate\": reciprocal(3e-4, 3e-2),\n",
        "}"
      ],
      "execution_count": 28,
      "outputs": []
    },
    {
      "cell_type": "code",
      "metadata": {
        "id": "Nl4MtAGwdqOA",
        "colab": {
          "base_uri": "https://localhost:8080/",
          "height": 1000
        },
        "outputId": "613af288-7022-432c-8e98-d2013ea20470"
      },
      "source": [
        "rnd_search_cv = RandomizedSearchCV(keras_reg, param_distribs, n_iter=10, cv=3)\n",
        "rnd_search_cv.fit(X_train, y_train, epochs=100,\n",
        "                  validation_data=(X_test,y_test.values),\n",
        "                  callbacks=[keras.callbacks.EarlyStopping(patience=10)])   "
      ],
      "execution_count": 29,
      "outputs": [
        {
          "output_type": "stream",
          "name": "stdout",
          "text": [
            "Epoch 1/100\n",
            "355/355 [==============================] - 1s 1ms/step - loss: 20588542061182976.0000 - val_loss: 20829391814656.0000\n",
            "Epoch 2/100\n",
            "355/355 [==============================] - 1s 1ms/step - loss: 13417014362112.0000 - val_loss: 7913247604736.0000\n",
            "Epoch 3/100\n",
            "355/355 [==============================] - 1s 1ms/step - loss: 5109085372416.0000 - val_loss: 3008247103488.0000\n",
            "Epoch 4/100\n",
            "355/355 [==============================] - 0s 1ms/step - loss: 1950954160128.0000 - val_loss: 1146691780608.0000\n",
            "Epoch 5/100\n",
            "355/355 [==============================] - 0s 1ms/step - loss: 750858076160.0000 - val_loss: 441210994688.0000\n",
            "Epoch 6/100\n",
            "355/355 [==============================] - 0s 1ms/step - loss: 294787022848.0000 - val_loss: 173997260800.0000\n",
            "Epoch 7/100\n",
            "355/355 [==============================] - 1s 1ms/step - loss: 121454133248.0000 - val_loss: 73050259456.0000\n",
            "Epoch 8/100\n",
            "355/355 [==============================] - 1s 1ms/step - loss: 55527993344.0000 - val_loss: 35039830016.0000\n",
            "Epoch 9/100\n",
            "355/355 [==============================] - 0s 1ms/step - loss: 30475765760.0000 - val_loss: 20866922496.0000\n",
            "Epoch 10/100\n",
            "355/355 [==============================] - 0s 1ms/step - loss: 20967385088.0000 - val_loss: 15643326464.0000\n",
            "Epoch 11/100\n",
            "355/355 [==============================] - 0s 1ms/step - loss: 17361348608.0000 - val_loss: 13745307648.0000\n",
            "Epoch 12/100\n",
            "355/355 [==============================] - 0s 1ms/step - loss: 15988448256.0000 - val_loss: 13083110400.0000\n",
            "Epoch 13/100\n",
            "355/355 [==============================] - 0s 1ms/step - loss: 15468047360.0000 - val_loss: 12862882816.0000\n",
            "Epoch 14/100\n",
            "355/355 [==============================] - 0s 1ms/step - loss: 15266685952.0000 - val_loss: 12801937408.0000\n",
            "Epoch 15/100\n",
            "355/355 [==============================] - 0s 1ms/step - loss: 15193254912.0000 - val_loss: 12791809024.0000\n",
            "Epoch 16/100\n",
            "355/355 [==============================] - 0s 1ms/step - loss: 15165058048.0000 - val_loss: 12796150784.0000\n",
            "Epoch 17/100\n",
            "355/355 [==============================] - 0s 1ms/step - loss: 15152479232.0000 - val_loss: 12803687424.0000\n",
            "Epoch 18/100\n",
            "355/355 [==============================] - 0s 1ms/step - loss: 15148227584.0000 - val_loss: 12809189376.0000\n",
            "Epoch 19/100\n",
            "355/355 [==============================] - 0s 1ms/step - loss: 15146836992.0000 - val_loss: 12813001728.0000\n",
            "Epoch 20/100\n",
            "355/355 [==============================] - 0s 1ms/step - loss: 15146258432.0000 - val_loss: 12816174080.0000\n",
            "Epoch 21/100\n",
            "355/355 [==============================] - 0s 1ms/step - loss: 15146012672.0000 - val_loss: 12816850944.0000\n",
            "Epoch 22/100\n",
            "355/355 [==============================] - 0s 1ms/step - loss: 15146089472.0000 - val_loss: 12817539072.0000\n",
            "Epoch 23/100\n",
            "355/355 [==============================] - 0s 1ms/step - loss: 15145929728.0000 - val_loss: 12818213888.0000\n",
            "Epoch 24/100\n",
            "355/355 [==============================] - 0s 1ms/step - loss: 15146018816.0000 - val_loss: 12818371584.0000\n",
            "Epoch 25/100\n",
            "355/355 [==============================] - 0s 1ms/step - loss: 15146073088.0000 - val_loss: 12819152896.0000\n",
            "178/178 [==============================] - 0s 1ms/step - loss: 10106571776.0000\n",
            "Epoch 1/100\n",
            "355/355 [==============================] - 1s 1ms/step - loss: 9671457822998528.0000 - val_loss: 2833650810880.0000\n",
            "Epoch 2/100\n",
            "355/355 [==============================] - 0s 1ms/step - loss: 1830620233728.0000 - val_loss: 1082445594624.0000\n",
            "Epoch 3/100\n",
            "355/355 [==============================] - 0s 1ms/step - loss: 703368462336.0000 - val_loss: 417837645824.0000\n",
            "Epoch 4/100\n",
            "355/355 [==============================] - 0s 1ms/step - loss: 274939707392.0000 - val_loss: 165772656640.0000\n",
            "Epoch 5/100\n",
            "355/355 [==============================] - 0s 1ms/step - loss: 112159408128.0000 - val_loss: 70384484352.0000\n",
            "Epoch 6/100\n",
            "355/355 [==============================] - 0s 1ms/step - loss: 50315968512.0000 - val_loss: 34389225472.0000\n",
            "Epoch 7/100\n",
            "355/355 [==============================] - 0s 1ms/step - loss: 26824175616.0000 - val_loss: 20793575424.0000\n",
            "Epoch 8/100\n",
            "355/355 [==============================] - 0s 1ms/step - loss: 17865398272.0000 - val_loss: 15713861632.0000\n",
            "Epoch 9/100\n",
            "355/355 [==============================] - 0s 1ms/step - loss: 14472194048.0000 - val_loss: 13827027968.0000\n",
            "Epoch 10/100\n",
            "355/355 [==============================] - 0s 1ms/step - loss: 13175173120.0000 - val_loss: 13145308160.0000\n",
            "Epoch 11/100\n",
            "355/355 [==============================] - 0s 1ms/step - loss: 12685950976.0000 - val_loss: 12900359168.0000\n",
            "Epoch 12/100\n",
            "355/355 [==============================] - 0s 1ms/step - loss: 12497541120.0000 - val_loss: 12820651008.0000\n",
            "Epoch 13/100\n",
            "355/355 [==============================] - 0s 1ms/step - loss: 12426286080.0000 - val_loss: 12796290048.0000\n",
            "Epoch 14/100\n",
            "355/355 [==============================] - 0s 1ms/step - loss: 12397749248.0000 - val_loss: 12791841792.0000\n",
            "Epoch 15/100\n",
            "355/355 [==============================] - 0s 1ms/step - loss: 12387782656.0000 - val_loss: 12792446976.0000\n",
            "Epoch 16/100\n",
            "355/355 [==============================] - 0s 1ms/step - loss: 12384096256.0000 - val_loss: 12794499072.0000\n",
            "Epoch 17/100\n",
            "355/355 [==============================] - 0s 1ms/step - loss: 12382350336.0000 - val_loss: 12796265472.0000\n",
            "Epoch 18/100\n",
            "355/355 [==============================] - 0s 1ms/step - loss: 12381503488.0000 - val_loss: 12797574144.0000\n",
            "Epoch 19/100\n",
            "355/355 [==============================] - 0s 1ms/step - loss: 12381380608.0000 - val_loss: 12797937664.0000\n",
            "Epoch 20/100\n",
            "355/355 [==============================] - 0s 1ms/step - loss: 12381234176.0000 - val_loss: 12798886912.0000\n",
            "Epoch 21/100\n",
            "355/355 [==============================] - 0s 1ms/step - loss: 12381210624.0000 - val_loss: 12798965760.0000\n",
            "Epoch 22/100\n",
            "355/355 [==============================] - 0s 1ms/step - loss: 12381171712.0000 - val_loss: 12799209472.0000\n",
            "Epoch 23/100\n",
            "355/355 [==============================] - 1s 1ms/step - loss: 12381236224.0000 - val_loss: 12799549440.0000\n",
            "Epoch 24/100\n",
            "355/355 [==============================] - 0s 1ms/step - loss: 12381089792.0000 - val_loss: 12800065536.0000\n",
            "178/178 [==============================] - 0s 1ms/step - loss: 15598904320.0000\n",
            "Epoch 1/100\n",
            "355/355 [==============================] - 1s 2ms/step - loss: nan - val_loss: nan\n",
            "Epoch 2/100\n",
            "355/355 [==============================] - 0s 1ms/step - loss: nan - val_loss: nan\n",
            "Epoch 3/100\n",
            "355/355 [==============================] - 0s 1ms/step - loss: nan - val_loss: nan\n",
            "Epoch 4/100\n",
            "355/355 [==============================] - 1s 1ms/step - loss: nan - val_loss: nan\n",
            "Epoch 5/100\n",
            "355/355 [==============================] - 0s 1ms/step - loss: nan - val_loss: nan\n",
            "Epoch 6/100\n",
            "355/355 [==============================] - 0s 1ms/step - loss: nan - val_loss: nan\n",
            "Epoch 7/100\n",
            "355/355 [==============================] - 0s 1ms/step - loss: nan - val_loss: nan\n",
            "Epoch 8/100\n",
            "355/355 [==============================] - 0s 1ms/step - loss: nan - val_loss: nan\n",
            "Epoch 9/100\n",
            "355/355 [==============================] - 0s 1ms/step - loss: nan - val_loss: nan\n",
            "Epoch 10/100\n",
            "355/355 [==============================] - 0s 1ms/step - loss: nan - val_loss: nan\n",
            "178/178 [==============================] - 0s 1ms/step - loss: nan\n",
            "Epoch 1/100\n",
            "355/355 [==============================] - 1s 2ms/step - loss: nan - val_loss: nan\n",
            "Epoch 2/100\n",
            "355/355 [==============================] - 0s 1ms/step - loss: nan - val_loss: nan\n",
            "Epoch 3/100\n",
            "355/355 [==============================] - 0s 1ms/step - loss: nan - val_loss: nan\n",
            "Epoch 4/100\n",
            "355/355 [==============================] - 0s 1ms/step - loss: nan - val_loss: nan\n",
            "Epoch 5/100\n",
            "355/355 [==============================] - 0s 1ms/step - loss: nan - val_loss: nan\n",
            "Epoch 6/100\n",
            "355/355 [==============================] - 0s 1ms/step - loss: nan - val_loss: nan\n",
            "Epoch 7/100\n",
            "355/355 [==============================] - 1s 1ms/step - loss: nan - val_loss: nan\n",
            "Epoch 8/100\n",
            "355/355 [==============================] - 1s 1ms/step - loss: nan - val_loss: nan\n",
            "Epoch 9/100\n",
            "355/355 [==============================] - 0s 1ms/step - loss: nan - val_loss: nan\n",
            "Epoch 10/100\n",
            "355/355 [==============================] - 0s 1ms/step - loss: nan - val_loss: nan\n",
            "178/178 [==============================] - 0s 1ms/step - loss: nan\n",
            "Epoch 1/100\n",
            "355/355 [==============================] - 1s 1ms/step - loss: 64285391154315264.0000 - val_loss: 12808076288.0000\n",
            "Epoch 2/100\n",
            "355/355 [==============================] - 0s 1ms/step - loss: 12388709376.0000 - val_loss: 12824173568.0000\n",
            "Epoch 3/100\n",
            "355/355 [==============================] - 0s 1ms/step - loss: 12387128320.0000 - val_loss: 12815264768.0000\n",
            "Epoch 4/100\n",
            "355/355 [==============================] - 0s 1ms/step - loss: 12389100544.0000 - val_loss: 12813515776.0000\n",
            "Epoch 5/100\n",
            "355/355 [==============================] - 1s 1ms/step - loss: 12391848960.0000 - val_loss: 12809945088.0000\n",
            "Epoch 6/100\n",
            "355/355 [==============================] - 1s 1ms/step - loss: 12386070528.0000 - val_loss: 12815234048.0000\n",
            "Epoch 7/100\n",
            "355/355 [==============================] - 0s 1ms/step - loss: 12389941248.0000 - val_loss: 12792653824.0000\n",
            "Epoch 8/100\n",
            "355/355 [==============================] - 0s 1ms/step - loss: 12390007808.0000 - val_loss: 12791797760.0000\n",
            "Epoch 9/100\n",
            "355/355 [==============================] - 0s 1ms/step - loss: 12394046464.0000 - val_loss: 12794179584.0000\n",
            "Epoch 10/100\n",
            "355/355 [==============================] - 0s 1ms/step - loss: 12391562240.0000 - val_loss: 12806725632.0000\n",
            "Epoch 11/100\n",
            "355/355 [==============================] - 0s 1ms/step - loss: 12390474752.0000 - val_loss: 12792090624.0000\n",
            "Epoch 12/100\n",
            "355/355 [==============================] - 0s 1ms/step - loss: 12389577728.0000 - val_loss: 12859740160.0000\n",
            "Epoch 13/100\n",
            "355/355 [==============================] - 0s 1ms/step - loss: 12391282688.0000 - val_loss: 12812270592.0000\n",
            "Epoch 14/100\n",
            "355/355 [==============================] - 0s 1ms/step - loss: 12384164864.0000 - val_loss: 12827194368.0000\n",
            "Epoch 15/100\n",
            "355/355 [==============================] - 0s 1ms/step - loss: 12388538368.0000 - val_loss: 12800828416.0000\n",
            "Epoch 16/100\n",
            "355/355 [==============================] - 1s 1ms/step - loss: 12390337536.0000 - val_loss: 12807262208.0000\n",
            "Epoch 17/100\n",
            "355/355 [==============================] - 0s 1ms/step - loss: 12390044672.0000 - val_loss: 12791800832.0000\n",
            "Epoch 18/100\n",
            "355/355 [==============================] - 0s 1ms/step - loss: 12390434816.0000 - val_loss: 12805703680.0000\n",
            "178/178 [==============================] - 0s 1ms/step - loss: 15607275520.0000\n",
            "Epoch 1/100\n",
            "355/355 [==============================] - 1s 1ms/step - loss: nan - val_loss: nan\n",
            "Epoch 2/100\n",
            "355/355 [==============================] - 0s 1ms/step - loss: nan - val_loss: nan\n",
            "Epoch 3/100\n",
            "355/355 [==============================] - 0s 1ms/step - loss: nan - val_loss: nan\n",
            "Epoch 4/100\n",
            "355/355 [==============================] - 0s 1ms/step - loss: nan - val_loss: nan\n",
            "Epoch 5/100\n",
            "355/355 [==============================] - 0s 1ms/step - loss: nan - val_loss: nan\n",
            "Epoch 6/100\n",
            "355/355 [==============================] - 0s 1ms/step - loss: nan - val_loss: nan\n",
            "Epoch 7/100\n",
            "355/355 [==============================] - 0s 1ms/step - loss: nan - val_loss: nan\n",
            "Epoch 8/100\n",
            "355/355 [==============================] - 0s 1ms/step - loss: nan - val_loss: nan\n",
            "Epoch 9/100\n",
            "355/355 [==============================] - 0s 1ms/step - loss: nan - val_loss: nan\n",
            "Epoch 10/100\n",
            "355/355 [==============================] - 0s 1ms/step - loss: nan - val_loss: nan\n",
            "178/178 [==============================] - 0s 1ms/step - loss: nan\n",
            "Epoch 1/100\n",
            "355/355 [==============================] - 1s 2ms/step - loss: 12921751196903553610259890176.0000 - val_loss: 5000429820732981477638144.0000\n",
            "Epoch 2/100\n",
            "355/355 [==============================] - 0s 1ms/step - loss: 2210513838720464885645312.0000 - val_loss: 712768283892487754350592.0000\n",
            "Epoch 3/100\n",
            "355/355 [==============================] - 0s 1ms/step - loss: 315089700214161306288128.0000 - val_loss: 101598856714472902361088.0000\n",
            "Epoch 4/100\n",
            "355/355 [==============================] - 1s 2ms/step - loss: 44913205629864703426560.0000 - val_loss: 14481991134554680721408.0000\n",
            "Epoch 5/100\n",
            "355/355 [==============================] - 1s 2ms/step - loss: 6401971578998496428032.0000 - val_loss: 2064280761988143906816.0000\n",
            "Epoch 6/100\n",
            "355/355 [==============================] - 1s 2ms/step - loss: 912544126295760437248.0000 - val_loss: 294244880677506908160.0000\n",
            "Epoch 7/100\n",
            "355/355 [==============================] - 0s 1ms/step - loss: 130075251421900439552.0000 - val_loss: 41942001339468873728.0000\n",
            "Epoch 8/100\n",
            "355/355 [==============================] - 0s 1ms/step - loss: 18541057982116921344.0000 - val_loss: 5978482875601780736.0000\n",
            "Epoch 9/100\n",
            "355/355 [==============================] - 0s 1ms/step - loss: 2642864213847965696.0000 - val_loss: 852185351920287744.0000\n",
            "Epoch 10/100\n",
            "355/355 [==============================] - 1s 1ms/step - loss: 376716494974746624.0000 - val_loss: 121473623729897472.0000\n",
            "Epoch 11/100\n",
            "355/355 [==============================] - 0s 1ms/step - loss: 53697506495692800.0000 - val_loss: 17315870397169664.0000\n",
            "Epoch 12/100\n",
            "355/355 [==============================] - 0s 1ms/step - loss: 7654124568969216.0000 - val_loss: 2468550706987008.0000\n",
            "Epoch 13/100\n",
            "355/355 [==============================] - 0s 1ms/step - loss: 1091035040055296.0000 - val_loss: 352004278845440.0000\n",
            "Epoch 14/100\n",
            "355/355 [==============================] - 0s 1ms/step - loss: 155535512961024.0000 - val_loss: 50236630237184.0000\n",
            "Epoch 15/100\n",
            "355/355 [==============================] - 0s 1ms/step - loss: 22183929708544.0000 - val_loss: 7188882391040.0000\n",
            "Epoch 16/100\n",
            "355/355 [==============================] - 1s 1ms/step - loss: 3174833061888.0000 - val_loss: 1042365677568.0000\n",
            "Epoch 17/100\n",
            "355/355 [==============================] - 0s 1ms/step - loss: 465582718976.0000 - val_loss: 162181758976.0000\n",
            "Epoch 18/100\n",
            "355/355 [==============================] - 0s 1ms/step - loss: 79340380160.0000 - val_loss: 34982846464.0000\n",
            "Epoch 19/100\n",
            "355/355 [==============================] - 0s 1ms/step - loss: 24312977408.0000 - val_loss: 16410053632.0000\n",
            "Epoch 20/100\n",
            "355/355 [==============================] - 1s 2ms/step - loss: 16479246336.0000 - val_loss: 13480302592.0000\n",
            "Epoch 21/100\n",
            "355/355 [==============================] - 1s 2ms/step - loss: 15341093888.0000 - val_loss: 12972863488.0000\n",
            "Epoch 22/100\n",
            "355/355 [==============================] - 0s 1ms/step - loss: 15176072192.0000 - val_loss: 12864847872.0000\n",
            "Epoch 23/100\n",
            "355/355 [==============================] - 1s 2ms/step - loss: 15149405184.0000 - val_loss: 12827577344.0000\n",
            "Epoch 24/100\n",
            "355/355 [==============================] - 0s 1ms/step - loss: 15146787840.0000 - val_loss: 12826019840.0000\n",
            "Epoch 25/100\n",
            "355/355 [==============================] - 1s 2ms/step - loss: 15146571776.0000 - val_loss: 12819569664.0000\n",
            "Epoch 26/100\n",
            "355/355 [==============================] - 0s 1ms/step - loss: 15146603520.0000 - val_loss: 12819854336.0000\n",
            "Epoch 27/100\n",
            "355/355 [==============================] - 0s 1ms/step - loss: 15146702848.0000 - val_loss: 12823052288.0000\n",
            "Epoch 28/100\n",
            "355/355 [==============================] - 0s 1ms/step - loss: 15146587136.0000 - val_loss: 12823213056.0000\n",
            "Epoch 29/100\n",
            "355/355 [==============================] - 1s 2ms/step - loss: 15146536960.0000 - val_loss: 12819757056.0000\n",
            "Epoch 30/100\n",
            "355/355 [==============================] - 1s 1ms/step - loss: 15146404864.0000 - val_loss: 12821701632.0000\n",
            "Epoch 31/100\n",
            "355/355 [==============================] - 0s 1ms/step - loss: 15146537984.0000 - val_loss: 12819095552.0000\n",
            "Epoch 32/100\n",
            "355/355 [==============================] - 1s 1ms/step - loss: 15146405888.0000 - val_loss: 12823638016.0000\n",
            "Epoch 33/100\n",
            "355/355 [==============================] - 0s 1ms/step - loss: 15146414080.0000 - val_loss: 12819095552.0000\n",
            "Epoch 34/100\n",
            "355/355 [==============================] - 1s 1ms/step - loss: 15146574848.0000 - val_loss: 12820020224.0000\n",
            "Epoch 35/100\n",
            "355/355 [==============================] - 0s 1ms/step - loss: 15146358784.0000 - val_loss: 12821716992.0000\n",
            "Epoch 36/100\n",
            "355/355 [==============================] - 0s 1ms/step - loss: 15146577920.0000 - val_loss: 12821270528.0000\n",
            "Epoch 37/100\n",
            "355/355 [==============================] - 0s 1ms/step - loss: 15146717184.0000 - val_loss: 12824341504.0000\n",
            "Epoch 38/100\n",
            "355/355 [==============================] - 1s 2ms/step - loss: 15145842688.0000 - val_loss: 12817087488.0000\n",
            "Epoch 39/100\n",
            "355/355 [==============================] - 1s 2ms/step - loss: 15146750976.0000 - val_loss: 12818592768.0000\n",
            "Epoch 40/100\n",
            "355/355 [==============================] - 1s 2ms/step - loss: 15146594304.0000 - val_loss: 12820175872.0000\n",
            "Epoch 41/100\n",
            "355/355 [==============================] - 0s 1ms/step - loss: 15146551296.0000 - val_loss: 12817896448.0000\n",
            "Epoch 42/100\n",
            "355/355 [==============================] - 0s 1ms/step - loss: 15146462208.0000 - val_loss: 12816527360.0000\n",
            "Epoch 43/100\n",
            "355/355 [==============================] - 0s 1ms/step - loss: 15146574848.0000 - val_loss: 12819468288.0000\n",
            "Epoch 44/100\n",
            "355/355 [==============================] - 0s 1ms/step - loss: 15146706944.0000 - val_loss: 12820589568.0000\n",
            "Epoch 45/100\n",
            "355/355 [==============================] - 1s 2ms/step - loss: 15146505216.0000 - val_loss: 12817583104.0000\n",
            "Epoch 46/100\n",
            "355/355 [==============================] - 0s 1ms/step - loss: 15146563584.0000 - val_loss: 12817544192.0000\n",
            "Epoch 47/100\n",
            "355/355 [==============================] - 0s 1ms/step - loss: 15146718208.0000 - val_loss: 12817341440.0000\n",
            "Epoch 48/100\n",
            "355/355 [==============================] - 1s 2ms/step - loss: 15146536960.0000 - val_loss: 12820755456.0000\n",
            "Epoch 49/100\n",
            "355/355 [==============================] - 1s 1ms/step - loss: 15146677248.0000 - val_loss: 12820974592.0000\n",
            "Epoch 50/100\n",
            "355/355 [==============================] - 1s 2ms/step - loss: 15146622976.0000 - val_loss: 12820261888.0000\n",
            "Epoch 51/100\n",
            "355/355 [==============================] - 0s 1ms/step - loss: 15146033152.0000 - val_loss: 12816881664.0000\n",
            "Epoch 52/100\n",
            "355/355 [==============================] - 0s 1ms/step - loss: 15146686464.0000 - val_loss: 12817223680.0000\n",
            "178/178 [==============================] - 0s 1ms/step - loss: 10102287360.0000\n",
            "Epoch 1/100\n",
            "355/355 [==============================] - 1s 2ms/step - loss: nan - val_loss: nan\n",
            "Epoch 2/100\n",
            "355/355 [==============================] - 0s 1ms/step - loss: nan - val_loss: nan\n",
            "Epoch 3/100\n",
            "355/355 [==============================] - 0s 1ms/step - loss: nan - val_loss: nan\n",
            "Epoch 4/100\n",
            "355/355 [==============================] - 1s 1ms/step - loss: nan - val_loss: nan\n",
            "Epoch 5/100\n",
            "355/355 [==============================] - 0s 1ms/step - loss: nan - val_loss: nan\n",
            "Epoch 6/100\n",
            "355/355 [==============================] - 0s 1ms/step - loss: nan - val_loss: nan\n",
            "Epoch 7/100\n",
            "355/355 [==============================] - 0s 1ms/step - loss: nan - val_loss: nan\n",
            "Epoch 8/100\n",
            "355/355 [==============================] - 0s 1ms/step - loss: nan - val_loss: nan\n",
            "Epoch 9/100\n",
            "355/355 [==============================] - 0s 1ms/step - loss: nan - val_loss: nan\n",
            "Epoch 10/100\n",
            "355/355 [==============================] - 1s 1ms/step - loss: nan - val_loss: nan\n",
            "178/178 [==============================] - 0s 1ms/step - loss: nan\n",
            "Epoch 1/100\n",
            "355/355 [==============================] - 1s 2ms/step - loss: nan - val_loss: nan\n",
            "Epoch 2/100\n",
            "355/355 [==============================] - 0s 1ms/step - loss: nan - val_loss: nan\n",
            "Epoch 3/100\n",
            "355/355 [==============================] - 0s 1ms/step - loss: nan - val_loss: nan\n",
            "Epoch 4/100\n",
            "355/355 [==============================] - 1s 1ms/step - loss: nan - val_loss: nan\n",
            "Epoch 5/100\n",
            "355/355 [==============================] - 0s 1ms/step - loss: nan - val_loss: nan\n",
            "Epoch 6/100\n",
            "355/355 [==============================] - 1s 1ms/step - loss: nan - val_loss: nan\n",
            "Epoch 7/100\n",
            "355/355 [==============================] - 1s 2ms/step - loss: nan - val_loss: nan\n",
            "Epoch 8/100\n",
            "355/355 [==============================] - 0s 1ms/step - loss: nan - val_loss: nan\n",
            "Epoch 9/100\n",
            "355/355 [==============================] - 1s 2ms/step - loss: nan - val_loss: nan\n",
            "Epoch 10/100\n",
            "355/355 [==============================] - 0s 1ms/step - loss: nan - val_loss: nan\n",
            "178/178 [==============================] - 0s 1ms/step - loss: nan\n",
            "Epoch 1/100\n",
            "355/355 [==============================] - 1s 2ms/step - loss: 152196695982080.0000 - val_loss: 64659578880.0000\n",
            "Epoch 2/100\n",
            "355/355 [==============================] - 0s 1ms/step - loss: 29723686912.0000 - val_loss: 13837147136.0000\n",
            "Epoch 3/100\n",
            "355/355 [==============================] - 0s 1ms/step - loss: 15521326080.0000 - val_loss: 12791929856.0000\n",
            "Epoch 4/100\n",
            "355/355 [==============================] - 0s 1ms/step - loss: 15155423232.0000 - val_loss: 12815670272.0000\n",
            "Epoch 5/100\n",
            "355/355 [==============================] - 1s 1ms/step - loss: 15147508736.0000 - val_loss: 12824773632.0000\n",
            "Epoch 6/100\n",
            "355/355 [==============================] - 0s 1ms/step - loss: 15147554816.0000 - val_loss: 12820723712.0000\n",
            "Epoch 7/100\n",
            "355/355 [==============================] - 0s 1ms/step - loss: 15146961920.0000 - val_loss: 12823670784.0000\n",
            "Epoch 8/100\n",
            "355/355 [==============================] - 0s 1ms/step - loss: 15147667456.0000 - val_loss: 12818934784.0000\n",
            "Epoch 9/100\n",
            "355/355 [==============================] - 1s 2ms/step - loss: 15146878976.0000 - val_loss: 12811616256.0000\n",
            "Epoch 10/100\n",
            "355/355 [==============================] - 0s 1ms/step - loss: 15147925504.0000 - val_loss: 12823821312.0000\n",
            "Epoch 11/100\n",
            "355/355 [==============================] - 1s 1ms/step - loss: 15146304512.0000 - val_loss: 12830689280.0000\n",
            "Epoch 12/100\n",
            "355/355 [==============================] - 0s 1ms/step - loss: 15147674624.0000 - val_loss: 12820648960.0000\n",
            "Epoch 13/100\n",
            "355/355 [==============================] - 1s 2ms/step - loss: 15147319296.0000 - val_loss: 12820549632.0000\n",
            "178/178 [==============================] - 0s 1ms/step - loss: 10109620224.0000\n",
            "Epoch 1/100\n",
            "355/355 [==============================] - 1s 1ms/step - loss: 974396881633280.0000 - val_loss: 297540124672.0000\n",
            "Epoch 2/100\n",
            "355/355 [==============================] - 0s 1ms/step - loss: 89602007040.0000 - val_loss: 19711420416.0000\n",
            "Epoch 3/100\n",
            "355/355 [==============================] - 0s 1ms/step - loss: 14398580736.0000 - val_loss: 12909192192.0000\n",
            "Epoch 4/100\n",
            "355/355 [==============================] - 0s 1ms/step - loss: 12436587520.0000 - val_loss: 12792350720.0000\n",
            "Epoch 5/100\n",
            "355/355 [==============================] - 1s 1ms/step - loss: 12384109568.0000 - val_loss: 12800486400.0000\n",
            "Epoch 6/100\n",
            "355/355 [==============================] - 1s 1ms/step - loss: 12381928448.0000 - val_loss: 12797436928.0000\n",
            "Epoch 7/100\n",
            "355/355 [==============================] - 0s 1ms/step - loss: 12382532608.0000 - val_loss: 12798990336.0000\n",
            "Epoch 8/100\n",
            "355/355 [==============================] - 0s 1ms/step - loss: 12381721600.0000 - val_loss: 12795364352.0000\n",
            "Epoch 9/100\n",
            "355/355 [==============================] - 1s 1ms/step - loss: 12382107648.0000 - val_loss: 12805202944.0000\n",
            "Epoch 10/100\n",
            "355/355 [==============================] - 1s 1ms/step - loss: 12382085120.0000 - val_loss: 12800192512.0000\n",
            "Epoch 11/100\n",
            "355/355 [==============================] - 0s 1ms/step - loss: 12382433280.0000 - val_loss: 12802681856.0000\n",
            "Epoch 12/100\n",
            "355/355 [==============================] - 1s 1ms/step - loss: 12381603840.0000 - val_loss: 12802138112.0000\n",
            "Epoch 13/100\n",
            "355/355 [==============================] - 0s 1ms/step - loss: 12381992960.0000 - val_loss: 12796267520.0000\n",
            "Epoch 14/100\n",
            "355/355 [==============================] - 0s 1ms/step - loss: 12381795328.0000 - val_loss: 12804431872.0000\n",
            "178/178 [==============================] - 0s 1ms/step - loss: 15605439488.0000\n",
            "Epoch 1/100\n",
            "355/355 [==============================] - 1s 2ms/step - loss: nan - val_loss: nan\n",
            "Epoch 2/100\n",
            "355/355 [==============================] - 1s 1ms/step - loss: nan - val_loss: nan\n",
            "Epoch 3/100\n",
            "355/355 [==============================] - 0s 1ms/step - loss: nan - val_loss: nan\n",
            "Epoch 4/100\n",
            "355/355 [==============================] - 0s 1ms/step - loss: nan - val_loss: nan\n",
            "Epoch 5/100\n",
            "355/355 [==============================] - 0s 1ms/step - loss: nan - val_loss: nan\n",
            "Epoch 6/100\n",
            "355/355 [==============================] - 0s 1ms/step - loss: nan - val_loss: nan\n",
            "Epoch 7/100\n",
            "355/355 [==============================] - 1s 1ms/step - loss: nan - val_loss: nan\n",
            "Epoch 8/100\n",
            "355/355 [==============================] - 1s 1ms/step - loss: nan - val_loss: nan\n",
            "Epoch 9/100\n",
            "355/355 [==============================] - 1s 1ms/step - loss: nan - val_loss: nan\n",
            "Epoch 10/100\n",
            "355/355 [==============================] - 0s 1ms/step - loss: nan - val_loss: nan\n",
            "178/178 [==============================] - 0s 1ms/step - loss: nan\n",
            "Epoch 1/100\n",
            "355/355 [==============================] - 1s 1ms/step - loss: nan - val_loss: nan\n",
            "Epoch 2/100\n",
            "355/355 [==============================] - 0s 1ms/step - loss: nan - val_loss: nan\n",
            "Epoch 3/100\n",
            "355/355 [==============================] - 1s 2ms/step - loss: nan - val_loss: nan\n",
            "Epoch 4/100\n",
            "355/355 [==============================] - 0s 1ms/step - loss: nan - val_loss: nan\n",
            "Epoch 5/100\n",
            "355/355 [==============================] - 1s 2ms/step - loss: nan - val_loss: nan\n",
            "Epoch 6/100\n",
            "355/355 [==============================] - 0s 1ms/step - loss: nan - val_loss: nan\n",
            "Epoch 7/100\n",
            "355/355 [==============================] - 1s 2ms/step - loss: nan - val_loss: nan\n",
            "Epoch 8/100\n",
            "355/355 [==============================] - 1s 2ms/step - loss: nan - val_loss: nan\n",
            "Epoch 9/100\n",
            "355/355 [==============================] - 0s 1ms/step - loss: nan - val_loss: nan\n",
            "Epoch 10/100\n",
            "355/355 [==============================] - 0s 1ms/step - loss: nan - val_loss: nan\n",
            "178/178 [==============================] - 0s 1ms/step - loss: nan\n",
            "Epoch 1/100\n",
            "355/355 [==============================] - 1s 2ms/step - loss: nan - val_loss: nan\n",
            "Epoch 2/100\n",
            "355/355 [==============================] - 0s 1ms/step - loss: nan - val_loss: nan\n",
            "Epoch 3/100\n",
            "355/355 [==============================] - 0s 1ms/step - loss: nan - val_loss: nan\n",
            "Epoch 4/100\n",
            "355/355 [==============================] - 0s 1ms/step - loss: nan - val_loss: nan\n",
            "Epoch 5/100\n",
            "355/355 [==============================] - 1s 1ms/step - loss: nan - val_loss: nan\n",
            "Epoch 6/100\n",
            "355/355 [==============================] - 0s 1ms/step - loss: nan - val_loss: nan\n",
            "Epoch 7/100\n",
            "355/355 [==============================] - 0s 1ms/step - loss: nan - val_loss: nan\n",
            "Epoch 8/100\n",
            "355/355 [==============================] - 1s 2ms/step - loss: nan - val_loss: nan\n",
            "Epoch 9/100\n",
            "355/355 [==============================] - 0s 1ms/step - loss: nan - val_loss: nan\n",
            "Epoch 10/100\n",
            "355/355 [==============================] - 1s 1ms/step - loss: nan - val_loss: nan\n",
            "178/178 [==============================] - 0s 1ms/step - loss: nan\n",
            "Epoch 1/100\n",
            "355/355 [==============================] - 1s 2ms/step - loss: nan - val_loss: nan\n",
            "Epoch 2/100\n",
            "355/355 [==============================] - 1s 2ms/step - loss: nan - val_loss: nan\n",
            "Epoch 3/100\n",
            "355/355 [==============================] - 0s 1ms/step - loss: nan - val_loss: nan\n",
            "Epoch 4/100\n",
            "355/355 [==============================] - 1s 2ms/step - loss: nan - val_loss: nan\n",
            "Epoch 5/100\n",
            "355/355 [==============================] - 1s 2ms/step - loss: nan - val_loss: nan\n",
            "Epoch 6/100\n",
            "355/355 [==============================] - 0s 1ms/step - loss: nan - val_loss: nan\n",
            "Epoch 7/100\n",
            "355/355 [==============================] - 0s 1ms/step - loss: nan - val_loss: nan\n",
            "Epoch 8/100\n",
            "355/355 [==============================] - 1s 1ms/step - loss: nan - val_loss: nan\n",
            "Epoch 9/100\n",
            "355/355 [==============================] - 0s 1ms/step - loss: nan - val_loss: nan\n",
            "Epoch 10/100\n",
            "355/355 [==============================] - 1s 2ms/step - loss: nan - val_loss: nan\n",
            "178/178 [==============================] - 0s 1ms/step - loss: nan\n",
            "Epoch 1/100\n",
            "355/355 [==============================] - 1s 2ms/step - loss: nan - val_loss: nan\n",
            "Epoch 2/100\n",
            "355/355 [==============================] - 1s 2ms/step - loss: nan - val_loss: nan\n",
            "Epoch 3/100\n",
            "355/355 [==============================] - 1s 2ms/step - loss: nan - val_loss: nan\n",
            "Epoch 4/100\n",
            "355/355 [==============================] - 0s 1ms/step - loss: nan - val_loss: nan\n",
            "Epoch 5/100\n",
            "355/355 [==============================] - 1s 1ms/step - loss: nan - val_loss: nan\n",
            "Epoch 6/100\n",
            "355/355 [==============================] - 1s 1ms/step - loss: nan - val_loss: nan\n",
            "Epoch 7/100\n",
            "355/355 [==============================] - 1s 2ms/step - loss: nan - val_loss: nan\n",
            "Epoch 8/100\n",
            "355/355 [==============================] - 1s 2ms/step - loss: nan - val_loss: nan\n",
            "Epoch 9/100\n",
            "355/355 [==============================] - 1s 2ms/step - loss: nan - val_loss: nan\n",
            "Epoch 10/100\n",
            "355/355 [==============================] - 0s 1ms/step - loss: nan - val_loss: nan\n",
            "178/178 [==============================] - 0s 1ms/step - loss: nan\n",
            "Epoch 1/100\n",
            "355/355 [==============================] - 1s 2ms/step - loss: nan - val_loss: nan\n",
            "Epoch 2/100\n",
            "355/355 [==============================] - 0s 1ms/step - loss: nan - val_loss: nan\n",
            "Epoch 3/100\n",
            "355/355 [==============================] - 1s 2ms/step - loss: nan - val_loss: nan\n",
            "Epoch 4/100\n",
            "355/355 [==============================] - 0s 1ms/step - loss: nan - val_loss: nan\n",
            "Epoch 5/100\n",
            "355/355 [==============================] - 1s 2ms/step - loss: nan - val_loss: nan\n",
            "Epoch 6/100\n",
            "355/355 [==============================] - 1s 2ms/step - loss: nan - val_loss: nan\n",
            "Epoch 7/100\n",
            "355/355 [==============================] - 1s 2ms/step - loss: nan - val_loss: nan\n",
            "Epoch 8/100\n",
            "355/355 [==============================] - 1s 2ms/step - loss: nan - val_loss: nan\n",
            "Epoch 9/100\n",
            "355/355 [==============================] - 0s 1ms/step - loss: nan - val_loss: nan\n",
            "Epoch 10/100\n",
            "355/355 [==============================] - 0s 1ms/step - loss: nan - val_loss: nan\n",
            "178/178 [==============================] - 0s 1ms/step - loss: nan\n",
            "Epoch 1/100\n",
            "355/355 [==============================] - 1s 2ms/step - loss: nan - val_loss: nan\n",
            "Epoch 2/100\n",
            "355/355 [==============================] - 1s 2ms/step - loss: nan - val_loss: nan\n",
            "Epoch 3/100\n",
            "355/355 [==============================] - 1s 2ms/step - loss: nan - val_loss: nan\n",
            "Epoch 4/100\n",
            "355/355 [==============================] - 1s 2ms/step - loss: nan - val_loss: nan\n",
            "Epoch 5/100\n",
            "355/355 [==============================] - 1s 2ms/step - loss: nan - val_loss: nan\n",
            "Epoch 6/100\n",
            "355/355 [==============================] - 1s 2ms/step - loss: nan - val_loss: nan\n",
            "Epoch 7/100\n",
            "355/355 [==============================] - 1s 2ms/step - loss: nan - val_loss: nan\n",
            "Epoch 8/100\n",
            "355/355 [==============================] - 1s 1ms/step - loss: nan - val_loss: nan\n",
            "Epoch 9/100\n",
            "355/355 [==============================] - 1s 2ms/step - loss: nan - val_loss: nan\n",
            "Epoch 10/100\n",
            "355/355 [==============================] - 1s 2ms/step - loss: nan - val_loss: nan\n",
            "178/178 [==============================] - 0s 1ms/step - loss: nan\n",
            "Epoch 1/100\n",
            "355/355 [==============================] - 1s 1ms/step - loss: 24108060672.0000 - val_loss: 12493460480.0000\n",
            "Epoch 2/100\n",
            "355/355 [==============================] - 0s 1ms/step - loss: 14217958400.0000 - val_loss: 11888207872.0000\n",
            "Epoch 3/100\n",
            "355/355 [==============================] - 0s 1ms/step - loss: 13699076096.0000 - val_loss: 11596106752.0000\n",
            "Epoch 4/100\n",
            "355/355 [==============================] - 0s 1ms/step - loss: 13305554944.0000 - val_loss: 11304855552.0000\n",
            "Epoch 5/100\n",
            "355/355 [==============================] - 1s 1ms/step - loss: 12939117568.0000 - val_loss: 11049316352.0000\n",
            "Epoch 6/100\n",
            "355/355 [==============================] - 0s 1ms/step - loss: 12593368064.0000 - val_loss: 10819842048.0000\n",
            "Epoch 7/100\n",
            "355/355 [==============================] - 0s 1ms/step - loss: 12271466496.0000 - val_loss: 10560620544.0000\n",
            "Epoch 8/100\n",
            "355/355 [==============================] - 0s 1ms/step - loss: 11970267136.0000 - val_loss: 10360568832.0000\n",
            "Epoch 9/100\n",
            "355/355 [==============================] - 0s 1ms/step - loss: 11685621760.0000 - val_loss: 10172533760.0000\n",
            "Epoch 10/100\n",
            "355/355 [==============================] - 1s 1ms/step - loss: 11417676800.0000 - val_loss: 9956734976.0000\n",
            "Epoch 11/100\n",
            "355/355 [==============================] - 0s 1ms/step - loss: 11164955648.0000 - val_loss: 9788023808.0000\n",
            "Epoch 12/100\n",
            "355/355 [==============================] - 0s 1ms/step - loss: 10925502464.0000 - val_loss: 9635869696.0000\n",
            "Epoch 13/100\n",
            "355/355 [==============================] - 0s 1ms/step - loss: 10700268544.0000 - val_loss: 9453798400.0000\n",
            "Epoch 14/100\n",
            "355/355 [==============================] - 0s 1ms/step - loss: 10485924864.0000 - val_loss: 9292827648.0000\n",
            "Epoch 15/100\n",
            "355/355 [==============================] - 0s 1ms/step - loss: 10283660288.0000 - val_loss: 9164914688.0000\n",
            "Epoch 16/100\n",
            "355/355 [==============================] - 0s 1ms/step - loss: 10091859968.0000 - val_loss: 9032452096.0000\n",
            "Epoch 17/100\n",
            "355/355 [==============================] - 0s 1ms/step - loss: 9910112256.0000 - val_loss: 8863334400.0000\n",
            "Epoch 18/100\n",
            "355/355 [==============================] - 0s 1ms/step - loss: 9737359360.0000 - val_loss: 8767830016.0000\n",
            "Epoch 19/100\n",
            "355/355 [==============================] - 0s 1ms/step - loss: 9574495232.0000 - val_loss: 8621813760.0000\n",
            "Epoch 20/100\n",
            "355/355 [==============================] - 0s 1ms/step - loss: 9419220992.0000 - val_loss: 8501664768.0000\n",
            "Epoch 21/100\n",
            "355/355 [==============================] - 1s 2ms/step - loss: 9271870464.0000 - val_loss: 8410146304.0000\n",
            "Epoch 22/100\n",
            "355/355 [==============================] - 0s 1ms/step - loss: 9130811392.0000 - val_loss: 8297474048.0000\n",
            "Epoch 23/100\n",
            "355/355 [==============================] - 0s 1ms/step - loss: 8997528576.0000 - val_loss: 8200141312.0000\n",
            "Epoch 24/100\n",
            "355/355 [==============================] - 0s 1ms/step - loss: 8871019520.0000 - val_loss: 8115042816.0000\n",
            "Epoch 25/100\n",
            "355/355 [==============================] - 1s 1ms/step - loss: 8749504512.0000 - val_loss: 8009079296.0000\n",
            "Epoch 26/100\n",
            "355/355 [==============================] - 0s 1ms/step - loss: 8634544128.0000 - val_loss: 7948106752.0000\n",
            "Epoch 27/100\n",
            "355/355 [==============================] - 1s 1ms/step - loss: 8525066240.0000 - val_loss: 7856469504.0000\n",
            "Epoch 28/100\n",
            "355/355 [==============================] - 0s 1ms/step - loss: 8420197376.0000 - val_loss: 7746741248.0000\n",
            "Epoch 29/100\n",
            "355/355 [==============================] - 0s 1ms/step - loss: 8319938560.0000 - val_loss: 7698546176.0000\n",
            "Epoch 30/100\n",
            "355/355 [==============================] - 0s 1ms/step - loss: 8226143232.0000 - val_loss: 7592199680.0000\n",
            "Epoch 31/100\n",
            "355/355 [==============================] - 0s 1ms/step - loss: 8136236032.0000 - val_loss: 7544469504.0000\n",
            "Epoch 32/100\n",
            "355/355 [==============================] - 0s 1ms/step - loss: 8050014208.0000 - val_loss: 7462843904.0000\n",
            "Epoch 33/100\n",
            "355/355 [==============================] - 0s 1ms/step - loss: 7966975488.0000 - val_loss: 7376809984.0000\n",
            "Epoch 34/100\n",
            "355/355 [==============================] - 0s 1ms/step - loss: 7888666624.0000 - val_loss: 7362686976.0000\n",
            "Epoch 35/100\n",
            "355/355 [==============================] - 1s 1ms/step - loss: 7815115264.0000 - val_loss: 7294454784.0000\n",
            "Epoch 36/100\n",
            "355/355 [==============================] - 0s 1ms/step - loss: 7743560704.0000 - val_loss: 7212321280.0000\n",
            "Epoch 37/100\n",
            "355/355 [==============================] - 0s 1ms/step - loss: 7676094464.0000 - val_loss: 7169089024.0000\n",
            "Epoch 38/100\n",
            "355/355 [==============================] - 0s 1ms/step - loss: 7611491840.0000 - val_loss: 7130375680.0000\n",
            "Epoch 39/100\n",
            "355/355 [==============================] - 0s 1ms/step - loss: 7549240320.0000 - val_loss: 7074432512.0000\n",
            "Epoch 40/100\n",
            "355/355 [==============================] - 0s 1ms/step - loss: 7490422784.0000 - val_loss: 7005276160.0000\n",
            "Epoch 41/100\n",
            "355/355 [==============================] - 1s 1ms/step - loss: 7434786304.0000 - val_loss: 6975471616.0000\n",
            "Epoch 42/100\n",
            "355/355 [==============================] - 0s 1ms/step - loss: 7380752384.0000 - val_loss: 6935538688.0000\n",
            "Epoch 43/100\n",
            "355/355 [==============================] - 0s 1ms/step - loss: 7329861120.0000 - val_loss: 6900652032.0000\n",
            "Epoch 44/100\n",
            "355/355 [==============================] - 1s 1ms/step - loss: 7280793600.0000 - val_loss: 6861564928.0000\n",
            "Epoch 45/100\n",
            "355/355 [==============================] - 0s 1ms/step - loss: 7233039360.0000 - val_loss: 6795240960.0000\n",
            "Epoch 46/100\n",
            "355/355 [==============================] - 0s 1ms/step - loss: 7189274112.0000 - val_loss: 6783419904.0000\n",
            "Epoch 47/100\n",
            "355/355 [==============================] - 0s 1ms/step - loss: 7146626048.0000 - val_loss: 6732504064.0000\n",
            "Epoch 48/100\n",
            "355/355 [==============================] - 0s 1ms/step - loss: 7105832448.0000 - val_loss: 6696585728.0000\n",
            "Epoch 49/100\n",
            "355/355 [==============================] - 0s 1ms/step - loss: 7065044480.0000 - val_loss: 6679526400.0000\n",
            "Epoch 50/100\n",
            "355/355 [==============================] - 0s 1ms/step - loss: 7029299712.0000 - val_loss: 6631542272.0000\n",
            "Epoch 51/100\n",
            "355/355 [==============================] - 0s 1ms/step - loss: 6993677312.0000 - val_loss: 6591371776.0000\n",
            "Epoch 52/100\n",
            "355/355 [==============================] - 0s 1ms/step - loss: 6958973952.0000 - val_loss: 6563428864.0000\n",
            "Epoch 53/100\n",
            "355/355 [==============================] - 0s 1ms/step - loss: 6926749696.0000 - val_loss: 6542130688.0000\n",
            "Epoch 54/100\n",
            "355/355 [==============================] - 0s 1ms/step - loss: 6894649856.0000 - val_loss: 6510919680.0000\n",
            "Epoch 55/100\n",
            "355/355 [==============================] - 0s 1ms/step - loss: 6865569792.0000 - val_loss: 6506020352.0000\n",
            "Epoch 56/100\n",
            "355/355 [==============================] - 0s 1ms/step - loss: 6836944384.0000 - val_loss: 6479633408.0000\n",
            "Epoch 57/100\n",
            "355/355 [==============================] - 1s 2ms/step - loss: 6809588736.0000 - val_loss: 6454773760.0000\n",
            "Epoch 58/100\n",
            "355/355 [==============================] - 0s 1ms/step - loss: 6783232000.0000 - val_loss: 6429232128.0000\n",
            "Epoch 59/100\n",
            "355/355 [==============================] - 0s 1ms/step - loss: 6757941248.0000 - val_loss: 6407285248.0000\n",
            "Epoch 60/100\n",
            "355/355 [==============================] - 1s 2ms/step - loss: 6733974016.0000 - val_loss: 6399451136.0000\n",
            "Epoch 61/100\n",
            "355/355 [==============================] - 1s 2ms/step - loss: 6710740480.0000 - val_loss: 6368531456.0000\n",
            "Epoch 62/100\n",
            "355/355 [==============================] - 0s 1ms/step - loss: 6688591872.0000 - val_loss: 6352357376.0000\n",
            "Epoch 63/100\n",
            "355/355 [==============================] - 0s 1ms/step - loss: 6666738176.0000 - val_loss: 6312338944.0000\n",
            "Epoch 64/100\n",
            "355/355 [==============================] - 0s 1ms/step - loss: 6647137280.0000 - val_loss: 6329378816.0000\n",
            "Epoch 65/100\n",
            "355/355 [==============================] - 0s 1ms/step - loss: 6627062272.0000 - val_loss: 6281008128.0000\n",
            "Epoch 66/100\n",
            "355/355 [==============================] - 0s 1ms/step - loss: 6608899584.0000 - val_loss: 6283623936.0000\n",
            "Epoch 67/100\n",
            "355/355 [==============================] - 1s 1ms/step - loss: 6590855168.0000 - val_loss: 6271117824.0000\n",
            "Epoch 68/100\n",
            "355/355 [==============================] - 0s 1ms/step - loss: 6573798400.0000 - val_loss: 6245609472.0000\n",
            "Epoch 69/100\n",
            "355/355 [==============================] - 1s 2ms/step - loss: 6557060096.0000 - val_loss: 6233485312.0000\n",
            "Epoch 70/100\n",
            "355/355 [==============================] - 1s 2ms/step - loss: 6540991488.0000 - val_loss: 6221549056.0000\n",
            "Epoch 71/100\n",
            "355/355 [==============================] - 1s 2ms/step - loss: 6525832704.0000 - val_loss: 6204190208.0000\n",
            "Epoch 72/100\n",
            "355/355 [==============================] - 1s 2ms/step - loss: 6510828544.0000 - val_loss: 6191483904.0000\n",
            "Epoch 73/100\n",
            "355/355 [==============================] - 1s 2ms/step - loss: 6497145344.0000 - val_loss: 6177839104.0000\n",
            "Epoch 74/100\n",
            "355/355 [==============================] - 1s 1ms/step - loss: 6482915840.0000 - val_loss: 6194151424.0000\n",
            "Epoch 75/100\n",
            "355/355 [==============================] - 0s 1ms/step - loss: 6470544896.0000 - val_loss: 6160136704.0000\n",
            "Epoch 76/100\n",
            "355/355 [==============================] - 0s 1ms/step - loss: 6457185792.0000 - val_loss: 6158652928.0000\n",
            "Epoch 77/100\n",
            "355/355 [==============================] - 0s 1ms/step - loss: 6445498368.0000 - val_loss: 6140059136.0000\n",
            "Epoch 78/100\n",
            "355/355 [==============================] - 0s 1ms/step - loss: 6433485824.0000 - val_loss: 6112806400.0000\n",
            "Epoch 79/100\n",
            "355/355 [==============================] - 1s 1ms/step - loss: 6421812224.0000 - val_loss: 6093822976.0000\n",
            "Epoch 80/100\n",
            "355/355 [==============================] - 1s 2ms/step - loss: 6411404800.0000 - val_loss: 6109889024.0000\n",
            "Epoch 81/100\n",
            "355/355 [==============================] - 0s 1ms/step - loss: 6400903680.0000 - val_loss: 6100943872.0000\n",
            "Epoch 82/100\n",
            "355/355 [==============================] - 0s 1ms/step - loss: 6390753792.0000 - val_loss: 6077828096.0000\n",
            "Epoch 83/100\n",
            "355/355 [==============================] - 0s 1ms/step - loss: 6381233152.0000 - val_loss: 6065912832.0000\n",
            "Epoch 84/100\n",
            "355/355 [==============================] - 0s 1ms/step - loss: 6370924032.0000 - val_loss: 6086407680.0000\n",
            "Epoch 85/100\n",
            "355/355 [==============================] - 0s 1ms/step - loss: 6362648576.0000 - val_loss: 6053832704.0000\n",
            "Epoch 86/100\n",
            "355/355 [==============================] - 1s 2ms/step - loss: 6353709056.0000 - val_loss: 6058112000.0000\n",
            "Epoch 87/100\n",
            "355/355 [==============================] - 0s 1ms/step - loss: 6345547776.0000 - val_loss: 6058735104.0000\n",
            "Epoch 88/100\n",
            "355/355 [==============================] - 1s 2ms/step - loss: 6337412608.0000 - val_loss: 6038300160.0000\n",
            "Epoch 89/100\n",
            "355/355 [==============================] - 0s 1ms/step - loss: 6329435136.0000 - val_loss: 6041640960.0000\n",
            "Epoch 90/100\n",
            "355/355 [==============================] - 0s 1ms/step - loss: 6321898496.0000 - val_loss: 6015388160.0000\n",
            "Epoch 91/100\n",
            "355/355 [==============================] - 1s 1ms/step - loss: 6314417664.0000 - val_loss: 6004165120.0000\n",
            "Epoch 92/100\n",
            "355/355 [==============================] - 0s 1ms/step - loss: 6307135488.0000 - val_loss: 6011768832.0000\n",
            "Epoch 93/100\n",
            "355/355 [==============================] - 0s 1ms/step - loss: 6300077568.0000 - val_loss: 5994792960.0000\n",
            "Epoch 94/100\n",
            "355/355 [==============================] - 0s 1ms/step - loss: 6293288960.0000 - val_loss: 5982841856.0000\n",
            "Epoch 95/100\n",
            "355/355 [==============================] - 0s 1ms/step - loss: 6286721024.0000 - val_loss: 5975965184.0000\n",
            "Epoch 96/100\n",
            "355/355 [==============================] - 0s 1ms/step - loss: 6280646144.0000 - val_loss: 5979519488.0000\n",
            "Epoch 97/100\n",
            "355/355 [==============================] - 1s 2ms/step - loss: 6274518016.0000 - val_loss: 5968207872.0000\n",
            "Epoch 98/100\n",
            "355/355 [==============================] - 1s 1ms/step - loss: 6268862464.0000 - val_loss: 5970286080.0000\n",
            "Epoch 99/100\n",
            "355/355 [==============================] - 0s 1ms/step - loss: 6262781440.0000 - val_loss: 5958434304.0000\n",
            "Epoch 100/100\n",
            "355/355 [==============================] - 0s 1ms/step - loss: 6257363968.0000 - val_loss: 5962022912.0000\n",
            "178/178 [==============================] - 0s 1ms/step - loss: 5503981568.0000\n",
            "Epoch 1/100\n",
            "355/355 [==============================] - 1s 1ms/step - loss: 21372217344.0000 - val_loss: 12529292288.0000\n",
            "Epoch 2/100\n",
            "355/355 [==============================] - 0s 1ms/step - loss: 11726643200.0000 - val_loss: 11932021760.0000\n",
            "Epoch 3/100\n",
            "355/355 [==============================] - 0s 1ms/step - loss: 11344244736.0000 - val_loss: 11677876224.0000\n",
            "Epoch 4/100\n",
            "355/355 [==============================] - 0s 1ms/step - loss: 11069387776.0000 - val_loss: 11422290944.0000\n",
            "Epoch 5/100\n",
            "355/355 [==============================] - 0s 1ms/step - loss: 10808286208.0000 - val_loss: 11183716352.0000\n",
            "Epoch 6/100\n",
            "355/355 [==============================] - 0s 1ms/step - loss: 10558490624.0000 - val_loss: 10952379392.0000\n",
            "Epoch 7/100\n",
            "355/355 [==============================] - 1s 2ms/step - loss: 10321826816.0000 - val_loss: 10736001024.0000\n",
            "Epoch 8/100\n",
            "355/355 [==============================] - 0s 1ms/step - loss: 10095328256.0000 - val_loss: 10529191936.0000\n",
            "Epoch 9/100\n",
            "355/355 [==============================] - 0s 1ms/step - loss: 9879687168.0000 - val_loss: 10325166080.0000\n",
            "Epoch 10/100\n",
            "355/355 [==============================] - 0s 1ms/step - loss: 9673353216.0000 - val_loss: 10134122496.0000\n",
            "Epoch 11/100\n",
            "355/355 [==============================] - 0s 1ms/step - loss: 9476419584.0000 - val_loss: 9952404480.0000\n",
            "Epoch 12/100\n",
            "355/355 [==============================] - 0s 1ms/step - loss: 9287814144.0000 - val_loss: 9778531328.0000\n",
            "Epoch 13/100\n",
            "355/355 [==============================] - 0s 1ms/step - loss: 9108346880.0000 - val_loss: 9611486208.0000\n",
            "Epoch 14/100\n",
            "355/355 [==============================] - 0s 1ms/step - loss: 8935947264.0000 - val_loss: 9452236800.0000\n",
            "Epoch 15/100\n",
            "355/355 [==============================] - 1s 1ms/step - loss: 8771265536.0000 - val_loss: 9300323328.0000\n",
            "Epoch 16/100\n",
            "355/355 [==============================] - 0s 1ms/step - loss: 8615494656.0000 - val_loss: 9154525184.0000\n",
            "Epoch 17/100\n",
            "355/355 [==============================] - 0s 1ms/step - loss: 8465170432.0000 - val_loss: 9014968320.0000\n",
            "Epoch 18/100\n",
            "355/355 [==============================] - 1s 1ms/step - loss: 8320080384.0000 - val_loss: 8883337216.0000\n",
            "Epoch 19/100\n",
            "355/355 [==============================] - 0s 1ms/step - loss: 8183825408.0000 - val_loss: 8753334272.0000\n",
            "Epoch 20/100\n",
            "355/355 [==============================] - 0s 1ms/step - loss: 8052044288.0000 - val_loss: 8630228992.0000\n",
            "Epoch 21/100\n",
            "355/355 [==============================] - 0s 1ms/step - loss: 7924421632.0000 - val_loss: 8513738240.0000\n",
            "Epoch 22/100\n",
            "355/355 [==============================] - 0s 1ms/step - loss: 7803510784.0000 - val_loss: 8403615744.0000\n",
            "Epoch 23/100\n",
            "355/355 [==============================] - 1s 1ms/step - loss: 7690328576.0000 - val_loss: 8295684096.0000\n",
            "Epoch 24/100\n",
            "355/355 [==============================] - 0s 1ms/step - loss: 7579505152.0000 - val_loss: 8193512960.0000\n",
            "Epoch 25/100\n",
            "355/355 [==============================] - 0s 1ms/step - loss: 7473749504.0000 - val_loss: 8094711808.0000\n",
            "Epoch 26/100\n",
            "355/355 [==============================] - 0s 1ms/step - loss: 7372783104.0000 - val_loss: 8001470464.0000\n",
            "Epoch 27/100\n",
            "355/355 [==============================] - 0s 1ms/step - loss: 7276216320.0000 - val_loss: 7911915520.0000\n",
            "Epoch 28/100\n",
            "355/355 [==============================] - 0s 1ms/step - loss: 7183620096.0000 - val_loss: 7826088960.0000\n",
            "Epoch 29/100\n",
            "355/355 [==============================] - 1s 1ms/step - loss: 7094649344.0000 - val_loss: 7745208832.0000\n",
            "Epoch 30/100\n",
            "355/355 [==============================] - 0s 1ms/step - loss: 7010471936.0000 - val_loss: 7666030080.0000\n",
            "Epoch 31/100\n",
            "355/355 [==============================] - 0s 1ms/step - loss: 6928667648.0000 - val_loss: 7589186048.0000\n",
            "Epoch 32/100\n",
            "355/355 [==============================] - 0s 1ms/step - loss: 6850423808.0000 - val_loss: 7516792320.0000\n",
            "Epoch 33/100\n",
            "355/355 [==============================] - 0s 1ms/step - loss: 6775712256.0000 - val_loss: 7448769536.0000\n",
            "Epoch 34/100\n",
            "355/355 [==============================] - 0s 1ms/step - loss: 6703776768.0000 - val_loss: 7381667328.0000\n",
            "Epoch 35/100\n",
            "355/355 [==============================] - 1s 1ms/step - loss: 6635203072.0000 - val_loss: 7317216256.0000\n",
            "Epoch 36/100\n",
            "355/355 [==============================] - 1s 1ms/step - loss: 6569708544.0000 - val_loss: 7253190144.0000\n",
            "Epoch 37/100\n",
            "355/355 [==============================] - 0s 1ms/step - loss: 6506203648.0000 - val_loss: 7197743104.0000\n",
            "Epoch 38/100\n",
            "355/355 [==============================] - 0s 1ms/step - loss: 6446031872.0000 - val_loss: 7140172800.0000\n",
            "Epoch 39/100\n",
            "355/355 [==============================] - 0s 1ms/step - loss: 6387762688.0000 - val_loss: 7088159232.0000\n",
            "Epoch 40/100\n",
            "355/355 [==============================] - 1s 1ms/step - loss: 6332224512.0000 - val_loss: 7034591744.0000\n",
            "Epoch 41/100\n",
            "355/355 [==============================] - 0s 1ms/step - loss: 6279085056.0000 - val_loss: 6985480704.0000\n",
            "Epoch 42/100\n",
            "355/355 [==============================] - 1s 2ms/step - loss: 6228198912.0000 - val_loss: 6938043392.0000\n",
            "Epoch 43/100\n",
            "355/355 [==============================] - 0s 1ms/step - loss: 6179333120.0000 - val_loss: 6892653056.0000\n",
            "Epoch 44/100\n",
            "355/355 [==============================] - 0s 1ms/step - loss: 6132330496.0000 - val_loss: 6849604096.0000\n",
            "Epoch 45/100\n",
            "355/355 [==============================] - 0s 1ms/step - loss: 6087172608.0000 - val_loss: 6808469504.0000\n",
            "Epoch 46/100\n",
            "355/355 [==============================] - 1s 1ms/step - loss: 6043931136.0000 - val_loss: 6766910464.0000\n",
            "Epoch 47/100\n",
            "355/355 [==============================] - 1s 2ms/step - loss: 6002531840.0000 - val_loss: 6728324096.0000\n",
            "Epoch 48/100\n",
            "355/355 [==============================] - 0s 1ms/step - loss: 5962542592.0000 - val_loss: 6691517952.0000\n",
            "Epoch 49/100\n",
            "355/355 [==============================] - 1s 1ms/step - loss: 5924328448.0000 - val_loss: 6659962880.0000\n",
            "Epoch 50/100\n",
            "355/355 [==============================] - 0s 1ms/step - loss: 5887999488.0000 - val_loss: 6626969088.0000\n",
            "Epoch 51/100\n",
            "355/355 [==============================] - 0s 1ms/step - loss: 5853112320.0000 - val_loss: 6595249664.0000\n",
            "Epoch 52/100\n",
            "355/355 [==============================] - 0s 1ms/step - loss: 5819298816.0000 - val_loss: 6562135552.0000\n",
            "Epoch 53/100\n",
            "355/355 [==============================] - 1s 1ms/step - loss: 5786586624.0000 - val_loss: 6527747072.0000\n",
            "Epoch 54/100\n",
            "355/355 [==============================] - 0s 1ms/step - loss: 5755494912.0000 - val_loss: 6498326528.0000\n",
            "Epoch 55/100\n",
            "355/355 [==============================] - 0s 1ms/step - loss: 5725309952.0000 - val_loss: 6473864704.0000\n",
            "Epoch 56/100\n",
            "355/355 [==============================] - 0s 1ms/step - loss: 5696667136.0000 - val_loss: 6444201472.0000\n",
            "Epoch 57/100\n",
            "355/355 [==============================] - 1s 2ms/step - loss: 5668765696.0000 - val_loss: 6422830080.0000\n",
            "Epoch 58/100\n",
            "355/355 [==============================] - 0s 1ms/step - loss: 5642340864.0000 - val_loss: 6392809472.0000\n",
            "Epoch 59/100\n",
            "355/355 [==============================] - 1s 1ms/step - loss: 5616943104.0000 - val_loss: 6371165184.0000\n",
            "Epoch 60/100\n",
            "355/355 [==============================] - 0s 1ms/step - loss: 5592178176.0000 - val_loss: 6348328448.0000\n",
            "Epoch 61/100\n",
            "355/355 [==============================] - 0s 1ms/step - loss: 5568403456.0000 - val_loss: 6323289600.0000\n",
            "Epoch 62/100\n",
            "355/355 [==============================] - 0s 1ms/step - loss: 5545934848.0000 - val_loss: 6308388352.0000\n",
            "Epoch 63/100\n",
            "355/355 [==============================] - 1s 1ms/step - loss: 5523335680.0000 - val_loss: 6282502656.0000\n",
            "Epoch 64/100\n",
            "355/355 [==============================] - 1s 1ms/step - loss: 5502777344.0000 - val_loss: 6265861120.0000\n",
            "Epoch 65/100\n",
            "355/355 [==============================] - 0s 1ms/step - loss: 5482522624.0000 - val_loss: 6246452736.0000\n",
            "Epoch 66/100\n",
            "355/355 [==============================] - 1s 1ms/step - loss: 5462400512.0000 - val_loss: 6225744384.0000\n",
            "Epoch 67/100\n",
            "355/355 [==============================] - 0s 1ms/step - loss: 5444136960.0000 - val_loss: 6215185408.0000\n",
            "Epoch 68/100\n",
            "355/355 [==============================] - 0s 1ms/step - loss: 5425939456.0000 - val_loss: 6193537024.0000\n",
            "Epoch 69/100\n",
            "355/355 [==============================] - 0s 1ms/step - loss: 5408633856.0000 - val_loss: 6178002944.0000\n",
            "Epoch 70/100\n",
            "355/355 [==============================] - 0s 1ms/step - loss: 5391660032.0000 - val_loss: 6158897152.0000\n",
            "Epoch 71/100\n",
            "355/355 [==============================] - 0s 1ms/step - loss: 5375681536.0000 - val_loss: 6148540928.0000\n",
            "Epoch 72/100\n",
            "355/355 [==============================] - 0s 1ms/step - loss: 5359939584.0000 - val_loss: 6139883008.0000\n",
            "Epoch 73/100\n",
            "355/355 [==============================] - 0s 1ms/step - loss: 5345025024.0000 - val_loss: 6117335552.0000\n",
            "Epoch 74/100\n",
            "355/355 [==============================] - 1s 2ms/step - loss: 5330427392.0000 - val_loss: 6106604032.0000\n",
            "Epoch 75/100\n",
            "355/355 [==============================] - 0s 1ms/step - loss: 5315975680.0000 - val_loss: 6098562048.0000\n",
            "Epoch 76/100\n",
            "355/355 [==============================] - 0s 1ms/step - loss: 5303115776.0000 - val_loss: 6080777728.0000\n",
            "Epoch 77/100\n",
            "355/355 [==============================] - 0s 1ms/step - loss: 5288494080.0000 - val_loss: 6082761216.0000\n",
            "Epoch 78/100\n",
            "355/355 [==============================] - 0s 1ms/step - loss: 5276698112.0000 - val_loss: 6051910144.0000\n",
            "Epoch 79/100\n",
            "355/355 [==============================] - 0s 1ms/step - loss: 5264987136.0000 - val_loss: 6049679360.0000\n",
            "Epoch 80/100\n",
            "355/355 [==============================] - 0s 1ms/step - loss: 5253009408.0000 - val_loss: 6031397888.0000\n",
            "Epoch 81/100\n",
            "355/355 [==============================] - 0s 1ms/step - loss: 5241828352.0000 - val_loss: 6024437760.0000\n",
            "Epoch 82/100\n",
            "355/355 [==============================] - 0s 1ms/step - loss: 5230843392.0000 - val_loss: 6012204032.0000\n",
            "Epoch 83/100\n",
            "355/355 [==============================] - 0s 1ms/step - loss: 5220128768.0000 - val_loss: 6008784384.0000\n",
            "Epoch 84/100\n",
            "355/355 [==============================] - 0s 1ms/step - loss: 5209601536.0000 - val_loss: 5990019072.0000\n",
            "Epoch 85/100\n",
            "355/355 [==============================] - 0s 1ms/step - loss: 5200066560.0000 - val_loss: 5986898432.0000\n",
            "Epoch 86/100\n",
            "355/355 [==============================] - 1s 1ms/step - loss: 5190184960.0000 - val_loss: 5972726784.0000\n",
            "Epoch 87/100\n",
            "355/355 [==============================] - 0s 1ms/step - loss: 5181171200.0000 - val_loss: 5967358464.0000\n",
            "Epoch 88/100\n",
            "355/355 [==============================] - 0s 1ms/step - loss: 5171947520.0000 - val_loss: 5955752960.0000\n",
            "Epoch 89/100\n",
            "355/355 [==============================] - 0s 1ms/step - loss: 5163171328.0000 - val_loss: 5949344768.0000\n",
            "Epoch 90/100\n",
            "355/355 [==============================] - 0s 1ms/step - loss: 5153924096.0000 - val_loss: 5951894016.0000\n",
            "Epoch 91/100\n",
            "355/355 [==============================] - 1s 1ms/step - loss: 5146526720.0000 - val_loss: 5934427648.0000\n",
            "Epoch 92/100\n",
            "355/355 [==============================] - 0s 1ms/step - loss: 5138167296.0000 - val_loss: 5925112832.0000\n",
            "Epoch 93/100\n",
            "355/355 [==============================] - 0s 1ms/step - loss: 5130270208.0000 - val_loss: 5919519232.0000\n",
            "Epoch 94/100\n",
            "355/355 [==============================] - 0s 1ms/step - loss: 5122451456.0000 - val_loss: 5923151360.0000\n",
            "Epoch 95/100\n",
            "355/355 [==============================] - 0s 1ms/step - loss: 5115976704.0000 - val_loss: 5912014336.0000\n",
            "Epoch 96/100\n",
            "355/355 [==============================] - 0s 1ms/step - loss: 5108905984.0000 - val_loss: 5902044160.0000\n",
            "Epoch 97/100\n",
            "355/355 [==============================] - 0s 1ms/step - loss: 5101630976.0000 - val_loss: 5890722304.0000\n",
            "Epoch 98/100\n",
            "355/355 [==============================] - 0s 1ms/step - loss: 5095139328.0000 - val_loss: 5883518464.0000\n",
            "Epoch 99/100\n",
            "355/355 [==============================] - 0s 1ms/step - loss: 5088679424.0000 - val_loss: 5882705920.0000\n",
            "Epoch 100/100\n",
            "355/355 [==============================] - 0s 1ms/step - loss: 5082160640.0000 - val_loss: 5870068224.0000\n",
            "178/178 [==============================] - 0s 1ms/step - loss: 7574001152.0000\n",
            "Epoch 1/100\n",
            "355/355 [==============================] - 1s 2ms/step - loss: 20680161280.0000 - val_loss: 12920400896.0000\n",
            "Epoch 2/100\n",
            "355/355 [==============================] - 0s 1ms/step - loss: 11899230208.0000 - val_loss: 12123150336.0000\n",
            "Epoch 3/100\n",
            "355/355 [==============================] - 0s 1ms/step - loss: 11553803264.0000 - val_loss: 11867294720.0000\n",
            "Epoch 4/100\n",
            "355/355 [==============================] - 0s 1ms/step - loss: 11292628992.0000 - val_loss: 11645290496.0000\n",
            "Epoch 5/100\n",
            "355/355 [==============================] - 1s 1ms/step - loss: 11046733824.0000 - val_loss: 11442146304.0000\n",
            "Epoch 6/100\n",
            "355/355 [==============================] - 0s 1ms/step - loss: 10813512704.0000 - val_loss: 11264445440.0000\n",
            "Epoch 7/100\n",
            "355/355 [==============================] - 1s 2ms/step - loss: 10593377280.0000 - val_loss: 11077262336.0000\n",
            "Epoch 8/100\n",
            "355/355 [==============================] - 0s 1ms/step - loss: 10383376384.0000 - val_loss: 10944531456.0000\n",
            "Epoch 9/100\n",
            "355/355 [==============================] - 1s 1ms/step - loss: 10185624576.0000 - val_loss: 10740807680.0000\n",
            "Epoch 10/100\n",
            "355/355 [==============================] - 1s 2ms/step - loss: 9998356480.0000 - val_loss: 10599964672.0000\n",
            "Epoch 11/100\n",
            "355/355 [==============================] - 0s 1ms/step - loss: 9818652672.0000 - val_loss: 10471489536.0000\n",
            "Epoch 12/100\n",
            "355/355 [==============================] - 1s 2ms/step - loss: 9649683456.0000 - val_loss: 10349212672.0000\n",
            "Epoch 13/100\n",
            "355/355 [==============================] - 0s 1ms/step - loss: 9488782336.0000 - val_loss: 10193935360.0000\n",
            "Epoch 14/100\n",
            "355/355 [==============================] - 0s 1ms/step - loss: 9336013824.0000 - val_loss: 10095069184.0000\n",
            "Epoch 15/100\n",
            "355/355 [==============================] - 1s 2ms/step - loss: 9190086656.0000 - val_loss: 9960337408.0000\n",
            "Epoch 16/100\n",
            "355/355 [==============================] - 1s 1ms/step - loss: 9052124160.0000 - val_loss: 9830661120.0000\n",
            "Epoch 17/100\n",
            "355/355 [==============================] - 0s 1ms/step - loss: 8919288832.0000 - val_loss: 9738649600.0000\n",
            "Epoch 18/100\n",
            "355/355 [==============================] - 0s 1ms/step - loss: 8793756672.0000 - val_loss: 9635204096.0000\n",
            "Epoch 19/100\n",
            "355/355 [==============================] - 0s 1ms/step - loss: 8674294784.0000 - val_loss: 9533809664.0000\n",
            "Epoch 20/100\n",
            "355/355 [==============================] - 1s 2ms/step - loss: 8559629312.0000 - val_loss: 9442579456.0000\n",
            "Epoch 21/100\n",
            "355/355 [==============================] - 0s 1ms/step - loss: 8451035648.0000 - val_loss: 9376007168.0000\n",
            "Epoch 22/100\n",
            "355/355 [==============================] - 0s 1ms/step - loss: 8347776512.0000 - val_loss: 9279378432.0000\n",
            "Epoch 23/100\n",
            "355/355 [==============================] - 0s 1ms/step - loss: 8248885248.0000 - val_loss: 9190730752.0000\n",
            "Epoch 24/100\n",
            "355/355 [==============================] - 0s 1ms/step - loss: 8154307072.0000 - val_loss: 9097212928.0000\n",
            "Epoch 25/100\n",
            "355/355 [==============================] - 0s 1ms/step - loss: 8063642112.0000 - val_loss: 9050836992.0000\n",
            "Epoch 26/100\n",
            "355/355 [==============================] - 0s 1ms/step - loss: 7977298432.0000 - val_loss: 8900404224.0000\n",
            "Epoch 27/100\n",
            "355/355 [==============================] - 0s 1ms/step - loss: 7895296000.0000 - val_loss: 8854800384.0000\n",
            "Epoch 28/100\n",
            "355/355 [==============================] - 0s 1ms/step - loss: 7816128000.0000 - val_loss: 8784565248.0000\n",
            "Epoch 29/100\n",
            "355/355 [==============================] - 0s 1ms/step - loss: 7740806656.0000 - val_loss: 8721374208.0000\n",
            "Epoch 30/100\n",
            "355/355 [==============================] - 0s 1ms/step - loss: 7668838912.0000 - val_loss: 8637458432.0000\n",
            "Epoch 31/100\n",
            "355/355 [==============================] - 0s 1ms/step - loss: 7599318528.0000 - val_loss: 8616251392.0000\n",
            "Epoch 32/100\n",
            "355/355 [==============================] - 0s 1ms/step - loss: 7534001152.0000 - val_loss: 8526218752.0000\n",
            "Epoch 33/100\n",
            "355/355 [==============================] - 0s 1ms/step - loss: 7470707712.0000 - val_loss: 8473547776.0000\n",
            "Epoch 34/100\n",
            "355/355 [==============================] - 1s 1ms/step - loss: 7409760256.0000 - val_loss: 8417339904.0000\n",
            "Epoch 35/100\n",
            "355/355 [==============================] - 0s 1ms/step - loss: 7352591360.0000 - val_loss: 8349470720.0000\n",
            "Epoch 36/100\n",
            "355/355 [==============================] - 0s 1ms/step - loss: 7297004032.0000 - val_loss: 8287960576.0000\n",
            "Epoch 37/100\n",
            "355/355 [==============================] - 1s 1ms/step - loss: 7244114432.0000 - val_loss: 8248177664.0000\n",
            "Epoch 38/100\n",
            "355/355 [==============================] - 0s 1ms/step - loss: 7193118720.0000 - val_loss: 8176847360.0000\n",
            "Epoch 39/100\n",
            "355/355 [==============================] - 0s 1ms/step - loss: 7144439296.0000 - val_loss: 8136583680.0000\n",
            "Epoch 40/100\n",
            "355/355 [==============================] - 0s 1ms/step - loss: 7097232384.0000 - val_loss: 8057703936.0000\n",
            "Epoch 41/100\n",
            "355/355 [==============================] - 1s 1ms/step - loss: 7052147712.0000 - val_loss: 8000039424.0000\n",
            "Epoch 42/100\n",
            "355/355 [==============================] - 0s 1ms/step - loss: 7009607168.0000 - val_loss: 7952692736.0000\n",
            "Epoch 43/100\n",
            "355/355 [==============================] - 0s 1ms/step - loss: 6968930304.0000 - val_loss: 7923704320.0000\n",
            "Epoch 44/100\n",
            "355/355 [==============================] - 1s 2ms/step - loss: 6928760832.0000 - val_loss: 7872559616.0000\n",
            "Epoch 45/100\n",
            "355/355 [==============================] - 0s 1ms/step - loss: 6891486208.0000 - val_loss: 7859688960.0000\n",
            "Epoch 46/100\n",
            "355/355 [==============================] - 0s 1ms/step - loss: 6855072256.0000 - val_loss: 7814115328.0000\n",
            "Epoch 47/100\n",
            "355/355 [==============================] - 0s 1ms/step - loss: 6819993600.0000 - val_loss: 7753712128.0000\n",
            "Epoch 48/100\n",
            "355/355 [==============================] - 1s 2ms/step - loss: 6786106880.0000 - val_loss: 7738852864.0000\n",
            "Epoch 49/100\n",
            "355/355 [==============================] - 0s 1ms/step - loss: 6753605632.0000 - val_loss: 7658767872.0000\n",
            "Epoch 50/100\n",
            "355/355 [==============================] - 1s 2ms/step - loss: 6722173440.0000 - val_loss: 7649416192.0000\n",
            "Epoch 51/100\n",
            "355/355 [==============================] - 1s 2ms/step - loss: 6692717056.0000 - val_loss: 7604376064.0000\n",
            "Epoch 52/100\n",
            "355/355 [==============================] - 0s 1ms/step - loss: 6663382016.0000 - val_loss: 7579161600.0000\n",
            "Epoch 53/100\n",
            "355/355 [==============================] - 0s 1ms/step - loss: 6636062208.0000 - val_loss: 7504725504.0000\n",
            "Epoch 54/100\n",
            "355/355 [==============================] - 1s 1ms/step - loss: 6609911296.0000 - val_loss: 7495919104.0000\n",
            "Epoch 55/100\n",
            "355/355 [==============================] - 0s 1ms/step - loss: 6584133632.0000 - val_loss: 7415257088.0000\n",
            "Epoch 56/100\n",
            "355/355 [==============================] - 0s 1ms/step - loss: 6560425984.0000 - val_loss: 7395968000.0000\n",
            "Epoch 57/100\n",
            "355/355 [==============================] - 0s 1ms/step - loss: 6536139776.0000 - val_loss: 7348898304.0000\n",
            "Epoch 58/100\n",
            "355/355 [==============================] - 0s 1ms/step - loss: 6513338368.0000 - val_loss: 7366696448.0000\n",
            "Epoch 59/100\n",
            "355/355 [==============================] - 1s 1ms/step - loss: 6492143616.0000 - val_loss: 7312117760.0000\n",
            "Epoch 60/100\n",
            "355/355 [==============================] - 0s 1ms/step - loss: 6471000064.0000 - val_loss: 7282628096.0000\n",
            "Epoch 61/100\n",
            "355/355 [==============================] - 0s 1ms/step - loss: 6450937344.0000 - val_loss: 7262679040.0000\n",
            "Epoch 62/100\n",
            "355/355 [==============================] - 0s 1ms/step - loss: 6431498752.0000 - val_loss: 7234569728.0000\n",
            "Epoch 63/100\n",
            "355/355 [==============================] - 0s 1ms/step - loss: 6412322816.0000 - val_loss: 7198816768.0000\n",
            "Epoch 64/100\n",
            "355/355 [==============================] - 0s 1ms/step - loss: 6394490880.0000 - val_loss: 7168218624.0000\n",
            "Epoch 65/100\n",
            "355/355 [==============================] - 0s 1ms/step - loss: 6377004544.0000 - val_loss: 7147533824.0000\n",
            "Epoch 66/100\n",
            "355/355 [==============================] - 0s 1ms/step - loss: 6360540160.0000 - val_loss: 7116750848.0000\n",
            "Epoch 67/100\n",
            "355/355 [==============================] - 0s 1ms/step - loss: 6344005120.0000 - val_loss: 7062706688.0000\n",
            "Epoch 68/100\n",
            "355/355 [==============================] - 1s 2ms/step - loss: 6328913920.0000 - val_loss: 7057635328.0000\n",
            "Epoch 69/100\n",
            "355/355 [==============================] - 0s 1ms/step - loss: 6313793024.0000 - val_loss: 7045756928.0000\n",
            "Epoch 70/100\n",
            "355/355 [==============================] - 1s 1ms/step - loss: 6299305984.0000 - val_loss: 7027263488.0000\n",
            "Epoch 71/100\n",
            "355/355 [==============================] - 0s 1ms/step - loss: 6284972544.0000 - val_loss: 6986832384.0000\n",
            "Epoch 72/100\n",
            "355/355 [==============================] - 0s 1ms/step - loss: 6271826944.0000 - val_loss: 6964718080.0000\n",
            "Epoch 73/100\n",
            "355/355 [==============================] - 0s 1ms/step - loss: 6258357248.0000 - val_loss: 6941293568.0000\n",
            "Epoch 74/100\n",
            "355/355 [==============================] - 1s 1ms/step - loss: 6245663744.0000 - val_loss: 6953945088.0000\n",
            "Epoch 75/100\n",
            "355/355 [==============================] - 0s 1ms/step - loss: 6233946624.0000 - val_loss: 6904685056.0000\n",
            "Epoch 76/100\n",
            "355/355 [==============================] - 0s 1ms/step - loss: 6222246400.0000 - val_loss: 6872244736.0000\n",
            "Epoch 77/100\n",
            "355/355 [==============================] - 0s 1ms/step - loss: 6210321920.0000 - val_loss: 6872485376.0000\n",
            "Epoch 78/100\n",
            "355/355 [==============================] - 0s 1ms/step - loss: 6199567872.0000 - val_loss: 6837169664.0000\n",
            "Epoch 79/100\n",
            "355/355 [==============================] - 0s 1ms/step - loss: 6188938752.0000 - val_loss: 6821235200.0000\n",
            "Epoch 80/100\n",
            "355/355 [==============================] - 1s 1ms/step - loss: 6178501632.0000 - val_loss: 6795423744.0000\n",
            "Epoch 81/100\n",
            "355/355 [==============================] - 0s 1ms/step - loss: 6168955392.0000 - val_loss: 6774259712.0000\n",
            "Epoch 82/100\n",
            "355/355 [==============================] - 0s 1ms/step - loss: 6158860800.0000 - val_loss: 6785057792.0000\n",
            "Epoch 83/100\n",
            "355/355 [==============================] - 0s 1ms/step - loss: 6150018048.0000 - val_loss: 6741966336.0000\n",
            "Epoch 84/100\n",
            "355/355 [==============================] - 0s 1ms/step - loss: 6140766208.0000 - val_loss: 6720438784.0000\n",
            "Epoch 85/100\n",
            "355/355 [==============================] - 1s 1ms/step - loss: 6132102656.0000 - val_loss: 6687011840.0000\n",
            "Epoch 86/100\n",
            "355/355 [==============================] - 0s 1ms/step - loss: 6123921408.0000 - val_loss: 6693508608.0000\n",
            "Epoch 87/100\n",
            "355/355 [==============================] - 0s 1ms/step - loss: 6115442688.0000 - val_loss: 6676300800.0000\n",
            "Epoch 88/100\n",
            "355/355 [==============================] - 0s 1ms/step - loss: 6106572288.0000 - val_loss: 6633988608.0000\n",
            "Epoch 89/100\n",
            "355/355 [==============================] - 1s 2ms/step - loss: 6099988480.0000 - val_loss: 6636754944.0000\n",
            "Epoch 90/100\n",
            "355/355 [==============================] - 0s 1ms/step - loss: 6092274688.0000 - val_loss: 6643629568.0000\n",
            "Epoch 91/100\n",
            "355/355 [==============================] - 0s 1ms/step - loss: 6084682752.0000 - val_loss: 6582255616.0000\n",
            "Epoch 92/100\n",
            "355/355 [==============================] - 0s 1ms/step - loss: 6077456384.0000 - val_loss: 6631216128.0000\n",
            "Epoch 93/100\n",
            "355/355 [==============================] - 0s 1ms/step - loss: 6071608320.0000 - val_loss: 6602432000.0000\n",
            "Epoch 94/100\n",
            "355/355 [==============================] - 0s 1ms/step - loss: 6064945664.0000 - val_loss: 6578580480.0000\n",
            "Epoch 95/100\n",
            "355/355 [==============================] - 1s 1ms/step - loss: 6058447360.0000 - val_loss: 6555802624.0000\n",
            "Epoch 96/100\n",
            "355/355 [==============================] - 0s 1ms/step - loss: 6051875328.0000 - val_loss: 6532414464.0000\n",
            "Epoch 97/100\n",
            "355/355 [==============================] - 0s 1ms/step - loss: 6046006272.0000 - val_loss: 6526918144.0000\n",
            "Epoch 98/100\n",
            "355/355 [==============================] - 0s 1ms/step - loss: 6039555072.0000 - val_loss: 6540476928.0000\n",
            "Epoch 99/100\n",
            "355/355 [==============================] - 1s 2ms/step - loss: 6034603008.0000 - val_loss: 6500740608.0000\n",
            "Epoch 100/100\n",
            "355/355 [==============================] - 0s 1ms/step - loss: 6028754432.0000 - val_loss: 6475190272.0000\n",
            "178/178 [==============================] - 0s 1ms/step - loss: 7321125888.0000\n",
            "Epoch 1/100\n",
            "355/355 [==============================] - 1s 2ms/step - loss: nan - val_loss: nan\n",
            "Epoch 2/100\n",
            "355/355 [==============================] - 1s 1ms/step - loss: nan - val_loss: nan\n",
            "Epoch 3/100\n",
            "355/355 [==============================] - 1s 1ms/step - loss: nan - val_loss: nan\n",
            "Epoch 4/100\n",
            "355/355 [==============================] - 1s 2ms/step - loss: nan - val_loss: nan\n",
            "Epoch 5/100\n",
            "355/355 [==============================] - 1s 1ms/step - loss: nan - val_loss: nan\n",
            "Epoch 6/100\n",
            "355/355 [==============================] - 1s 2ms/step - loss: nan - val_loss: nan\n",
            "Epoch 7/100\n",
            "355/355 [==============================] - 1s 1ms/step - loss: nan - val_loss: nan\n",
            "Epoch 8/100\n",
            "355/355 [==============================] - 1s 2ms/step - loss: nan - val_loss: nan\n",
            "Epoch 9/100\n",
            "355/355 [==============================] - 1s 2ms/step - loss: nan - val_loss: nan\n",
            "Epoch 10/100\n",
            "355/355 [==============================] - 0s 1ms/step - loss: nan - val_loss: nan\n",
            "178/178 [==============================] - 0s 2ms/step - loss: nan\n",
            "Epoch 1/100\n",
            "355/355 [==============================] - 1s 2ms/step - loss: nan - val_loss: nan\n",
            "Epoch 2/100\n",
            "355/355 [==============================] - 1s 2ms/step - loss: nan - val_loss: nan\n",
            "Epoch 3/100\n",
            "355/355 [==============================] - 1s 2ms/step - loss: nan - val_loss: nan\n",
            "Epoch 4/100\n",
            "355/355 [==============================] - 1s 2ms/step - loss: nan - val_loss: nan\n",
            "Epoch 5/100\n",
            "355/355 [==============================] - 1s 1ms/step - loss: nan - val_loss: nan\n",
            "Epoch 6/100\n",
            "355/355 [==============================] - 1s 2ms/step - loss: nan - val_loss: nan\n",
            "Epoch 7/100\n",
            "355/355 [==============================] - 1s 1ms/step - loss: nan - val_loss: nan\n",
            "Epoch 8/100\n",
            "355/355 [==============================] - 1s 1ms/step - loss: nan - val_loss: nan\n",
            "Epoch 9/100\n",
            "355/355 [==============================] - 0s 1ms/step - loss: nan - val_loss: nan\n",
            "Epoch 10/100\n",
            "355/355 [==============================] - 1s 1ms/step - loss: nan - val_loss: nan\n",
            "178/178 [==============================] - 0s 1ms/step - loss: nan\n",
            "Epoch 1/100\n",
            "355/355 [==============================] - 1s 2ms/step - loss: nan - val_loss: nan\n",
            "Epoch 2/100\n",
            "355/355 [==============================] - 0s 1ms/step - loss: nan - val_loss: nan\n",
            "Epoch 3/100\n",
            "355/355 [==============================] - 1s 2ms/step - loss: nan - val_loss: nan\n",
            "Epoch 4/100\n",
            "355/355 [==============================] - 0s 1ms/step - loss: nan - val_loss: nan\n",
            "Epoch 5/100\n",
            "355/355 [==============================] - 1s 2ms/step - loss: nan - val_loss: nan\n",
            "Epoch 6/100\n",
            "355/355 [==============================] - 1s 1ms/step - loss: nan - val_loss: nan\n",
            "Epoch 7/100\n",
            "355/355 [==============================] - 1s 2ms/step - loss: nan - val_loss: nan\n",
            "Epoch 8/100\n",
            "355/355 [==============================] - 1s 1ms/step - loss: nan - val_loss: nan\n",
            "Epoch 9/100\n",
            "355/355 [==============================] - 1s 1ms/step - loss: nan - val_loss: nan\n",
            "Epoch 10/100\n",
            "355/355 [==============================] - 1s 1ms/step - loss: nan - val_loss: nan\n",
            "178/178 [==============================] - 0s 2ms/step - loss: nan\n",
            "Epoch 1/100\n",
            "355/355 [==============================] - 1s 2ms/step - loss: nan - val_loss: nan\n",
            "Epoch 2/100\n",
            "355/355 [==============================] - 1s 1ms/step - loss: nan - val_loss: nan\n",
            "Epoch 3/100\n",
            "355/355 [==============================] - 0s 1ms/step - loss: nan - val_loss: nan\n",
            "Epoch 4/100\n",
            "355/355 [==============================] - 1s 2ms/step - loss: nan - val_loss: nan\n",
            "Epoch 5/100\n",
            "355/355 [==============================] - 1s 2ms/step - loss: nan - val_loss: nan\n",
            "Epoch 6/100\n",
            "355/355 [==============================] - 1s 2ms/step - loss: nan - val_loss: nan\n",
            "Epoch 7/100\n",
            "355/355 [==============================] - 1s 1ms/step - loss: nan - val_loss: nan\n",
            "Epoch 8/100\n",
            "355/355 [==============================] - 1s 2ms/step - loss: nan - val_loss: nan\n",
            "Epoch 9/100\n",
            "355/355 [==============================] - 1s 1ms/step - loss: nan - val_loss: nan\n",
            "Epoch 10/100\n",
            "355/355 [==============================] - 1s 1ms/step - loss: nan - val_loss: nan\n",
            "178/178 [==============================] - 0s 1ms/step - loss: nan\n",
            "Epoch 1/100\n",
            "355/355 [==============================] - 1s 2ms/step - loss: nan - val_loss: nan\n",
            "Epoch 2/100\n",
            "355/355 [==============================] - 1s 2ms/step - loss: nan - val_loss: nan\n",
            "Epoch 3/100\n",
            "355/355 [==============================] - 1s 1ms/step - loss: nan - val_loss: nan\n",
            "Epoch 4/100\n",
            "355/355 [==============================] - 1s 1ms/step - loss: nan - val_loss: nan\n",
            "Epoch 5/100\n",
            "355/355 [==============================] - 1s 2ms/step - loss: nan - val_loss: nan\n",
            "Epoch 6/100\n",
            "355/355 [==============================] - 0s 1ms/step - loss: nan - val_loss: nan\n",
            "Epoch 7/100\n",
            "355/355 [==============================] - 1s 1ms/step - loss: nan - val_loss: nan\n",
            "Epoch 8/100\n",
            "355/355 [==============================] - 1s 2ms/step - loss: nan - val_loss: nan\n",
            "Epoch 9/100\n",
            "355/355 [==============================] - 1s 1ms/step - loss: nan - val_loss: nan\n",
            "Epoch 10/100\n",
            "355/355 [==============================] - 1s 2ms/step - loss: nan - val_loss: nan\n",
            "178/178 [==============================] - 0s 1ms/step - loss: nan\n",
            "Epoch 1/100\n",
            "355/355 [==============================] - 1s 2ms/step - loss: 4842313096364032.0000 - val_loss: 1205949169664.0000\n",
            "Epoch 2/100\n",
            "355/355 [==============================] - 1s 1ms/step - loss: 852255440896.0000 - val_loss: 585435709440.0000\n",
            "Epoch 3/100\n",
            "355/355 [==============================] - 0s 1ms/step - loss: 414445404160.0000 - val_loss: 288156024832.0000\n",
            "Epoch 4/100\n",
            "355/355 [==============================] - 0s 1ms/step - loss: 204976619520.0000 - val_loss: 145348247552.0000\n",
            "Epoch 5/100\n",
            "355/355 [==============================] - 1s 1ms/step - loss: 104702214144.0000 - val_loss: 76823265280.0000\n",
            "Epoch 6/100\n",
            "355/355 [==============================] - 0s 1ms/step - loss: 56765124608.0000 - val_loss: 43872829440.0000\n",
            "Epoch 7/100\n",
            "355/355 [==============================] - 1s 1ms/step - loss: 33834885120.0000 - val_loss: 27950958592.0000\n",
            "Epoch 8/100\n",
            "355/355 [==============================] - 1s 2ms/step - loss: 22850170880.0000 - val_loss: 20235436032.0000\n",
            "Epoch 9/100\n",
            "355/355 [==============================] - 1s 2ms/step - loss: 17587097600.0000 - val_loss: 16506500096.0000\n",
            "Epoch 10/100\n",
            "355/355 [==============================] - 0s 1ms/step - loss: 15083295744.0000 - val_loss: 14668627968.0000\n",
            "Epoch 11/100\n",
            "355/355 [==============================] - 1s 1ms/step - loss: 13881229312.0000 - val_loss: 13761488896.0000\n",
            "Epoch 12/100\n",
            "355/355 [==============================] - 1s 1ms/step - loss: 13308172288.0000 - val_loss: 13312911360.0000\n",
            "Epoch 13/100\n",
            "355/355 [==============================] - 1s 1ms/step - loss: 13036149760.0000 - val_loss: 13083079680.0000\n",
            "Epoch 14/100\n",
            "355/355 [==============================] - 1s 1ms/step - loss: 12905529344.0000 - val_loss: 12962191360.0000\n",
            "Epoch 15/100\n",
            "355/355 [==============================] - 0s 1ms/step - loss: 12840534016.0000 - val_loss: 12896053248.0000\n",
            "Epoch 16/100\n",
            "355/355 [==============================] - 1s 2ms/step - loss: 12810308608.0000 - val_loss: 12861462528.0000\n",
            "Epoch 17/100\n",
            "355/355 [==============================] - 1s 2ms/step - loss: 12796301312.0000 - val_loss: 12841239552.0000\n",
            "Epoch 18/100\n",
            "355/355 [==============================] - 1s 2ms/step - loss: 12789038080.0000 - val_loss: 12827425792.0000\n",
            "Epoch 19/100\n",
            "355/355 [==============================] - 1s 1ms/step - loss: 12785259520.0000 - val_loss: 12820348928.0000\n",
            "Epoch 20/100\n",
            "355/355 [==============================] - 1s 1ms/step - loss: 12783859712.0000 - val_loss: 12816766976.0000\n",
            "Epoch 21/100\n",
            "355/355 [==============================] - 0s 1ms/step - loss: 12783217664.0000 - val_loss: 12814462976.0000\n",
            "Epoch 22/100\n",
            "355/355 [==============================] - 1s 2ms/step - loss: 12782846976.0000 - val_loss: 12812024832.0000\n",
            "Epoch 23/100\n",
            "355/355 [==============================] - 1s 1ms/step - loss: 12782616576.0000 - val_loss: 12809669632.0000\n",
            "Epoch 24/100\n",
            "355/355 [==============================] - 1s 2ms/step - loss: 12782483456.0000 - val_loss: 12808982528.0000\n",
            "Epoch 25/100\n",
            "355/355 [==============================] - 0s 1ms/step - loss: 12782478336.0000 - val_loss: 12807813120.0000\n",
            "Epoch 26/100\n",
            "355/355 [==============================] - 1s 1ms/step - loss: 12782314496.0000 - val_loss: 12807878656.0000\n",
            "Epoch 27/100\n",
            "355/355 [==============================] - 1s 2ms/step - loss: 12782408704.0000 - val_loss: 12807586816.0000\n",
            "Epoch 28/100\n",
            "355/355 [==============================] - 0s 1ms/step - loss: 12782414848.0000 - val_loss: 12807493632.0000\n",
            "Epoch 29/100\n",
            "355/355 [==============================] - 0s 1ms/step - loss: 12782394368.0000 - val_loss: 12807625728.0000\n",
            "Epoch 30/100\n",
            "355/355 [==============================] - 1s 2ms/step - loss: 12782445568.0000 - val_loss: 12807336960.0000\n",
            "Epoch 31/100\n",
            "355/355 [==============================] - 1s 2ms/step - loss: 12782468096.0000 - val_loss: 12807239680.0000\n",
            "Epoch 32/100\n",
            "355/355 [==============================] - 1s 1ms/step - loss: 12782388224.0000 - val_loss: 12807224320.0000\n",
            "Epoch 33/100\n",
            "355/355 [==============================] - 1s 2ms/step - loss: 12782365696.0000 - val_loss: 12806544384.0000\n",
            "Epoch 34/100\n",
            "355/355 [==============================] - 1s 2ms/step - loss: 12782387200.0000 - val_loss: 12807089152.0000\n",
            "Epoch 35/100\n",
            "355/355 [==============================] - 1s 2ms/step - loss: 12782447616.0000 - val_loss: 12807162880.0000\n",
            "Epoch 36/100\n",
            "355/355 [==============================] - 1s 2ms/step - loss: 12782401536.0000 - val_loss: 12806871040.0000\n",
            "Epoch 37/100\n",
            "355/355 [==============================] - 1s 2ms/step - loss: 12782377984.0000 - val_loss: 12806127616.0000\n",
            "Epoch 38/100\n",
            "355/355 [==============================] - 1s 2ms/step - loss: 12782389248.0000 - val_loss: 12806377472.0000\n",
            "Epoch 39/100\n",
            "355/355 [==============================] - 0s 1ms/step - loss: 12782373888.0000 - val_loss: 12806902784.0000\n",
            "Epoch 40/100\n",
            "355/355 [==============================] - 1s 2ms/step - loss: 12782398464.0000 - val_loss: 12806411264.0000\n",
            "Epoch 41/100\n",
            "355/355 [==============================] - 1s 1ms/step - loss: 12782407680.0000 - val_loss: 12806680576.0000\n",
            "Epoch 42/100\n",
            "355/355 [==============================] - 1s 1ms/step - loss: 12782437376.0000 - val_loss: 12807537664.0000\n",
            "Epoch 43/100\n",
            "355/355 [==============================] - 0s 1ms/step - loss: 12782394368.0000 - val_loss: 12806916096.0000\n",
            "Epoch 44/100\n",
            "355/355 [==============================] - 1s 2ms/step - loss: 12782395392.0000 - val_loss: 12807609344.0000\n",
            "Epoch 45/100\n",
            "355/355 [==============================] - 1s 2ms/step - loss: 12782417920.0000 - val_loss: 12807966720.0000\n",
            "Epoch 46/100\n",
            "355/355 [==============================] - 1s 1ms/step - loss: 12782314496.0000 - val_loss: 12807081984.0000\n",
            "Epoch 47/100\n",
            "355/355 [==============================] - 1s 2ms/step - loss: 12782400512.0000 - val_loss: 12807371776.0000\n",
            "178/178 [==============================] - 0s 1ms/step - loss: 14878053376.0000\n",
            "Epoch 1/100\n",
            "355/355 [==============================] - 1s 3ms/step - loss: nan - val_loss: nan\n",
            "Epoch 2/100\n",
            "355/355 [==============================] - 1s 2ms/step - loss: nan - val_loss: nan\n",
            "Epoch 3/100\n",
            "355/355 [==============================] - 0s 1ms/step - loss: nan - val_loss: nan\n",
            "Epoch 4/100\n",
            "355/355 [==============================] - 1s 1ms/step - loss: nan - val_loss: nan\n",
            "Epoch 5/100\n",
            "355/355 [==============================] - 0s 1ms/step - loss: nan - val_loss: nan\n",
            "Epoch 6/100\n",
            "355/355 [==============================] - 1s 2ms/step - loss: nan - val_loss: nan\n",
            "Epoch 7/100\n",
            "355/355 [==============================] - 1s 2ms/step - loss: nan - val_loss: nan\n",
            "Epoch 8/100\n",
            "355/355 [==============================] - 1s 2ms/step - loss: nan - val_loss: nan\n",
            "Epoch 9/100\n",
            "355/355 [==============================] - 0s 1ms/step - loss: nan - val_loss: nan\n",
            "Epoch 10/100\n",
            "355/355 [==============================] - 0s 1ms/step - loss: nan - val_loss: nan\n",
            "178/178 [==============================] - 0s 2ms/step - loss: nan\n",
            "Epoch 1/100\n",
            "355/355 [==============================] - 1s 2ms/step - loss: nan - val_loss: nan\n",
            "Epoch 2/100\n",
            "355/355 [==============================] - 1s 2ms/step - loss: nan - val_loss: nan\n",
            "Epoch 3/100\n",
            "355/355 [==============================] - 0s 1ms/step - loss: nan - val_loss: nan\n",
            "Epoch 4/100\n",
            "355/355 [==============================] - 0s 1ms/step - loss: nan - val_loss: nan\n",
            "Epoch 5/100\n",
            "355/355 [==============================] - 1s 2ms/step - loss: nan - val_loss: nan\n",
            "Epoch 6/100\n",
            "355/355 [==============================] - 0s 1ms/step - loss: nan - val_loss: nan\n",
            "Epoch 7/100\n",
            "355/355 [==============================] - 0s 1ms/step - loss: nan - val_loss: nan\n",
            "Epoch 8/100\n",
            "355/355 [==============================] - 1s 2ms/step - loss: nan - val_loss: nan\n",
            "Epoch 9/100\n",
            "355/355 [==============================] - 1s 2ms/step - loss: nan - val_loss: nan\n",
            "Epoch 10/100\n",
            "355/355 [==============================] - 0s 1ms/step - loss: nan - val_loss: nan\n",
            "178/178 [==============================] - 0s 1ms/step - loss: nan\n",
            "Epoch 1/100\n",
            "355/355 [==============================] - 1s 2ms/step - loss: 5676047587040116839809024.0000 - val_loss: 10556777548328309096448.0000\n",
            "Epoch 2/100\n",
            "355/355 [==============================] - 1s 2ms/step - loss: 3008429883831395287040.0000 - val_loss: 346296341678562213888.0000\n",
            "Epoch 3/100\n",
            "355/355 [==============================] - 0s 1ms/step - loss: 98686164773732614144.0000 - val_loss: 11359642865274716160.0000\n",
            "Epoch 4/100\n",
            "355/355 [==============================] - 1s 2ms/step - loss: 3237220617405071360.0000 - val_loss: 372636894518837248.0000\n",
            "Epoch 5/100\n",
            "355/355 [==============================] - 0s 1ms/step - loss: 106191425716092928.0000 - val_loss: 12224444365799424.0000\n",
            "Epoch 6/100\n",
            "355/355 [==============================] - 0s 1ms/step - loss: 3483423561744384.0000 - val_loss: 401130215440384.0000\n",
            "Epoch 7/100\n",
            "355/355 [==============================] - 0s 1ms/step - loss: 114277394415616.0000 - val_loss: 13191979466752.0000\n",
            "Epoch 8/100\n",
            "355/355 [==============================] - 1s 2ms/step - loss: 3759276818432.0000 - val_loss: 448855539712.0000\n",
            "Epoch 9/100\n",
            "355/355 [==============================] - 1s 2ms/step - loss: 135778328576.0000 - val_loss: 27923226624.0000\n",
            "Epoch 10/100\n",
            "355/355 [==============================] - 0s 1ms/step - loss: 16807882752.0000 - val_loss: 13427148800.0000\n",
            "Epoch 11/100\n",
            "355/355 [==============================] - 0s 1ms/step - loss: 12915762176.0000 - val_loss: 12854940672.0000\n",
            "Epoch 12/100\n",
            "355/355 [==============================] - 1s 2ms/step - loss: 12787878912.0000 - val_loss: 12812293120.0000\n",
            "Epoch 13/100\n",
            "355/355 [==============================] - 1s 2ms/step - loss: 12783397888.0000 - val_loss: 12805626880.0000\n",
            "Epoch 14/100\n",
            "355/355 [==============================] - 1s 2ms/step - loss: 12783281152.0000 - val_loss: 12804678656.0000\n",
            "Epoch 15/100\n",
            "355/355 [==============================] - 0s 1ms/step - loss: 12783382528.0000 - val_loss: 12803786752.0000\n",
            "Epoch 16/100\n",
            "355/355 [==============================] - 1s 1ms/step - loss: 12783646720.0000 - val_loss: 12804052992.0000\n",
            "Epoch 17/100\n",
            "355/355 [==============================] - 1s 2ms/step - loss: 12784038912.0000 - val_loss: 12803900416.0000\n",
            "Epoch 18/100\n",
            "355/355 [==============================] - 1s 2ms/step - loss: 12783787008.0000 - val_loss: 12808158208.0000\n",
            "Epoch 19/100\n",
            "355/355 [==============================] - 1s 2ms/step - loss: 12783890432.0000 - val_loss: 12808486912.0000\n",
            "Epoch 20/100\n",
            "355/355 [==============================] - 1s 2ms/step - loss: 12783887360.0000 - val_loss: 12808923136.0000\n",
            "Epoch 21/100\n",
            "355/355 [==============================] - 0s 1ms/step - loss: 12783677440.0000 - val_loss: 12812411904.0000\n",
            "Epoch 22/100\n",
            "355/355 [==============================] - 1s 2ms/step - loss: 12783912960.0000 - val_loss: 12811933696.0000\n",
            "Epoch 23/100\n",
            "355/355 [==============================] - 1s 2ms/step - loss: 12783713280.0000 - val_loss: 12806335488.0000\n",
            "Epoch 24/100\n",
            "355/355 [==============================] - 1s 1ms/step - loss: 12782888960.0000 - val_loss: 12811707392.0000\n",
            "Epoch 25/100\n",
            "355/355 [==============================] - 1s 1ms/step - loss: 12784055296.0000 - val_loss: 12810863616.0000\n"
          ]
        },
        {
          "output_type": "error",
          "ename": "KeyboardInterrupt",
          "evalue": "ignored",
          "traceback": [
            "\u001b[0;31m---------------------------------------------------------------------------\u001b[0m",
            "\u001b[0;31mKeyboardInterrupt\u001b[0m                         Traceback (most recent call last)",
            "\u001b[0;32m<ipython-input-29-9cc24c0b6f22>\u001b[0m in \u001b[0;36m<module>\u001b[0;34m()\u001b[0m\n\u001b[1;32m      2\u001b[0m rnd_search_cv.fit(X_train, y_train, epochs=100,\n\u001b[1;32m      3\u001b[0m                   \u001b[0mvalidation_data\u001b[0m\u001b[0;34m=\u001b[0m\u001b[0;34m(\u001b[0m\u001b[0mX_test\u001b[0m\u001b[0;34m,\u001b[0m\u001b[0my_test\u001b[0m\u001b[0;34m.\u001b[0m\u001b[0mvalues\u001b[0m\u001b[0;34m)\u001b[0m\u001b[0;34m,\u001b[0m\u001b[0;34m\u001b[0m\u001b[0;34m\u001b[0m\u001b[0m\n\u001b[0;32m----> 4\u001b[0;31m                   callbacks=[keras.callbacks.EarlyStopping(patience=10)])   \n\u001b[0m",
            "\u001b[0;32m/usr/local/lib/python3.7/dist-packages/sklearn/model_selection/_search.py\u001b[0m in \u001b[0;36mfit\u001b[0;34m(self, X, y, groups, **fit_params)\u001b[0m\n\u001b[1;32m    889\u001b[0m                 \u001b[0;32mreturn\u001b[0m \u001b[0mresults\u001b[0m\u001b[0;34m\u001b[0m\u001b[0;34m\u001b[0m\u001b[0m\n\u001b[1;32m    890\u001b[0m \u001b[0;34m\u001b[0m\u001b[0m\n\u001b[0;32m--> 891\u001b[0;31m             \u001b[0mself\u001b[0m\u001b[0;34m.\u001b[0m\u001b[0m_run_search\u001b[0m\u001b[0;34m(\u001b[0m\u001b[0mevaluate_candidates\u001b[0m\u001b[0;34m)\u001b[0m\u001b[0;34m\u001b[0m\u001b[0;34m\u001b[0m\u001b[0m\n\u001b[0m\u001b[1;32m    892\u001b[0m \u001b[0;34m\u001b[0m\u001b[0m\n\u001b[1;32m    893\u001b[0m             \u001b[0;31m# multimetric is determined here because in the case of a callable\u001b[0m\u001b[0;34m\u001b[0m\u001b[0;34m\u001b[0m\u001b[0;34m\u001b[0m\u001b[0m\n",
            "\u001b[0;32m/usr/local/lib/python3.7/dist-packages/sklearn/model_selection/_search.py\u001b[0m in \u001b[0;36m_run_search\u001b[0;34m(self, evaluate_candidates)\u001b[0m\n\u001b[1;32m   1766\u001b[0m         evaluate_candidates(\n\u001b[1;32m   1767\u001b[0m             ParameterSampler(\n\u001b[0;32m-> 1768\u001b[0;31m                 \u001b[0mself\u001b[0m\u001b[0;34m.\u001b[0m\u001b[0mparam_distributions\u001b[0m\u001b[0;34m,\u001b[0m \u001b[0mself\u001b[0m\u001b[0;34m.\u001b[0m\u001b[0mn_iter\u001b[0m\u001b[0;34m,\u001b[0m \u001b[0mrandom_state\u001b[0m\u001b[0;34m=\u001b[0m\u001b[0mself\u001b[0m\u001b[0;34m.\u001b[0m\u001b[0mrandom_state\u001b[0m\u001b[0;34m\u001b[0m\u001b[0;34m\u001b[0m\u001b[0m\n\u001b[0m\u001b[1;32m   1769\u001b[0m             )\n\u001b[1;32m   1770\u001b[0m         )\n",
            "\u001b[0;32m/usr/local/lib/python3.7/dist-packages/sklearn/model_selection/_search.py\u001b[0m in \u001b[0;36mevaluate_candidates\u001b[0;34m(candidate_params, cv, more_results)\u001b[0m\n\u001b[1;32m    849\u001b[0m                     )\n\u001b[1;32m    850\u001b[0m                     for (cand_idx, parameters), (split_idx, (train, test)) in product(\n\u001b[0;32m--> 851\u001b[0;31m                         \u001b[0menumerate\u001b[0m\u001b[0;34m(\u001b[0m\u001b[0mcandidate_params\u001b[0m\u001b[0;34m)\u001b[0m\u001b[0;34m,\u001b[0m \u001b[0menumerate\u001b[0m\u001b[0;34m(\u001b[0m\u001b[0mcv\u001b[0m\u001b[0;34m.\u001b[0m\u001b[0msplit\u001b[0m\u001b[0;34m(\u001b[0m\u001b[0mX\u001b[0m\u001b[0;34m,\u001b[0m \u001b[0my\u001b[0m\u001b[0;34m,\u001b[0m \u001b[0mgroups\u001b[0m\u001b[0;34m)\u001b[0m\u001b[0;34m)\u001b[0m\u001b[0;34m\u001b[0m\u001b[0;34m\u001b[0m\u001b[0m\n\u001b[0m\u001b[1;32m    852\u001b[0m                     )\n\u001b[1;32m    853\u001b[0m                 )\n",
            "\u001b[0;32m/usr/local/lib/python3.7/dist-packages/joblib/parallel.py\u001b[0m in \u001b[0;36m__call__\u001b[0;34m(self, iterable)\u001b[0m\n\u001b[1;32m   1044\u001b[0m                 \u001b[0mself\u001b[0m\u001b[0;34m.\u001b[0m\u001b[0m_iterating\u001b[0m \u001b[0;34m=\u001b[0m \u001b[0mself\u001b[0m\u001b[0;34m.\u001b[0m\u001b[0m_original_iterator\u001b[0m \u001b[0;32mis\u001b[0m \u001b[0;32mnot\u001b[0m \u001b[0;32mNone\u001b[0m\u001b[0;34m\u001b[0m\u001b[0;34m\u001b[0m\u001b[0m\n\u001b[1;32m   1045\u001b[0m \u001b[0;34m\u001b[0m\u001b[0m\n\u001b[0;32m-> 1046\u001b[0;31m             \u001b[0;32mwhile\u001b[0m \u001b[0mself\u001b[0m\u001b[0;34m.\u001b[0m\u001b[0mdispatch_one_batch\u001b[0m\u001b[0;34m(\u001b[0m\u001b[0miterator\u001b[0m\u001b[0;34m)\u001b[0m\u001b[0;34m:\u001b[0m\u001b[0;34m\u001b[0m\u001b[0;34m\u001b[0m\u001b[0m\n\u001b[0m\u001b[1;32m   1047\u001b[0m                 \u001b[0;32mpass\u001b[0m\u001b[0;34m\u001b[0m\u001b[0;34m\u001b[0m\u001b[0m\n\u001b[1;32m   1048\u001b[0m \u001b[0;34m\u001b[0m\u001b[0m\n",
            "\u001b[0;32m/usr/local/lib/python3.7/dist-packages/joblib/parallel.py\u001b[0m in \u001b[0;36mdispatch_one_batch\u001b[0;34m(self, iterator)\u001b[0m\n\u001b[1;32m    859\u001b[0m                 \u001b[0;32mreturn\u001b[0m \u001b[0;32mFalse\u001b[0m\u001b[0;34m\u001b[0m\u001b[0;34m\u001b[0m\u001b[0m\n\u001b[1;32m    860\u001b[0m             \u001b[0;32melse\u001b[0m\u001b[0;34m:\u001b[0m\u001b[0;34m\u001b[0m\u001b[0;34m\u001b[0m\u001b[0m\n\u001b[0;32m--> 861\u001b[0;31m                 \u001b[0mself\u001b[0m\u001b[0;34m.\u001b[0m\u001b[0m_dispatch\u001b[0m\u001b[0;34m(\u001b[0m\u001b[0mtasks\u001b[0m\u001b[0;34m)\u001b[0m\u001b[0;34m\u001b[0m\u001b[0;34m\u001b[0m\u001b[0m\n\u001b[0m\u001b[1;32m    862\u001b[0m                 \u001b[0;32mreturn\u001b[0m \u001b[0;32mTrue\u001b[0m\u001b[0;34m\u001b[0m\u001b[0;34m\u001b[0m\u001b[0m\n\u001b[1;32m    863\u001b[0m \u001b[0;34m\u001b[0m\u001b[0m\n",
            "\u001b[0;32m/usr/local/lib/python3.7/dist-packages/joblib/parallel.py\u001b[0m in \u001b[0;36m_dispatch\u001b[0;34m(self, batch)\u001b[0m\n\u001b[1;32m    777\u001b[0m         \u001b[0;32mwith\u001b[0m \u001b[0mself\u001b[0m\u001b[0;34m.\u001b[0m\u001b[0m_lock\u001b[0m\u001b[0;34m:\u001b[0m\u001b[0;34m\u001b[0m\u001b[0;34m\u001b[0m\u001b[0m\n\u001b[1;32m    778\u001b[0m             \u001b[0mjob_idx\u001b[0m \u001b[0;34m=\u001b[0m \u001b[0mlen\u001b[0m\u001b[0;34m(\u001b[0m\u001b[0mself\u001b[0m\u001b[0;34m.\u001b[0m\u001b[0m_jobs\u001b[0m\u001b[0;34m)\u001b[0m\u001b[0;34m\u001b[0m\u001b[0;34m\u001b[0m\u001b[0m\n\u001b[0;32m--> 779\u001b[0;31m             \u001b[0mjob\u001b[0m \u001b[0;34m=\u001b[0m \u001b[0mself\u001b[0m\u001b[0;34m.\u001b[0m\u001b[0m_backend\u001b[0m\u001b[0;34m.\u001b[0m\u001b[0mapply_async\u001b[0m\u001b[0;34m(\u001b[0m\u001b[0mbatch\u001b[0m\u001b[0;34m,\u001b[0m \u001b[0mcallback\u001b[0m\u001b[0;34m=\u001b[0m\u001b[0mcb\u001b[0m\u001b[0;34m)\u001b[0m\u001b[0;34m\u001b[0m\u001b[0;34m\u001b[0m\u001b[0m\n\u001b[0m\u001b[1;32m    780\u001b[0m             \u001b[0;31m# A job can complete so quickly than its callback is\u001b[0m\u001b[0;34m\u001b[0m\u001b[0;34m\u001b[0m\u001b[0;34m\u001b[0m\u001b[0m\n\u001b[1;32m    781\u001b[0m             \u001b[0;31m# called before we get here, causing self._jobs to\u001b[0m\u001b[0;34m\u001b[0m\u001b[0;34m\u001b[0m\u001b[0;34m\u001b[0m\u001b[0m\n",
            "\u001b[0;32m/usr/local/lib/python3.7/dist-packages/joblib/_parallel_backends.py\u001b[0m in \u001b[0;36mapply_async\u001b[0;34m(self, func, callback)\u001b[0m\n\u001b[1;32m    206\u001b[0m     \u001b[0;32mdef\u001b[0m \u001b[0mapply_async\u001b[0m\u001b[0;34m(\u001b[0m\u001b[0mself\u001b[0m\u001b[0;34m,\u001b[0m \u001b[0mfunc\u001b[0m\u001b[0;34m,\u001b[0m \u001b[0mcallback\u001b[0m\u001b[0;34m=\u001b[0m\u001b[0;32mNone\u001b[0m\u001b[0;34m)\u001b[0m\u001b[0;34m:\u001b[0m\u001b[0;34m\u001b[0m\u001b[0;34m\u001b[0m\u001b[0m\n\u001b[1;32m    207\u001b[0m         \u001b[0;34m\"\"\"Schedule a func to be run\"\"\"\u001b[0m\u001b[0;34m\u001b[0m\u001b[0;34m\u001b[0m\u001b[0m\n\u001b[0;32m--> 208\u001b[0;31m         \u001b[0mresult\u001b[0m \u001b[0;34m=\u001b[0m \u001b[0mImmediateResult\u001b[0m\u001b[0;34m(\u001b[0m\u001b[0mfunc\u001b[0m\u001b[0;34m)\u001b[0m\u001b[0;34m\u001b[0m\u001b[0;34m\u001b[0m\u001b[0m\n\u001b[0m\u001b[1;32m    209\u001b[0m         \u001b[0;32mif\u001b[0m \u001b[0mcallback\u001b[0m\u001b[0;34m:\u001b[0m\u001b[0;34m\u001b[0m\u001b[0;34m\u001b[0m\u001b[0m\n\u001b[1;32m    210\u001b[0m             \u001b[0mcallback\u001b[0m\u001b[0;34m(\u001b[0m\u001b[0mresult\u001b[0m\u001b[0;34m)\u001b[0m\u001b[0;34m\u001b[0m\u001b[0;34m\u001b[0m\u001b[0m\n",
            "\u001b[0;32m/usr/local/lib/python3.7/dist-packages/joblib/_parallel_backends.py\u001b[0m in \u001b[0;36m__init__\u001b[0;34m(self, batch)\u001b[0m\n\u001b[1;32m    570\u001b[0m         \u001b[0;31m# Don't delay the application, to avoid keeping the input\u001b[0m\u001b[0;34m\u001b[0m\u001b[0;34m\u001b[0m\u001b[0;34m\u001b[0m\u001b[0m\n\u001b[1;32m    571\u001b[0m         \u001b[0;31m# arguments in memory\u001b[0m\u001b[0;34m\u001b[0m\u001b[0;34m\u001b[0m\u001b[0;34m\u001b[0m\u001b[0m\n\u001b[0;32m--> 572\u001b[0;31m         \u001b[0mself\u001b[0m\u001b[0;34m.\u001b[0m\u001b[0mresults\u001b[0m \u001b[0;34m=\u001b[0m \u001b[0mbatch\u001b[0m\u001b[0;34m(\u001b[0m\u001b[0;34m)\u001b[0m\u001b[0;34m\u001b[0m\u001b[0;34m\u001b[0m\u001b[0m\n\u001b[0m\u001b[1;32m    573\u001b[0m \u001b[0;34m\u001b[0m\u001b[0m\n\u001b[1;32m    574\u001b[0m     \u001b[0;32mdef\u001b[0m \u001b[0mget\u001b[0m\u001b[0;34m(\u001b[0m\u001b[0mself\u001b[0m\u001b[0;34m)\u001b[0m\u001b[0;34m:\u001b[0m\u001b[0;34m\u001b[0m\u001b[0;34m\u001b[0m\u001b[0m\n",
            "\u001b[0;32m/usr/local/lib/python3.7/dist-packages/joblib/parallel.py\u001b[0m in \u001b[0;36m__call__\u001b[0;34m(self)\u001b[0m\n\u001b[1;32m    261\u001b[0m         \u001b[0;32mwith\u001b[0m \u001b[0mparallel_backend\u001b[0m\u001b[0;34m(\u001b[0m\u001b[0mself\u001b[0m\u001b[0;34m.\u001b[0m\u001b[0m_backend\u001b[0m\u001b[0;34m,\u001b[0m \u001b[0mn_jobs\u001b[0m\u001b[0;34m=\u001b[0m\u001b[0mself\u001b[0m\u001b[0;34m.\u001b[0m\u001b[0m_n_jobs\u001b[0m\u001b[0;34m)\u001b[0m\u001b[0;34m:\u001b[0m\u001b[0;34m\u001b[0m\u001b[0;34m\u001b[0m\u001b[0m\n\u001b[1;32m    262\u001b[0m             return [func(*args, **kwargs)\n\u001b[0;32m--> 263\u001b[0;31m                     for func, args, kwargs in self.items]\n\u001b[0m\u001b[1;32m    264\u001b[0m \u001b[0;34m\u001b[0m\u001b[0m\n\u001b[1;32m    265\u001b[0m     \u001b[0;32mdef\u001b[0m \u001b[0m__reduce__\u001b[0m\u001b[0;34m(\u001b[0m\u001b[0mself\u001b[0m\u001b[0;34m)\u001b[0m\u001b[0;34m:\u001b[0m\u001b[0;34m\u001b[0m\u001b[0;34m\u001b[0m\u001b[0m\n",
            "\u001b[0;32m/usr/local/lib/python3.7/dist-packages/joblib/parallel.py\u001b[0m in \u001b[0;36m<listcomp>\u001b[0;34m(.0)\u001b[0m\n\u001b[1;32m    261\u001b[0m         \u001b[0;32mwith\u001b[0m \u001b[0mparallel_backend\u001b[0m\u001b[0;34m(\u001b[0m\u001b[0mself\u001b[0m\u001b[0;34m.\u001b[0m\u001b[0m_backend\u001b[0m\u001b[0;34m,\u001b[0m \u001b[0mn_jobs\u001b[0m\u001b[0;34m=\u001b[0m\u001b[0mself\u001b[0m\u001b[0;34m.\u001b[0m\u001b[0m_n_jobs\u001b[0m\u001b[0;34m)\u001b[0m\u001b[0;34m:\u001b[0m\u001b[0;34m\u001b[0m\u001b[0;34m\u001b[0m\u001b[0m\n\u001b[1;32m    262\u001b[0m             return [func(*args, **kwargs)\n\u001b[0;32m--> 263\u001b[0;31m                     for func, args, kwargs in self.items]\n\u001b[0m\u001b[1;32m    264\u001b[0m \u001b[0;34m\u001b[0m\u001b[0m\n\u001b[1;32m    265\u001b[0m     \u001b[0;32mdef\u001b[0m \u001b[0m__reduce__\u001b[0m\u001b[0;34m(\u001b[0m\u001b[0mself\u001b[0m\u001b[0;34m)\u001b[0m\u001b[0;34m:\u001b[0m\u001b[0;34m\u001b[0m\u001b[0;34m\u001b[0m\u001b[0m\n",
            "\u001b[0;32m/usr/local/lib/python3.7/dist-packages/sklearn/utils/fixes.py\u001b[0m in \u001b[0;36m__call__\u001b[0;34m(self, *args, **kwargs)\u001b[0m\n\u001b[1;32m    209\u001b[0m     \u001b[0;32mdef\u001b[0m \u001b[0m__call__\u001b[0m\u001b[0;34m(\u001b[0m\u001b[0mself\u001b[0m\u001b[0;34m,\u001b[0m \u001b[0;34m*\u001b[0m\u001b[0margs\u001b[0m\u001b[0;34m,\u001b[0m \u001b[0;34m**\u001b[0m\u001b[0mkwargs\u001b[0m\u001b[0;34m)\u001b[0m\u001b[0;34m:\u001b[0m\u001b[0;34m\u001b[0m\u001b[0;34m\u001b[0m\u001b[0m\n\u001b[1;32m    210\u001b[0m         \u001b[0;32mwith\u001b[0m \u001b[0mconfig_context\u001b[0m\u001b[0;34m(\u001b[0m\u001b[0;34m**\u001b[0m\u001b[0mself\u001b[0m\u001b[0;34m.\u001b[0m\u001b[0mconfig\u001b[0m\u001b[0;34m)\u001b[0m\u001b[0;34m:\u001b[0m\u001b[0;34m\u001b[0m\u001b[0;34m\u001b[0m\u001b[0m\n\u001b[0;32m--> 211\u001b[0;31m             \u001b[0;32mreturn\u001b[0m \u001b[0mself\u001b[0m\u001b[0;34m.\u001b[0m\u001b[0mfunction\u001b[0m\u001b[0;34m(\u001b[0m\u001b[0;34m*\u001b[0m\u001b[0margs\u001b[0m\u001b[0;34m,\u001b[0m \u001b[0;34m**\u001b[0m\u001b[0mkwargs\u001b[0m\u001b[0;34m)\u001b[0m\u001b[0;34m\u001b[0m\u001b[0;34m\u001b[0m\u001b[0m\n\u001b[0m\u001b[1;32m    212\u001b[0m \u001b[0;34m\u001b[0m\u001b[0m\n\u001b[1;32m    213\u001b[0m \u001b[0;34m\u001b[0m\u001b[0m\n",
            "\u001b[0;32m/usr/local/lib/python3.7/dist-packages/sklearn/model_selection/_validation.py\u001b[0m in \u001b[0;36m_fit_and_score\u001b[0;34m(estimator, X, y, scorer, train, test, verbose, parameters, fit_params, return_train_score, return_parameters, return_n_test_samples, return_times, return_estimator, split_progress, candidate_progress, error_score)\u001b[0m\n\u001b[1;32m    701\u001b[0m \u001b[0;34m\u001b[0m\u001b[0m\n\u001b[1;32m    702\u001b[0m         \u001b[0mfit_time\u001b[0m \u001b[0;34m=\u001b[0m \u001b[0mtime\u001b[0m\u001b[0;34m.\u001b[0m\u001b[0mtime\u001b[0m\u001b[0;34m(\u001b[0m\u001b[0;34m)\u001b[0m \u001b[0;34m-\u001b[0m \u001b[0mstart_time\u001b[0m\u001b[0;34m\u001b[0m\u001b[0;34m\u001b[0m\u001b[0m\n\u001b[0;32m--> 703\u001b[0;31m         \u001b[0mtest_scores\u001b[0m \u001b[0;34m=\u001b[0m \u001b[0m_score\u001b[0m\u001b[0;34m(\u001b[0m\u001b[0mestimator\u001b[0m\u001b[0;34m,\u001b[0m \u001b[0mX_test\u001b[0m\u001b[0;34m,\u001b[0m \u001b[0my_test\u001b[0m\u001b[0;34m,\u001b[0m \u001b[0mscorer\u001b[0m\u001b[0;34m,\u001b[0m \u001b[0merror_score\u001b[0m\u001b[0;34m)\u001b[0m\u001b[0;34m\u001b[0m\u001b[0;34m\u001b[0m\u001b[0m\n\u001b[0m\u001b[1;32m    704\u001b[0m         \u001b[0mscore_time\u001b[0m \u001b[0;34m=\u001b[0m \u001b[0mtime\u001b[0m\u001b[0;34m.\u001b[0m\u001b[0mtime\u001b[0m\u001b[0;34m(\u001b[0m\u001b[0;34m)\u001b[0m \u001b[0;34m-\u001b[0m \u001b[0mstart_time\u001b[0m \u001b[0;34m-\u001b[0m \u001b[0mfit_time\u001b[0m\u001b[0;34m\u001b[0m\u001b[0;34m\u001b[0m\u001b[0m\n\u001b[1;32m    705\u001b[0m         \u001b[0;32mif\u001b[0m \u001b[0mreturn_train_score\u001b[0m\u001b[0;34m:\u001b[0m\u001b[0;34m\u001b[0m\u001b[0;34m\u001b[0m\u001b[0m\n",
            "\u001b[0;32m/usr/local/lib/python3.7/dist-packages/sklearn/model_selection/_validation.py\u001b[0m in \u001b[0;36m_score\u001b[0;34m(estimator, X_test, y_test, scorer, error_score)\u001b[0m\n\u001b[1;32m    760\u001b[0m             \u001b[0mscores\u001b[0m \u001b[0;34m=\u001b[0m \u001b[0mscorer\u001b[0m\u001b[0;34m(\u001b[0m\u001b[0mestimator\u001b[0m\u001b[0;34m,\u001b[0m \u001b[0mX_test\u001b[0m\u001b[0;34m)\u001b[0m\u001b[0;34m\u001b[0m\u001b[0;34m\u001b[0m\u001b[0m\n\u001b[1;32m    761\u001b[0m         \u001b[0;32melse\u001b[0m\u001b[0;34m:\u001b[0m\u001b[0;34m\u001b[0m\u001b[0;34m\u001b[0m\u001b[0m\n\u001b[0;32m--> 762\u001b[0;31m             \u001b[0mscores\u001b[0m \u001b[0;34m=\u001b[0m \u001b[0mscorer\u001b[0m\u001b[0;34m(\u001b[0m\u001b[0mestimator\u001b[0m\u001b[0;34m,\u001b[0m \u001b[0mX_test\u001b[0m\u001b[0;34m,\u001b[0m \u001b[0my_test\u001b[0m\u001b[0;34m)\u001b[0m\u001b[0;34m\u001b[0m\u001b[0;34m\u001b[0m\u001b[0m\n\u001b[0m\u001b[1;32m    763\u001b[0m     \u001b[0;32mexcept\u001b[0m \u001b[0mException\u001b[0m\u001b[0;34m:\u001b[0m\u001b[0;34m\u001b[0m\u001b[0;34m\u001b[0m\u001b[0m\n\u001b[1;32m    764\u001b[0m         \u001b[0;32mif\u001b[0m \u001b[0merror_score\u001b[0m \u001b[0;34m==\u001b[0m \u001b[0;34m\"raise\"\u001b[0m\u001b[0;34m:\u001b[0m\u001b[0;34m\u001b[0m\u001b[0;34m\u001b[0m\u001b[0m\n",
            "\u001b[0;32m/usr/local/lib/python3.7/dist-packages/sklearn/metrics/_scorer.py\u001b[0m in \u001b[0;36m_passthrough_scorer\u001b[0;34m(estimator, *args, **kwargs)\u001b[0m\n\u001b[1;32m    416\u001b[0m \u001b[0;32mdef\u001b[0m \u001b[0m_passthrough_scorer\u001b[0m\u001b[0;34m(\u001b[0m\u001b[0mestimator\u001b[0m\u001b[0;34m,\u001b[0m \u001b[0;34m*\u001b[0m\u001b[0margs\u001b[0m\u001b[0;34m,\u001b[0m \u001b[0;34m**\u001b[0m\u001b[0mkwargs\u001b[0m\u001b[0;34m)\u001b[0m\u001b[0;34m:\u001b[0m\u001b[0;34m\u001b[0m\u001b[0;34m\u001b[0m\u001b[0m\n\u001b[1;32m    417\u001b[0m     \u001b[0;34m\"\"\"Function that wraps estimator.score\"\"\"\u001b[0m\u001b[0;34m\u001b[0m\u001b[0;34m\u001b[0m\u001b[0m\n\u001b[0;32m--> 418\u001b[0;31m     \u001b[0;32mreturn\u001b[0m \u001b[0mestimator\u001b[0m\u001b[0;34m.\u001b[0m\u001b[0mscore\u001b[0m\u001b[0;34m(\u001b[0m\u001b[0;34m*\u001b[0m\u001b[0margs\u001b[0m\u001b[0;34m,\u001b[0m \u001b[0;34m**\u001b[0m\u001b[0mkwargs\u001b[0m\u001b[0;34m)\u001b[0m\u001b[0;34m\u001b[0m\u001b[0;34m\u001b[0m\u001b[0m\n\u001b[0m\u001b[1;32m    419\u001b[0m \u001b[0;34m\u001b[0m\u001b[0m\n\u001b[1;32m    420\u001b[0m \u001b[0;34m\u001b[0m\u001b[0m\n",
            "\u001b[0;32m/usr/local/lib/python3.7/dist-packages/keras/wrappers/scikit_learn.py\u001b[0m in \u001b[0;36mscore\u001b[0;34m(self, x, y, **kwargs)\u001b[0m\n\u001b[1;32m    373\u001b[0m     \"\"\"\n\u001b[1;32m    374\u001b[0m     \u001b[0mkwargs\u001b[0m \u001b[0;34m=\u001b[0m \u001b[0mself\u001b[0m\u001b[0;34m.\u001b[0m\u001b[0mfilter_sk_params\u001b[0m\u001b[0;34m(\u001b[0m\u001b[0mSequential\u001b[0m\u001b[0;34m.\u001b[0m\u001b[0mevaluate\u001b[0m\u001b[0;34m,\u001b[0m \u001b[0mkwargs\u001b[0m\u001b[0;34m)\u001b[0m\u001b[0;34m\u001b[0m\u001b[0;34m\u001b[0m\u001b[0m\n\u001b[0;32m--> 375\u001b[0;31m     \u001b[0mloss\u001b[0m \u001b[0;34m=\u001b[0m \u001b[0mself\u001b[0m\u001b[0;34m.\u001b[0m\u001b[0mmodel\u001b[0m\u001b[0;34m.\u001b[0m\u001b[0mevaluate\u001b[0m\u001b[0;34m(\u001b[0m\u001b[0mx\u001b[0m\u001b[0;34m,\u001b[0m \u001b[0my\u001b[0m\u001b[0;34m,\u001b[0m \u001b[0;34m**\u001b[0m\u001b[0mkwargs\u001b[0m\u001b[0;34m)\u001b[0m\u001b[0;34m\u001b[0m\u001b[0;34m\u001b[0m\u001b[0m\n\u001b[0m\u001b[1;32m    376\u001b[0m     \u001b[0;32mif\u001b[0m \u001b[0misinstance\u001b[0m\u001b[0;34m(\u001b[0m\u001b[0mloss\u001b[0m\u001b[0;34m,\u001b[0m \u001b[0mlist\u001b[0m\u001b[0;34m)\u001b[0m\u001b[0;34m:\u001b[0m\u001b[0;34m\u001b[0m\u001b[0;34m\u001b[0m\u001b[0m\n\u001b[1;32m    377\u001b[0m       \u001b[0;32mreturn\u001b[0m \u001b[0;34m-\u001b[0m\u001b[0mloss\u001b[0m\u001b[0;34m[\u001b[0m\u001b[0;36m0\u001b[0m\u001b[0;34m]\u001b[0m\u001b[0;34m\u001b[0m\u001b[0;34m\u001b[0m\u001b[0m\n",
            "\u001b[0;32m/usr/local/lib/python3.7/dist-packages/keras/utils/traceback_utils.py\u001b[0m in \u001b[0;36merror_handler\u001b[0;34m(*args, **kwargs)\u001b[0m\n\u001b[1;32m     62\u001b[0m     \u001b[0mfiltered_tb\u001b[0m \u001b[0;34m=\u001b[0m \u001b[0;32mNone\u001b[0m\u001b[0;34m\u001b[0m\u001b[0;34m\u001b[0m\u001b[0m\n\u001b[1;32m     63\u001b[0m     \u001b[0;32mtry\u001b[0m\u001b[0;34m:\u001b[0m\u001b[0;34m\u001b[0m\u001b[0;34m\u001b[0m\u001b[0m\n\u001b[0;32m---> 64\u001b[0;31m       \u001b[0;32mreturn\u001b[0m \u001b[0mfn\u001b[0m\u001b[0;34m(\u001b[0m\u001b[0;34m*\u001b[0m\u001b[0margs\u001b[0m\u001b[0;34m,\u001b[0m \u001b[0;34m**\u001b[0m\u001b[0mkwargs\u001b[0m\u001b[0;34m)\u001b[0m\u001b[0;34m\u001b[0m\u001b[0;34m\u001b[0m\u001b[0m\n\u001b[0m\u001b[1;32m     65\u001b[0m     \u001b[0;32mexcept\u001b[0m \u001b[0mException\u001b[0m \u001b[0;32mas\u001b[0m \u001b[0me\u001b[0m\u001b[0;34m:\u001b[0m  \u001b[0;31m# pylint: disable=broad-except\u001b[0m\u001b[0;34m\u001b[0m\u001b[0;34m\u001b[0m\u001b[0m\n\u001b[1;32m     66\u001b[0m       \u001b[0mfiltered_tb\u001b[0m \u001b[0;34m=\u001b[0m \u001b[0m_process_traceback_frames\u001b[0m\u001b[0;34m(\u001b[0m\u001b[0me\u001b[0m\u001b[0;34m.\u001b[0m\u001b[0m__traceback__\u001b[0m\u001b[0;34m)\u001b[0m\u001b[0;34m\u001b[0m\u001b[0;34m\u001b[0m\u001b[0m\n",
            "\u001b[0;32m/usr/local/lib/python3.7/dist-packages/keras/engine/training.py\u001b[0m in \u001b[0;36mevaluate\u001b[0;34m(self, x, y, batch_size, verbose, sample_weight, steps, callbacks, max_queue_size, workers, use_multiprocessing, return_dict, **kwargs)\u001b[0m\n\u001b[1;32m   1512\u001b[0m             \u001b[0muse_multiprocessing\u001b[0m\u001b[0;34m=\u001b[0m\u001b[0muse_multiprocessing\u001b[0m\u001b[0;34m,\u001b[0m\u001b[0;34m\u001b[0m\u001b[0;34m\u001b[0m\u001b[0m\n\u001b[1;32m   1513\u001b[0m             \u001b[0mmodel\u001b[0m\u001b[0;34m=\u001b[0m\u001b[0mself\u001b[0m\u001b[0;34m,\u001b[0m\u001b[0;34m\u001b[0m\u001b[0;34m\u001b[0m\u001b[0m\n\u001b[0;32m-> 1514\u001b[0;31m             steps_per_execution=self._steps_per_execution)\n\u001b[0m\u001b[1;32m   1515\u001b[0m \u001b[0;34m\u001b[0m\u001b[0m\n\u001b[1;32m   1516\u001b[0m       \u001b[0;31m# Container that configures and calls `tf.keras.Callback`s.\u001b[0m\u001b[0;34m\u001b[0m\u001b[0;34m\u001b[0m\u001b[0;34m\u001b[0m\u001b[0m\n",
            "\u001b[0;32m/usr/local/lib/python3.7/dist-packages/keras/engine/data_adapter.py\u001b[0m in \u001b[0;36mget_data_handler\u001b[0;34m(*args, **kwargs)\u001b[0m\n\u001b[1;32m   1401\u001b[0m   \u001b[0;32mif\u001b[0m \u001b[0mgetattr\u001b[0m\u001b[0;34m(\u001b[0m\u001b[0mkwargs\u001b[0m\u001b[0;34m[\u001b[0m\u001b[0;34m\"model\"\u001b[0m\u001b[0;34m]\u001b[0m\u001b[0;34m,\u001b[0m \u001b[0;34m\"_cluster_coordinator\"\u001b[0m\u001b[0;34m,\u001b[0m \u001b[0;32mNone\u001b[0m\u001b[0;34m)\u001b[0m\u001b[0;34m:\u001b[0m\u001b[0;34m\u001b[0m\u001b[0;34m\u001b[0m\u001b[0m\n\u001b[1;32m   1402\u001b[0m     \u001b[0;32mreturn\u001b[0m \u001b[0m_ClusterCoordinatorDataHandler\u001b[0m\u001b[0;34m(\u001b[0m\u001b[0;34m*\u001b[0m\u001b[0margs\u001b[0m\u001b[0;34m,\u001b[0m \u001b[0;34m**\u001b[0m\u001b[0mkwargs\u001b[0m\u001b[0;34m)\u001b[0m\u001b[0;34m\u001b[0m\u001b[0;34m\u001b[0m\u001b[0m\n\u001b[0;32m-> 1403\u001b[0;31m   \u001b[0;32mreturn\u001b[0m \u001b[0mDataHandler\u001b[0m\u001b[0;34m(\u001b[0m\u001b[0;34m*\u001b[0m\u001b[0margs\u001b[0m\u001b[0;34m,\u001b[0m \u001b[0;34m**\u001b[0m\u001b[0mkwargs\u001b[0m\u001b[0;34m)\u001b[0m\u001b[0;34m\u001b[0m\u001b[0;34m\u001b[0m\u001b[0m\n\u001b[0m\u001b[1;32m   1404\u001b[0m \u001b[0;34m\u001b[0m\u001b[0m\n\u001b[1;32m   1405\u001b[0m \u001b[0;34m\u001b[0m\u001b[0m\n",
            "\u001b[0;32m/usr/local/lib/python3.7/dist-packages/keras/engine/data_adapter.py\u001b[0m in \u001b[0;36m__init__\u001b[0;34m(self, x, y, sample_weight, batch_size, steps_per_epoch, initial_epoch, epochs, shuffle, class_weight, max_queue_size, workers, use_multiprocessing, model, steps_per_execution, distribute)\u001b[0m\n\u001b[1;32m   1163\u001b[0m         \u001b[0muse_multiprocessing\u001b[0m\u001b[0;34m=\u001b[0m\u001b[0muse_multiprocessing\u001b[0m\u001b[0;34m,\u001b[0m\u001b[0;34m\u001b[0m\u001b[0;34m\u001b[0m\u001b[0m\n\u001b[1;32m   1164\u001b[0m         \u001b[0mdistribution_strategy\u001b[0m\u001b[0;34m=\u001b[0m\u001b[0mtf\u001b[0m\u001b[0;34m.\u001b[0m\u001b[0mdistribute\u001b[0m\u001b[0;34m.\u001b[0m\u001b[0mget_strategy\u001b[0m\u001b[0;34m(\u001b[0m\u001b[0;34m)\u001b[0m\u001b[0;34m,\u001b[0m\u001b[0;34m\u001b[0m\u001b[0;34m\u001b[0m\u001b[0m\n\u001b[0;32m-> 1165\u001b[0;31m         model=model)\n\u001b[0m\u001b[1;32m   1166\u001b[0m \u001b[0;34m\u001b[0m\u001b[0m\n\u001b[1;32m   1167\u001b[0m     \u001b[0mstrategy\u001b[0m \u001b[0;34m=\u001b[0m \u001b[0mtf\u001b[0m\u001b[0;34m.\u001b[0m\u001b[0mdistribute\u001b[0m\u001b[0;34m.\u001b[0m\u001b[0mget_strategy\u001b[0m\u001b[0;34m(\u001b[0m\u001b[0;34m)\u001b[0m\u001b[0;34m\u001b[0m\u001b[0;34m\u001b[0m\u001b[0m\n",
            "\u001b[0;32m/usr/local/lib/python3.7/dist-packages/keras/engine/data_adapter.py\u001b[0m in \u001b[0;36m__init__\u001b[0;34m(self, x, y, sample_weights, sample_weight_modes, batch_size, epochs, steps, shuffle, **kwargs)\u001b[0m\n\u001b[1;32m    323\u001b[0m       \u001b[0;32mreturn\u001b[0m \u001b[0mflat_dataset\u001b[0m\u001b[0;34m\u001b[0m\u001b[0;34m\u001b[0m\u001b[0m\n\u001b[1;32m    324\u001b[0m \u001b[0;34m\u001b[0m\u001b[0m\n\u001b[0;32m--> 325\u001b[0;31m     \u001b[0mindices_dataset\u001b[0m \u001b[0;34m=\u001b[0m \u001b[0mindices_dataset\u001b[0m\u001b[0;34m.\u001b[0m\u001b[0mflat_map\u001b[0m\u001b[0;34m(\u001b[0m\u001b[0mslice_batch_indices\u001b[0m\u001b[0;34m)\u001b[0m\u001b[0;34m\u001b[0m\u001b[0;34m\u001b[0m\u001b[0m\n\u001b[0m\u001b[1;32m    326\u001b[0m \u001b[0;34m\u001b[0m\u001b[0m\n\u001b[1;32m    327\u001b[0m     \u001b[0mdataset\u001b[0m \u001b[0;34m=\u001b[0m \u001b[0mself\u001b[0m\u001b[0;34m.\u001b[0m\u001b[0mslice_inputs\u001b[0m\u001b[0;34m(\u001b[0m\u001b[0mindices_dataset\u001b[0m\u001b[0;34m,\u001b[0m \u001b[0minputs\u001b[0m\u001b[0;34m)\u001b[0m\u001b[0;34m\u001b[0m\u001b[0;34m\u001b[0m\u001b[0m\n",
            "\u001b[0;32m/usr/local/lib/python3.7/dist-packages/tensorflow/python/data/ops/dataset_ops.py\u001b[0m in \u001b[0;36mflat_map\u001b[0;34m(self, map_func, name)\u001b[0m\n\u001b[1;32m   2046\u001b[0m       \u001b[0mDataset\u001b[0m\u001b[0;34m:\u001b[0m \u001b[0mA\u001b[0m\u001b[0;31m \u001b[0m\u001b[0;31m`\u001b[0m\u001b[0mDataset\u001b[0m\u001b[0;31m`\u001b[0m\u001b[0;34m.\u001b[0m\u001b[0;34m\u001b[0m\u001b[0;34m\u001b[0m\u001b[0m\n\u001b[1;32m   2047\u001b[0m     \"\"\"\n\u001b[0;32m-> 2048\u001b[0;31m     \u001b[0;32mreturn\u001b[0m \u001b[0mFlatMapDataset\u001b[0m\u001b[0;34m(\u001b[0m\u001b[0mself\u001b[0m\u001b[0;34m,\u001b[0m \u001b[0mmap_func\u001b[0m\u001b[0;34m,\u001b[0m \u001b[0mname\u001b[0m\u001b[0;34m=\u001b[0m\u001b[0mname\u001b[0m\u001b[0;34m)\u001b[0m\u001b[0;34m\u001b[0m\u001b[0;34m\u001b[0m\u001b[0m\n\u001b[0m\u001b[1;32m   2049\u001b[0m \u001b[0;34m\u001b[0m\u001b[0m\n\u001b[1;32m   2050\u001b[0m   def interleave(self,\n",
            "\u001b[0;32m/usr/local/lib/python3.7/dist-packages/tensorflow/python/data/ops/dataset_ops.py\u001b[0m in \u001b[0;36m__init__\u001b[0;34m(self, input_dataset, map_func, name)\u001b[0m\n\u001b[1;32m   5548\u001b[0m     \u001b[0mself\u001b[0m\u001b[0;34m.\u001b[0m\u001b[0m_input_dataset\u001b[0m \u001b[0;34m=\u001b[0m \u001b[0minput_dataset\u001b[0m\u001b[0;34m\u001b[0m\u001b[0;34m\u001b[0m\u001b[0m\n\u001b[1;32m   5549\u001b[0m     self._map_func = StructuredFunctionWrapper(\n\u001b[0;32m-> 5550\u001b[0;31m         map_func, self._transformation_name(), dataset=input_dataset)\n\u001b[0m\u001b[1;32m   5551\u001b[0m     \u001b[0;32mif\u001b[0m \u001b[0;32mnot\u001b[0m \u001b[0misinstance\u001b[0m\u001b[0;34m(\u001b[0m\u001b[0mself\u001b[0m\u001b[0;34m.\u001b[0m\u001b[0m_map_func\u001b[0m\u001b[0;34m.\u001b[0m\u001b[0moutput_structure\u001b[0m\u001b[0;34m,\u001b[0m \u001b[0mDatasetSpec\u001b[0m\u001b[0;34m)\u001b[0m\u001b[0;34m:\u001b[0m\u001b[0;34m\u001b[0m\u001b[0;34m\u001b[0m\u001b[0m\n\u001b[1;32m   5552\u001b[0m       raise TypeError(\n",
            "\u001b[0;32m/usr/local/lib/python3.7/dist-packages/tensorflow/python/data/ops/dataset_ops.py\u001b[0m in \u001b[0;36m__init__\u001b[0;34m(self, func, transformation_name, dataset, input_classes, input_shapes, input_types, input_structure, add_to_graph, use_legacy_function, defun_kwargs)\u001b[0m\n\u001b[1;32m   4531\u001b[0m         \u001b[0mfn_factory\u001b[0m \u001b[0;34m=\u001b[0m \u001b[0mtrace_tf_function\u001b[0m\u001b[0;34m(\u001b[0m\u001b[0mdefun_kwargs\u001b[0m\u001b[0;34m)\u001b[0m\u001b[0;34m\u001b[0m\u001b[0;34m\u001b[0m\u001b[0m\n\u001b[1;32m   4532\u001b[0m \u001b[0;34m\u001b[0m\u001b[0m\n\u001b[0;32m-> 4533\u001b[0;31m     \u001b[0mself\u001b[0m\u001b[0;34m.\u001b[0m\u001b[0m_function\u001b[0m \u001b[0;34m=\u001b[0m \u001b[0mfn_factory\u001b[0m\u001b[0;34m(\u001b[0m\u001b[0;34m)\u001b[0m\u001b[0;34m\u001b[0m\u001b[0;34m\u001b[0m\u001b[0m\n\u001b[0m\u001b[1;32m   4534\u001b[0m     \u001b[0;31m# There is no graph to add in eager mode.\u001b[0m\u001b[0;34m\u001b[0m\u001b[0;34m\u001b[0m\u001b[0;34m\u001b[0m\u001b[0m\n\u001b[1;32m   4535\u001b[0m     \u001b[0madd_to_graph\u001b[0m \u001b[0;34m&=\u001b[0m \u001b[0;32mnot\u001b[0m \u001b[0mcontext\u001b[0m\u001b[0;34m.\u001b[0m\u001b[0mexecuting_eagerly\u001b[0m\u001b[0;34m(\u001b[0m\u001b[0;34m)\u001b[0m\u001b[0;34m\u001b[0m\u001b[0;34m\u001b[0m\u001b[0m\n",
            "\u001b[0;32m/usr/local/lib/python3.7/dist-packages/tensorflow/python/eager/function.py\u001b[0m in \u001b[0;36mget_concrete_function\u001b[0;34m(self, *args, **kwargs)\u001b[0m\n\u001b[1;32m   3243\u001b[0m     \"\"\"\n\u001b[1;32m   3244\u001b[0m     graph_function = self._get_concrete_function_garbage_collected(\n\u001b[0;32m-> 3245\u001b[0;31m         *args, **kwargs)\n\u001b[0m\u001b[1;32m   3246\u001b[0m     \u001b[0mgraph_function\u001b[0m\u001b[0;34m.\u001b[0m\u001b[0m_garbage_collector\u001b[0m\u001b[0;34m.\u001b[0m\u001b[0mrelease\u001b[0m\u001b[0;34m(\u001b[0m\u001b[0;34m)\u001b[0m  \u001b[0;31m# pylint: disable=protected-access\u001b[0m\u001b[0;34m\u001b[0m\u001b[0;34m\u001b[0m\u001b[0m\n\u001b[1;32m   3247\u001b[0m     \u001b[0;32mreturn\u001b[0m \u001b[0mgraph_function\u001b[0m\u001b[0;34m\u001b[0m\u001b[0;34m\u001b[0m\u001b[0m\n",
            "\u001b[0;32m/usr/local/lib/python3.7/dist-packages/tensorflow/python/eager/function.py\u001b[0m in \u001b[0;36m_get_concrete_function_garbage_collected\u001b[0;34m(self, *args, **kwargs)\u001b[0m\n\u001b[1;32m   3208\u001b[0m       \u001b[0margs\u001b[0m\u001b[0;34m,\u001b[0m \u001b[0mkwargs\u001b[0m \u001b[0;34m=\u001b[0m \u001b[0;32mNone\u001b[0m\u001b[0;34m,\u001b[0m \u001b[0;32mNone\u001b[0m\u001b[0;34m\u001b[0m\u001b[0;34m\u001b[0m\u001b[0m\n\u001b[1;32m   3209\u001b[0m     \u001b[0;32mwith\u001b[0m \u001b[0mself\u001b[0m\u001b[0;34m.\u001b[0m\u001b[0m_lock\u001b[0m\u001b[0;34m:\u001b[0m\u001b[0;34m\u001b[0m\u001b[0;34m\u001b[0m\u001b[0m\n\u001b[0;32m-> 3210\u001b[0;31m       \u001b[0mgraph_function\u001b[0m\u001b[0;34m,\u001b[0m \u001b[0m_\u001b[0m \u001b[0;34m=\u001b[0m \u001b[0mself\u001b[0m\u001b[0;34m.\u001b[0m\u001b[0m_maybe_define_function\u001b[0m\u001b[0;34m(\u001b[0m\u001b[0margs\u001b[0m\u001b[0;34m,\u001b[0m \u001b[0mkwargs\u001b[0m\u001b[0;34m)\u001b[0m\u001b[0;34m\u001b[0m\u001b[0;34m\u001b[0m\u001b[0m\n\u001b[0m\u001b[1;32m   3211\u001b[0m       \u001b[0mseen_names\u001b[0m \u001b[0;34m=\u001b[0m \u001b[0mset\u001b[0m\u001b[0;34m(\u001b[0m\u001b[0;34m)\u001b[0m\u001b[0;34m\u001b[0m\u001b[0;34m\u001b[0m\u001b[0m\n\u001b[1;32m   3212\u001b[0m       captured = object_identity.ObjectIdentitySet(\n",
            "\u001b[0;32m/usr/local/lib/python3.7/dist-packages/tensorflow/python/eager/function.py\u001b[0m in \u001b[0;36m_maybe_define_function\u001b[0;34m(self, args, kwargs)\u001b[0m\n\u001b[1;32m   3555\u001b[0m \u001b[0;34m\u001b[0m\u001b[0m\n\u001b[1;32m   3556\u001b[0m           \u001b[0mself\u001b[0m\u001b[0;34m.\u001b[0m\u001b[0m_function_cache\u001b[0m\u001b[0;34m.\u001b[0m\u001b[0mmissed\u001b[0m\u001b[0;34m.\u001b[0m\u001b[0madd\u001b[0m\u001b[0;34m(\u001b[0m\u001b[0mcall_context_key\u001b[0m\u001b[0;34m)\u001b[0m\u001b[0;34m\u001b[0m\u001b[0;34m\u001b[0m\u001b[0m\n\u001b[0;32m-> 3557\u001b[0;31m           \u001b[0mgraph_function\u001b[0m \u001b[0;34m=\u001b[0m \u001b[0mself\u001b[0m\u001b[0;34m.\u001b[0m\u001b[0m_create_graph_function\u001b[0m\u001b[0;34m(\u001b[0m\u001b[0margs\u001b[0m\u001b[0;34m,\u001b[0m \u001b[0mkwargs\u001b[0m\u001b[0;34m)\u001b[0m\u001b[0;34m\u001b[0m\u001b[0;34m\u001b[0m\u001b[0m\n\u001b[0m\u001b[1;32m   3558\u001b[0m           \u001b[0mself\u001b[0m\u001b[0;34m.\u001b[0m\u001b[0m_function_cache\u001b[0m\u001b[0;34m.\u001b[0m\u001b[0mprimary\u001b[0m\u001b[0;34m[\u001b[0m\u001b[0mcache_key\u001b[0m\u001b[0;34m]\u001b[0m \u001b[0;34m=\u001b[0m \u001b[0mgraph_function\u001b[0m\u001b[0;34m\u001b[0m\u001b[0;34m\u001b[0m\u001b[0m\n\u001b[1;32m   3559\u001b[0m \u001b[0;34m\u001b[0m\u001b[0m\n",
            "\u001b[0;32m/usr/local/lib/python3.7/dist-packages/tensorflow/python/eager/function.py\u001b[0m in \u001b[0;36m_create_graph_function\u001b[0;34m(self, args, kwargs, override_flat_arg_shapes)\u001b[0m\n\u001b[1;32m   3400\u001b[0m             \u001b[0marg_names\u001b[0m\u001b[0;34m=\u001b[0m\u001b[0marg_names\u001b[0m\u001b[0;34m,\u001b[0m\u001b[0;34m\u001b[0m\u001b[0;34m\u001b[0m\u001b[0m\n\u001b[1;32m   3401\u001b[0m             \u001b[0moverride_flat_arg_shapes\u001b[0m\u001b[0;34m=\u001b[0m\u001b[0moverride_flat_arg_shapes\u001b[0m\u001b[0;34m,\u001b[0m\u001b[0;34m\u001b[0m\u001b[0;34m\u001b[0m\u001b[0m\n\u001b[0;32m-> 3402\u001b[0;31m             capture_by_value=self._capture_by_value),\n\u001b[0m\u001b[1;32m   3403\u001b[0m         \u001b[0mself\u001b[0m\u001b[0;34m.\u001b[0m\u001b[0m_function_attributes\u001b[0m\u001b[0;34m,\u001b[0m\u001b[0;34m\u001b[0m\u001b[0;34m\u001b[0m\u001b[0m\n\u001b[1;32m   3404\u001b[0m         \u001b[0mfunction_spec\u001b[0m\u001b[0;34m=\u001b[0m\u001b[0mself\u001b[0m\u001b[0;34m.\u001b[0m\u001b[0mfunction_spec\u001b[0m\u001b[0;34m,\u001b[0m\u001b[0;34m\u001b[0m\u001b[0;34m\u001b[0m\u001b[0m\n",
            "\u001b[0;32m/usr/local/lib/python3.7/dist-packages/tensorflow/python/framework/func_graph.py\u001b[0m in \u001b[0;36mfunc_graph_from_py_func\u001b[0;34m(name, python_func, args, kwargs, signature, func_graph, autograph, autograph_options, add_control_dependencies, arg_names, op_return_value, collections, capture_by_value, override_flat_arg_shapes, acd_record_initial_resource_uses)\u001b[0m\n\u001b[1;32m   1182\u001b[0m         if x is not None)\n\u001b[1;32m   1183\u001b[0m \u001b[0;34m\u001b[0m\u001b[0m\n\u001b[0;32m-> 1184\u001b[0;31m     \u001b[0mfunc_graph\u001b[0m\u001b[0;34m.\u001b[0m\u001b[0mvariables\u001b[0m \u001b[0;34m=\u001b[0m \u001b[0mvariables\u001b[0m\u001b[0;34m\u001b[0m\u001b[0;34m\u001b[0m\u001b[0m\n\u001b[0m\u001b[1;32m   1185\u001b[0m \u001b[0;34m\u001b[0m\u001b[0m\n\u001b[1;32m   1186\u001b[0m   \u001b[0;32mif\u001b[0m \u001b[0madd_control_dependencies\u001b[0m\u001b[0;34m:\u001b[0m\u001b[0;34m\u001b[0m\u001b[0;34m\u001b[0m\u001b[0m\n",
            "\u001b[0;32m/usr/local/lib/python3.7/dist-packages/tensorflow/python/framework/auto_control_deps.py\u001b[0m in \u001b[0;36m__exit__\u001b[0;34m(self, unused_type, unused_value, unused_traceback)\u001b[0m\n\u001b[1;32m    537\u001b[0m           \u001b[0;31m# function outputs.\u001b[0m\u001b[0;34m\u001b[0m\u001b[0;34m\u001b[0m\u001b[0;34m\u001b[0m\u001b[0m\n\u001b[1;32m    538\u001b[0m           \u001b[0;32mif\u001b[0m \u001b[0midx\u001b[0m \u001b[0;34m==\u001b[0m \u001b[0;36m0\u001b[0m\u001b[0;34m:\u001b[0m\u001b[0;34m\u001b[0m\u001b[0;34m\u001b[0m\u001b[0m\n\u001b[0;32m--> 539\u001b[0;31m             \u001b[0mcontrol_output_op\u001b[0m \u001b[0;34m=\u001b[0m \u001b[0mcontrol_flow_ops\u001b[0m\u001b[0;34m.\u001b[0m\u001b[0mno_op\u001b[0m\u001b[0;34m(\u001b[0m\u001b[0;34m)\u001b[0m\u001b[0;34m\u001b[0m\u001b[0;34m\u001b[0m\u001b[0m\n\u001b[0m\u001b[1;32m    540\u001b[0m             control_output_op._set_attr(\"_acd_function_control_output\",\n\u001b[1;32m    541\u001b[0m                                         attr_value_pb2.AttrValue(b=True))\n",
            "\u001b[0;32m/usr/local/lib/python3.7/dist-packages/tensorflow/python/ops/gen_control_flow_ops.py\u001b[0m in \u001b[0;36mno_op\u001b[0;34m(name)\u001b[0m\n\u001b[1;32m    509\u001b[0m   \u001b[0;32mtry\u001b[0m\u001b[0;34m:\u001b[0m\u001b[0;34m\u001b[0m\u001b[0;34m\u001b[0m\u001b[0m\n\u001b[1;32m    510\u001b[0m     _, _, _op, _outputs = _op_def_library._apply_op_helper(\n\u001b[0;32m--> 511\u001b[0;31m         \"NoOp\", name=name)\n\u001b[0m\u001b[1;32m    512\u001b[0m   \u001b[0;32mexcept\u001b[0m \u001b[0;34m(\u001b[0m\u001b[0mTypeError\u001b[0m\u001b[0;34m,\u001b[0m \u001b[0mValueError\u001b[0m\u001b[0;34m)\u001b[0m\u001b[0;34m:\u001b[0m\u001b[0;34m\u001b[0m\u001b[0;34m\u001b[0m\u001b[0m\n\u001b[1;32m    513\u001b[0m     _result = _dispatch.dispatch(\n",
            "\u001b[0;32m/usr/local/lib/python3.7/dist-packages/tensorflow/python/framework/op_def_library.py\u001b[0m in \u001b[0;36m_apply_op_helper\u001b[0;34m(op_type_name, name, **keywords)\u001b[0m\n\u001b[1;32m    744\u001b[0m       op = g._create_op_internal(op_type_name, inputs, dtypes=None,\n\u001b[1;32m    745\u001b[0m                                  \u001b[0mname\u001b[0m\u001b[0;34m=\u001b[0m\u001b[0mscope\u001b[0m\u001b[0;34m,\u001b[0m \u001b[0minput_types\u001b[0m\u001b[0;34m=\u001b[0m\u001b[0minput_types\u001b[0m\u001b[0;34m,\u001b[0m\u001b[0;34m\u001b[0m\u001b[0;34m\u001b[0m\u001b[0m\n\u001b[0;32m--> 746\u001b[0;31m                                  attrs=attr_protos, op_def=op_def)\n\u001b[0m\u001b[1;32m    747\u001b[0m \u001b[0;34m\u001b[0m\u001b[0m\n\u001b[1;32m    748\u001b[0m     \u001b[0;31m# `outputs` is returned as a separate return value so that the output\u001b[0m\u001b[0;34m\u001b[0m\u001b[0;34m\u001b[0m\u001b[0;34m\u001b[0m\u001b[0m\n",
            "\u001b[0;32m/usr/local/lib/python3.7/dist-packages/tensorflow/python/framework/func_graph.py\u001b[0m in \u001b[0;36m_create_op_internal\u001b[0;34m(self, op_type, inputs, dtypes, input_types, name, attrs, op_def, compute_device)\u001b[0m\n\u001b[1;32m    689\u001b[0m     return super(FuncGraph, self)._create_op_internal(  # pylint: disable=protected-access\n\u001b[1;32m    690\u001b[0m         \u001b[0mop_type\u001b[0m\u001b[0;34m,\u001b[0m \u001b[0mcaptured_inputs\u001b[0m\u001b[0;34m,\u001b[0m \u001b[0mdtypes\u001b[0m\u001b[0;34m,\u001b[0m \u001b[0minput_types\u001b[0m\u001b[0;34m,\u001b[0m \u001b[0mname\u001b[0m\u001b[0;34m,\u001b[0m \u001b[0mattrs\u001b[0m\u001b[0;34m,\u001b[0m \u001b[0mop_def\u001b[0m\u001b[0;34m,\u001b[0m\u001b[0;34m\u001b[0m\u001b[0;34m\u001b[0m\u001b[0m\n\u001b[0;32m--> 691\u001b[0;31m         compute_device)\n\u001b[0m\u001b[1;32m    692\u001b[0m \u001b[0;34m\u001b[0m\u001b[0m\n\u001b[1;32m    693\u001b[0m   \u001b[0;32mdef\u001b[0m \u001b[0mcapture\u001b[0m\u001b[0;34m(\u001b[0m\u001b[0mself\u001b[0m\u001b[0;34m,\u001b[0m \u001b[0mtensor\u001b[0m\u001b[0;34m,\u001b[0m \u001b[0mname\u001b[0m\u001b[0;34m=\u001b[0m\u001b[0;32mNone\u001b[0m\u001b[0;34m,\u001b[0m \u001b[0mshape\u001b[0m\u001b[0;34m=\u001b[0m\u001b[0;32mNone\u001b[0m\u001b[0;34m)\u001b[0m\u001b[0;34m:\u001b[0m\u001b[0;34m\u001b[0m\u001b[0;34m\u001b[0m\u001b[0m\n",
            "\u001b[0;32m/usr/local/lib/python3.7/dist-packages/tensorflow/python/framework/ops.py\u001b[0m in \u001b[0;36m_create_op_internal\u001b[0;34m(self, op_type, inputs, dtypes, input_types, name, attrs, op_def, compute_device)\u001b[0m\n\u001b[1;32m   3694\u001b[0m     \u001b[0;31m# _create_op_helper mutates the new Operation. `_mutation_lock` ensures a\u001b[0m\u001b[0;34m\u001b[0m\u001b[0;34m\u001b[0m\u001b[0;34m\u001b[0m\u001b[0m\n\u001b[1;32m   3695\u001b[0m     \u001b[0;31m# Session.run call cannot occur between creating and mutating the op.\u001b[0m\u001b[0;34m\u001b[0m\u001b[0;34m\u001b[0m\u001b[0;34m\u001b[0m\u001b[0m\n\u001b[0;32m-> 3696\u001b[0;31m     \u001b[0;32mwith\u001b[0m \u001b[0mself\u001b[0m\u001b[0;34m.\u001b[0m\u001b[0m_mutation_lock\u001b[0m\u001b[0;34m(\u001b[0m\u001b[0;34m)\u001b[0m\u001b[0;34m:\u001b[0m\u001b[0;34m\u001b[0m\u001b[0;34m\u001b[0m\u001b[0m\n\u001b[0m\u001b[1;32m   3697\u001b[0m       ret = Operation(\n\u001b[1;32m   3698\u001b[0m           \u001b[0mnode_def\u001b[0m\u001b[0;34m,\u001b[0m\u001b[0;34m\u001b[0m\u001b[0;34m\u001b[0m\u001b[0m\n",
            "\u001b[0;32m/usr/local/lib/python3.7/dist-packages/tensorflow/python/util/lock_util.py\u001b[0m in \u001b[0;36m__enter__\u001b[0;34m(self)\u001b[0m\n\u001b[1;32m    128\u001b[0m \u001b[0;34m\u001b[0m\u001b[0m\n\u001b[1;32m    129\u001b[0m     \u001b[0;32mdef\u001b[0m \u001b[0m__enter__\u001b[0m\u001b[0;34m(\u001b[0m\u001b[0mself\u001b[0m\u001b[0;34m)\u001b[0m\u001b[0;34m:\u001b[0m\u001b[0;34m\u001b[0m\u001b[0;34m\u001b[0m\u001b[0m\n\u001b[0;32m--> 130\u001b[0;31m       \u001b[0mself\u001b[0m\u001b[0;34m.\u001b[0m\u001b[0m_lock\u001b[0m\u001b[0;34m.\u001b[0m\u001b[0macquire\u001b[0m\u001b[0;34m(\u001b[0m\u001b[0mself\u001b[0m\u001b[0;34m.\u001b[0m\u001b[0m_group_id\u001b[0m\u001b[0;34m)\u001b[0m\u001b[0;34m\u001b[0m\u001b[0;34m\u001b[0m\u001b[0m\n\u001b[0m\u001b[1;32m    131\u001b[0m \u001b[0;34m\u001b[0m\u001b[0m\n\u001b[1;32m    132\u001b[0m     \u001b[0;32mdef\u001b[0m \u001b[0m__exit__\u001b[0m\u001b[0;34m(\u001b[0m\u001b[0mself\u001b[0m\u001b[0;34m,\u001b[0m \u001b[0mtype_arg\u001b[0m\u001b[0;34m,\u001b[0m \u001b[0mvalue_arg\u001b[0m\u001b[0;34m,\u001b[0m \u001b[0mtraceback_arg\u001b[0m\u001b[0;34m)\u001b[0m\u001b[0;34m:\u001b[0m\u001b[0;34m\u001b[0m\u001b[0;34m\u001b[0m\u001b[0m\n",
            "\u001b[0;32m/usr/local/lib/python3.7/dist-packages/tensorflow/python/util/lock_util.py\u001b[0m in \u001b[0;36macquire\u001b[0;34m(self, group_id)\u001b[0m\n\u001b[1;32m     92\u001b[0m \u001b[0;34m\u001b[0m\u001b[0m\n\u001b[1;32m     93\u001b[0m     \u001b[0mself\u001b[0m\u001b[0;34m.\u001b[0m\u001b[0m_ready\u001b[0m\u001b[0;34m.\u001b[0m\u001b[0macquire\u001b[0m\u001b[0;34m(\u001b[0m\u001b[0;34m)\u001b[0m\u001b[0;34m\u001b[0m\u001b[0;34m\u001b[0m\u001b[0m\n\u001b[0;32m---> 94\u001b[0;31m     \u001b[0;32mwhile\u001b[0m \u001b[0mself\u001b[0m\u001b[0;34m.\u001b[0m\u001b[0m_another_group_active\u001b[0m\u001b[0;34m(\u001b[0m\u001b[0mgroup_id\u001b[0m\u001b[0;34m)\u001b[0m\u001b[0;34m:\u001b[0m\u001b[0;34m\u001b[0m\u001b[0;34m\u001b[0m\u001b[0m\n\u001b[0m\u001b[1;32m     95\u001b[0m       \u001b[0mself\u001b[0m\u001b[0;34m.\u001b[0m\u001b[0m_ready\u001b[0m\u001b[0;34m.\u001b[0m\u001b[0mwait\u001b[0m\u001b[0;34m(\u001b[0m\u001b[0;34m)\u001b[0m\u001b[0;34m\u001b[0m\u001b[0;34m\u001b[0m\u001b[0m\n\u001b[1;32m     96\u001b[0m     \u001b[0mself\u001b[0m\u001b[0;34m.\u001b[0m\u001b[0m_group_member_counts\u001b[0m\u001b[0;34m[\u001b[0m\u001b[0mgroup_id\u001b[0m\u001b[0;34m]\u001b[0m \u001b[0;34m+=\u001b[0m \u001b[0;36m1\u001b[0m\u001b[0;34m\u001b[0m\u001b[0;34m\u001b[0m\u001b[0m\n",
            "\u001b[0;32m/usr/local/lib/python3.7/dist-packages/tensorflow/python/util/lock_util.py\u001b[0m in \u001b[0;36m_another_group_active\u001b[0;34m(self, group_id)\u001b[0m\n\u001b[1;32m    109\u001b[0m   \u001b[0;32mdef\u001b[0m \u001b[0m_another_group_active\u001b[0m\u001b[0;34m(\u001b[0m\u001b[0mself\u001b[0m\u001b[0;34m,\u001b[0m \u001b[0mgroup_id\u001b[0m\u001b[0;34m)\u001b[0m\u001b[0;34m:\u001b[0m\u001b[0;34m\u001b[0m\u001b[0;34m\u001b[0m\u001b[0m\n\u001b[1;32m    110\u001b[0m     return any(\n\u001b[0;32m--> 111\u001b[0;31m         c > 0 for g, c in enumerate(self._group_member_counts) if g != group_id)\n\u001b[0m\u001b[1;32m    112\u001b[0m \u001b[0;34m\u001b[0m\u001b[0m\n\u001b[1;32m    113\u001b[0m   \u001b[0;32mdef\u001b[0m \u001b[0m_validate_group_id\u001b[0m\u001b[0;34m(\u001b[0m\u001b[0mself\u001b[0m\u001b[0;34m,\u001b[0m \u001b[0mgroup_id\u001b[0m\u001b[0;34m)\u001b[0m\u001b[0;34m:\u001b[0m\u001b[0;34m\u001b[0m\u001b[0;34m\u001b[0m\u001b[0m\n",
            "\u001b[0;31mKeyboardInterrupt\u001b[0m: "
          ]
        }
      ]
    },
    {
      "cell_type": "markdown",
      "metadata": {
        "id": "NDyLtOT8dqOB"
      },
      "source": [
        "The above  exploration  may  last  many  hours  depending  on  the  hardware,  the  size  of  the dataset, the complexity of the model and the value of n_iter and cv. When it is over, we can access the best parameters found, the best score, and the trained Keras model like this:"
      ]
    },
    {
      "cell_type": "code",
      "metadata": {
        "id": "UgsAM812dqOC"
      },
      "source": [
        "# finding the best parameters\n",
        "rnd_search_cv.best_params_"
      ],
      "execution_count": null,
      "outputs": []
    },
    {
      "cell_type": "code",
      "metadata": {
        "id": "QeOHn8WVdqOC"
      },
      "source": [
        "# best score\n",
        "rnd_search_cv.best_score_"
      ],
      "execution_count": null,
      "outputs": []
    },
    {
      "cell_type": "code",
      "metadata": {
        "id": "JNY1vgDAdqOD"
      },
      "source": [
        "# applying best parameters to the model for predictions\n",
        "model = rnd_search_cv.best_estimator_.model"
      ],
      "execution_count": null,
      "outputs": []
    },
    {
      "cell_type": "markdown",
      "metadata": {
        "id": "Tqut1OR3dqOE"
      },
      "source": [
        "Refer to the guidelines below for choosing the  number  of  hidden  layers  and  neurons  in  an  MLP,  and  selecting  appropriate  values  for some of the main hyperparameters."
      ]
    },
    {
      "cell_type": "markdown",
      "metadata": {
        "id": "F9t_szGwdqOF"
      },
      "source": [
        "#### Number of Hidden Layers"
      ]
    },
    {
      "cell_type": "markdown",
      "metadata": {
        "id": "EqiYlS6AdqOG"
      },
      "source": [
        "- For simple problems, we can start with just one or two hidden layers and get the accurate results.\n",
        "- For more complex problems, we can gradually rampup the number of hidden layers, until we start overfitting the training set. Very complex  tasks,  such  as  large  image  classification  or  speech  recognition,  typically  require networks  with  dozens  of  layers  (or  even  hundreds,  but  not  fully  connected  ones),  and  they  need  a  huge  amount  of  training  data. "
      ]
    },
    {
      "cell_type": "markdown",
      "metadata": {
        "id": "DZu_Fc1ydqOH"
      },
      "source": [
        "#### Number of Neurons per Hidden Layer"
      ]
    },
    {
      "cell_type": "markdown",
      "metadata": {
        "id": "D-1AYlmBdqOI"
      },
      "source": [
        "- We can try increasing the number of neurons gradually  until  the  network  starts  overfitting. \n",
        "- In general, it may be more advantageous to increase  the  number  of  layers  than  the  number  of  neurons  per  layer.\n",
        "- A  simpler  approach  is  to  pick  a  model  with  more  layers  and  neurons  than  we actually need, then use early stopping to prevent it from overfitting (and other regularization  techniques,  such  as  dropout, which we will discuss further in this notebook)."
      ]
    },
    {
      "cell_type": "markdown",
      "metadata": {
        "id": "kQJXWhRIdqOJ"
      },
      "source": [
        "#### Learning Rate, Batch Size, and Other Hyperparameters"
      ]
    },
    {
      "cell_type": "markdown",
      "metadata": {
        "id": "QMuxqHl1dqOJ"
      },
      "source": [
        "Here are some of the important hyperparameters other than hidden layers and neurons, and some tips on how to set them:\n",
        "\n",
        "- The learning rate is arguably the most important hyperparameter. In general, the optimal learning rate is about half of the maximum learning rate (i.e., the learning rate above which the training algorithm diverges). So a  simple  approach  for  tuning  the  learning  rate  is  to  start  with  a  large  value  that makes  the  training  algorithm  diverge,  then  divide  this  value  by  3  and  try  again, and repeat until the training algorithm stops diverging.\n",
        "- Choosing  a  better  optimizer  than  plain  old  Mini-batch  Gradient  Descent  (and tuning its hyperparameters) is also quite important. We will discuss this in further sections.\n",
        "- The  batch  size  can  also  have  a  significant  impact  on  our  model’s  performance and the training time. In general the optimal batch size will be lower than 32. We will study batch normalization further in this notebook.\n",
        "- We discussed the choice of the activation function in previous assignment notebook, the $ReLU$ activation function will be a good default for all hidden layers. For the output layer, it really depends on our task.\n",
        "- In  most  cases,  the  number  of  training  iterations  does  not actually  need  to  be tweaked: just use early stopping instead.\n",
        "\n",
        "Let us also take a look at techniques such as Batch normalization, overfitting, drop out, optimizers and learning rate to  train deep neural networks.\n",
        "\n",
        "To know more about hyperparameter tuning of deep neural networks, click [here](https://towardsdatascience.com/the-art-of-hyperparameter-tuning-in-deep-neural-nets-by-example-685cb5429a38)."
      ]
    },
    {
      "cell_type": "markdown",
      "metadata": {
        "id": "Vc_IEVbFdqOK"
      },
      "source": [
        "### Accelerate Learning of Deep Neural Networks With Batch Normalization"
      ]
    },
    {
      "cell_type": "markdown",
      "metadata": {
        "id": "YRK5Px-qdqOM"
      },
      "source": [
        "Batch normalization is a technique for training very deep neural networks that standardizes the inputs to a layer for each mini-batch. This has the effect of stabilizing the learning process and dramatically reducing the number of training epochs required to train deep networks.\n",
        "\n",
        "![Image](https://lh3.googleusercontent.com/-9hMD_jyPLuE/YNQoKrc-_4I/AAAAAAAACTs/9nZ-BEdtI-QoAe6R5HXlG6X3AcprX8NaQCJEEGAsYHg/s512/2021-06-23.png)\n",
        "\n",
        "$\\text{Figure: Batch Normalization Algorithm}$\n",
        "\n",
        "So  during  training,  BN  just  standardizes  its  inputs  then  rescales  and  offsets  them."
      ]
    },
    {
      "cell_type": "markdown",
      "metadata": {
        "id": "I_el24cRdqON"
      },
      "source": [
        "#### Implementing Batch Normalization with Keras"
      ]
    },
    {
      "cell_type": "markdown",
      "metadata": {
        "id": "jmjykNm-dqOO"
      },
      "source": [
        "Implementing  Batch  Normalization  is  quite  simple, just  add  a  BatchNormalization  layer  before  or  after  each  hidden  layer’s  activation function,  and  optionally  add  a  BN  layer  as  well  as  the  first  layer  in  our  model.  For example,  this  model  applies  BN  after  every  hidden  layer  and  as  the  first  layer  in  the\n",
        "model (after flattening the input images):"
      ]
    },
    {
      "cell_type": "code",
      "metadata": {
        "id": "HUc-PjdHdqOP"
      },
      "source": [
        "# create model with Batch Normalization\n",
        "model = Sequential([\n",
        "                    Flatten(input_shape=[28, 28]),\n",
        "                    BatchNormalization(),\n",
        "                    Dense(300, activation=\"relu\", kernel_initializer=\"he_normal\"),\n",
        "                    BatchNormalization(),\n",
        "                    Dense(100, activation=\"relu\", kernel_initializer=\"he_normal\"),\n",
        "                    BatchNormalization(),\n",
        "                    Dense(10, activation=\"softmax\")\n",
        "                    ])"
      ],
      "execution_count": null,
      "outputs": []
    },
    {
      "cell_type": "markdown",
      "metadata": {
        "id": "z3u4zONAdqOQ"
      },
      "source": [
        "If we display the model summary, we can see that each BN layer adds 4 parameters per input: γ, β, μ and σ (for example, the first BN layer adds 3136 parameters, which is 4 times 784). The last two parameters, μ and σ, are the moving averages, they are not affected by backpropagation, so Keras calls them “Nontrainable” (if we count the total number of BN parameters, 3136 + 1200 + 400, and divide  by  two,  we get  2,368,  which  is  the  total  number  of  non-trainable  params  in this model)."
      ]
    },
    {
      "cell_type": "code",
      "metadata": {
        "id": "BpyQU5LLdqOR"
      },
      "source": [
        "# summary of model\n",
        "model.summary()"
      ],
      "execution_count": null,
      "outputs": []
    },
    {
      "cell_type": "markdown",
      "metadata": {
        "id": "iaE1qvfhdqOS"
      },
      "source": [
        "Let’s look at the parameters of the first BN layer. Two are trainable (by backprop), and two are not:"
      ]
    },
    {
      "cell_type": "code",
      "metadata": {
        "id": "xTpS00QzdqOS"
      },
      "source": [
        "[(var.name, var.trainable) for var in model.layers[1].variables]"
      ],
      "execution_count": null,
      "outputs": []
    },
    {
      "cell_type": "code",
      "metadata": {
        "id": "h6zEJrikdqOT"
      },
      "source": [
        "model.layers[1].updates"
      ],
      "execution_count": null,
      "outputs": []
    },
    {
      "cell_type": "markdown",
      "metadata": {
        "id": "9Ku_jrTpdqOU"
      },
      "source": [
        "Moreover,  since  a  Batch  Normalization layer includes one offset parameter per input, we can remove the bias term from the previous layer (just pass `use_bias=False` when creating it)."
      ]
    },
    {
      "cell_type": "code",
      "metadata": {
        "id": "lWeHUnCvdqOV"
      },
      "source": [
        "# create model\n",
        "model = Sequential([\n",
        "                    Flatten(input_shape=[28, 28]),\n",
        "                    BatchNormalization(),\n",
        "                    Dense(300, kernel_initializer=\"he_normal\", use_bias=False),\n",
        "                    BatchNormalization(),\n",
        "                    Activation(\"relu\"),\n",
        "                    Dense(100, kernel_initializer=\"he_normal\", use_bias=False),\n",
        "                    Activation(\"relu\"),\n",
        "                    BatchNormalization(),\n",
        "                    Dense(10, activation=\"softmax\")\n",
        "                    ])"
      ],
      "execution_count": null,
      "outputs": []
    },
    {
      "cell_type": "markdown",
      "metadata": {
        "id": "-nQq1BuIdqOW"
      },
      "source": [
        "The  BatchNormalization class has regularizable hyperparameters. Tweaking the “momentum” argument allows us to control how much of the statistics from the previous mini batch to include when the update is calculated.\n",
        "\n",
        "\n",
        "A good momentum value is typically close to 1, for example, 0.9, 0.99, or 0.999 \n",
        "\n",
        "To know more about batch normalization, click [here](https://towardsdatascience.com/batch-normalization-in-practice-an-example-with-keras-and-tensorflow-2-0-b1ec28bde96f)."
      ]
    },
    {
      "cell_type": "markdown",
      "metadata": {
        "id": "VvBrjDXmdqOX"
      },
      "source": [
        "###  Optimizers"
      ]
    },
    {
      "cell_type": "markdown",
      "metadata": {
        "id": "4Tv15JM0dqOX"
      },
      "source": [
        "Some popular optimizers used for boosting the speed in training large deep neural networks are: Momentum optimization, RMSProp, and Adam optimization. Refer [here](https://mlfromscratch.com/optimizers-explained/#/) for a detailed understanding."
      ]
    },
    {
      "cell_type": "markdown",
      "metadata": {
        "id": "uA4iM1aQdqOY"
      },
      "source": [
        "#### Momentum Optimization"
      ]
    },
    {
      "cell_type": "markdown",
      "metadata": {
        "id": "Yz-Y0M-SdqOZ"
      },
      "source": [
        "Momentum  optimization subtracts  the  local  gradient  from  the  momentum  vector  m  (multiplied  by  the  learning  rate  η),  and  it  updates  the  weights  by  simply  adding  this momentum vector, thus accelerating the speed. The momentum hyperparameter $β$ is introduced to prevent  the momentum from growing too large (set between 0 and 1, typically 0.9).\n",
        "\n"
      ]
    },
    {
      "cell_type": "code",
      "metadata": {
        "id": "wz1B-VDedqOa"
      },
      "source": [
        "#Implementing the momentum optimizer\n",
        "optimizer = keras.optimizers.SGD(lr=0.001, momentum=0.9)"
      ],
      "execution_count": null,
      "outputs": []
    },
    {
      "cell_type": "markdown",
      "metadata": {
        "id": "cFp9_IkfdqOb"
      },
      "source": [
        "#### RMSProp"
      ]
    },
    {
      "cell_type": "markdown",
      "metadata": {
        "id": "1cWLQD2hdqOc"
      },
      "source": [
        "The RMSProp algorithm fixes only the gradients from the most recent iterations (as opposed to all the gradients since the beginning of training). It does so by using exponential decay in the first step. \n",
        "\n",
        "The decay rate $β$ is typically set to 0.9. Yes, it is once again a new hyperparameter, but this default value often works well, so we may not need to tune it at all.\n"
      ]
    },
    {
      "cell_type": "code",
      "metadata": {
        "id": "_Ta7gsJFdqOd"
      },
      "source": [
        "#Implementing the RMSProp optimizer\n",
        "optimizer = keras.optimizers.RMSprop(lr=0.001, rho=0.9)"
      ],
      "execution_count": null,
      "outputs": []
    },
    {
      "cell_type": "markdown",
      "metadata": {
        "id": "v1vPNNs7dqOe"
      },
      "source": [
        "#### Adam Optimization"
      ]
    },
    {
      "cell_type": "markdown",
      "metadata": {
        "id": "wMvwuAridqOf"
      },
      "source": [
        "Adam combines the ideas of Momentum  optimization  and  RMSProp:  it keeps track of both, an  exponentially  decaying  average  of  past  gradients,  and  an  exponentially  decaying  average  of  past  squared  gradients.\n",
        "\n",
        "The momentum decay hyperparameter $β_1$ is typically initialized to 0.9, while the scaling  decay  hyperparameter  $β_2$  is  often  initialized  to  0.999."
      ]
    },
    {
      "cell_type": "code",
      "metadata": {
        "id": "0EfFHwAFdqOg"
      },
      "source": [
        "#Implementing the Adam optimizer\n",
        "optimizer = keras.optimizers.Adam(lr=0.001, beta_1=0.9, beta_2=0.999)"
      ],
      "execution_count": null,
      "outputs": []
    },
    {
      "cell_type": "markdown",
      "metadata": {
        "id": "mYIwICgtdqOh"
      },
      "source": [
        "To know more about optimizers, click [here](https://towardsdatascience.com/optimizers-for-training-neural-network-59450d71caf6#:~:text=Optimizers%20are%20algorithms%20or%20methods,help%20to%20get%20results%20faster)."
      ]
    },
    {
      "cell_type": "markdown",
      "metadata": {
        "id": "Tt5i_U0udqOh"
      },
      "source": [
        "#### Learning Rate Schedule For Training Models"
      ]
    },
    {
      "cell_type": "markdown",
      "metadata": {
        "id": "I3ln8QNTdqOi"
      },
      "source": [
        "The simplest adaptation of learning rate during training are techniques that reduce the learning rate over time. These have the benefit of making large changes at the beginning of the training procedure when larger learning rate values are used, and decreasing the learning rate such that a smaller rate and therefore smaller training updates are made to weights later in the training procedure."
      ]
    },
    {
      "cell_type": "markdown",
      "metadata": {
        "id": "hdmHxgkMdqOj"
      },
      "source": [
        "##### Time-Based Learning Rate Scheduling"
      ]
    },
    {
      "cell_type": "markdown",
      "metadata": {
        "id": "PI2I4w5ZdqOk"
      },
      "source": [
        "Keras has an in-built time-based learning rate schedule function.\n",
        "\n",
        "The decay argument in the stochastic gradient descent optimization algorithm  is used in the time-based learning rate decay schedule equation as follows:\n",
        "\n",
        "- LearningRate = LearningRate * $\\frac{1}{(1 + decay * epoch)}$\n",
        "\n",
        "When the decay argument is zero (the default), this has no effect on the learning rate.\n",
        "\n",
        "- LearningRate = 0.1 * $\\frac{1}{(1 + 0.0 * 1)} \\implies $LearningRate = 0.1\n",
        "\n",
        "When the decay argument is specified, it will decrease the learning rate from the previous epoch by the given fixed amount.\n",
        "\n",
        "*See the implementation of time-based learning rate scheduling with the MNIST dataset Example at the end of this notebook.*"
      ]
    },
    {
      "cell_type": "markdown",
      "metadata": {
        "id": "9ltSUwe4dqOu"
      },
      "source": [
        "### Regularization"
      ]
    },
    {
      "cell_type": "markdown",
      "metadata": {
        "id": "pTtpElDodqOv"
      },
      "source": [
        "Deep neural networks may have millions of parameters. The network, therefore,   has vast freedom and can fit a huge variety of complex datasets. This flexibility however also makes it prone to overfitting the training set. Thus we need regularization.\n",
        "\n",
        "Let us now see some popular regularization techniques for neural networks: $ℓ1$ and $ℓ2$ regularization and dropout"
      ]
    },
    {
      "cell_type": "markdown",
      "metadata": {
        "id": "ZD98NJQ6dqOw"
      },
      "source": [
        "#### $ℓ1$ and $ℓ2$ Regularization"
      ]
    },
    {
      "cell_type": "markdown",
      "metadata": {
        "id": "Y7-pZLbsdqOw"
      },
      "source": [
        "We can use $ℓ1$ and $ℓ2$ regularization  to  constrain  a  neural  network’s  connection  weights  (but  typically  not  its  biases).  Here  is  how  to  apply  $ℓ2$  regularization  to  a  Keras  layer’s  connection  weights, using a regularization factor of 0.01:"
      ]
    },
    {
      "cell_type": "code",
      "metadata": {
        "id": "E369mam-dqOx"
      },
      "source": [
        "layer = Dense(100, activation=\"relu\",\n",
        "                           kernel_initializer=\"he_normal\",\n",
        "                           kernel_regularizer=keras.regularizers.l2(0.01))"
      ],
      "execution_count": null,
      "outputs": []
    },
    {
      "cell_type": "markdown",
      "metadata": {
        "id": "UD9lTIltdqOy"
      },
      "source": [
        "Applying the  same  regularizer, activation function and initialization strategy repeatedly to  all  layers  in  our  network may make it error-prone. To avoid this, we can try refactoring our code to use loops. Another option is to use Python’s `functools.partial()` function: it lets us  create  a  thin  wrapper  for  any  callable,  with  some  default  argument  values.  For example:"
      ]
    },
    {
      "cell_type": "code",
      "metadata": {
        "id": "4IUZfTosdqOz"
      },
      "source": [
        "# creating regularized dense layer for model\n",
        "RegularizedDense = partial(keras.layers.Dense,\n",
        "                           activation=\"relu\",\n",
        "                           kernel_initializer=\"he_normal\",\n",
        "                           kernel_regularizer=keras.regularizers.l2(0.01))"
      ],
      "execution_count": null,
      "outputs": []
    },
    {
      "cell_type": "code",
      "metadata": {
        "id": "pwH4qCwhdqO0"
      },
      "source": [
        "# defining model with regularization\n",
        "model = Sequential([\n",
        "    Flatten(input_shape=[28, 28]),\n",
        "    RegularizedDense(300),\n",
        "    RegularizedDense(100),\n",
        "    RegularizedDense(10, activation=\"softmax\",\n",
        "                     kernel_initializer=\"glorot_uniform\")\n",
        "])"
      ],
      "execution_count": null,
      "outputs": []
    },
    {
      "cell_type": "markdown",
      "metadata": {
        "id": "UQ9wGk2FdqO1"
      },
      "source": [
        "#### Dropout"
      ]
    },
    {
      "cell_type": "markdown",
      "metadata": {
        "id": "23QlGnLbdqO2"
      },
      "source": [
        "Dropout  is  one  of  the  most  popular  regularization  techniques  for  deep  neural  networks. At each training stage, individual nodes are either dropped out of the net with probability 1-p or kept with probability p, so that a reduced network is left; incoming and outgoing edges to a dropped-out node are also removed.\n",
        "\n",
        "![Image](https://i.ibb.co/HnfSTyX/M5-2.jpg)\n",
        "\n",
        "$\\text{Figure: Dropout Regularization}$\n",
        "\n",
        "To  implement  dropout  using  Keras,  we  can  use  the  keras.layers.Dropout  layer. During  training,  it  randomly  drops  some  inputs  (setting  them  to  0)  and  divides  the remaining inputs by the keep probability. After training, it just passes  the  inputs  to  the  next  layer.  For  example,  the  following  code  applies  dropout regularization before every Dense layer, using a dropout rate of 0.2:"
      ]
    },
    {
      "cell_type": "code",
      "metadata": {
        "id": "_IErGvcSdqO3"
      },
      "source": [
        "model = Sequential([\n",
        "                    Flatten(input_shape=[28, 28]),\n",
        "                    Dropout(rate=0.2),\n",
        "                    Dense(300, activation=\"relu\", kernel_initializer=\"he_normal\"),\n",
        "                    Dropout(rate=0.2),\n",
        "                    Dense(100, activation=\"relu\", kernel_initializer=\"he_normal\"),\n",
        "                    Dropout(rate=0.2),\n",
        "                    Dense(10, activation=\"softmax\")\n",
        "                    ])"
      ],
      "execution_count": null,
      "outputs": []
    },
    {
      "cell_type": "markdown",
      "metadata": {
        "id": "BpTgUd2EdqO4"
      },
      "source": [
        "If we observe that the model is overfitting, we can increase the dropout rate. Conversely, we should try decreasing the dropout rate if the model underfits the training set. "
      ]
    },
    {
      "cell_type": "markdown",
      "metadata": {
        "id": "9iQC5OcP8cTx"
      },
      "source": [
        "Based on the learnings above, let us now explore hyperparameter tuning during the neural network training phase.\n",
        "\n",
        "Here, we implement the sequential model and use the **MNIST dataset**."
      ]
    },
    {
      "cell_type": "markdown",
      "metadata": {
        "id": "sVb26VZQMLXn"
      },
      "source": [
        "#### Data Preparation"
      ]
    },
    {
      "cell_type": "markdown",
      "metadata": {
        "id": "ZYcT8C3cO7Nc"
      },
      "source": [
        "We load the MNIST dataset, using Keras' dataset utilities."
      ]
    },
    {
      "cell_type": "code",
      "metadata": {
        "id": "JJsnHKAIMsW4"
      },
      "source": [
        "# data resizing variables\n",
        "NUM_ROWS = 28\n",
        "NUM_COLS = 28\n",
        "NUM_CLASSES = 10\n",
        "\n",
        "# Load data\n",
        "(X_train, y_train), (X_test, y_test) = mnist.load_data()"
      ],
      "execution_count": null,
      "outputs": []
    },
    {
      "cell_type": "markdown",
      "metadata": {
        "id": "mWHAgEhhVSJE"
      },
      "source": [
        "To feed MNIST instances into a neural network, they need to be reshaped, from a 2D image representation to a single dimension sequence. We also convert the class vector to a binary matrix (using to_categorical). This is accomplished below after which the same function defined above is called again in order to show the effects of our data reshaping."
      ]
    },
    {
      "cell_type": "code",
      "metadata": {
        "id": "t4gQx33YR1ca"
      },
      "source": [
        "# Reshape data\n",
        "X_train = X_train.reshape((X_train.shape[0], NUM_ROWS * NUM_COLS))\n",
        "X_train = X_train.astype('float32') / 255\n",
        "X_test = X_test.reshape((X_test.shape[0], NUM_ROWS * NUM_COLS))\n",
        "X_test = X_test.astype('float32') / 255\n",
        "\n",
        "# Categorically encode labels\n",
        "y_train = to_categorical(y_train, NUM_CLASSES)\n",
        "y_test = to_categorical(y_test, NUM_CLASSES)"
      ],
      "execution_count": null,
      "outputs": []
    },
    {
      "cell_type": "code",
      "metadata": {
        "id": "TBfeJhORQCyB"
      },
      "source": [
        "# create the sequential model with BN and dropout layers\n",
        "model = Sequential([\n",
        "    Dense(300, kernel_initializer=\"he_normal\", use_bias=False),\n",
        "    # dropout layer to drop neurons with rate less than 0.2\n",
        "    Dropout(rate=0.2),\n",
        "    # BN layer to rescale the inputs\n",
        "    BatchNormalization(),\n",
        "    Activation(\"relu\"),\n",
        "    Dense(100, kernel_initializer=\"he_normal\", use_bias=False),\n",
        "    Dropout(rate=0.2),\n",
        "    Activation(\"relu\"),\n",
        "    BatchNormalization(),\n",
        "    Dense(10, activation=\"softmax\")\n",
        "])"
      ],
      "execution_count": null,
      "outputs": []
    },
    {
      "cell_type": "markdown",
      "metadata": {
        "id": "VgVUeM5yWSTS"
      },
      "source": [
        "**Note:** You can also try to define Regularized dense layer and can create a sequential model as we see in the $l1$ and $l2$ regularization section discussed above."
      ]
    },
    {
      "cell_type": "code",
      "metadata": {
        "id": "rsKGOEeHQg_k"
      },
      "source": [
        "# time based learning-rate scheduling\n",
        "epochs = 10\n",
        "learning_rate = 0.1\n",
        "decay_rate = learning_rate / epochs\n",
        "# define optimizer\n",
        "optimizer = keras.optimizers.Adam(learning_rate=0.1, beta_1=0.9, beta_2=0.999, decay=decay_rate)\n",
        " \n",
        "# Compile model\n",
        "model.compile(optimizer=optimizer,\n",
        "              loss='categorical_crossentropy',\n",
        "              metrics=['accuracy'])"
      ],
      "execution_count": null,
      "outputs": []
    },
    {
      "cell_type": "markdown",
      "metadata": {
        "id": "RJ3bT-_DUpLq"
      },
      "source": [
        "**Note:** In the above code cell, you can also try compiling the with other optimizers like RMS prop, momentum optimization, etc."
      ]
    },
    {
      "cell_type": "code",
      "metadata": {
        "id": "47V1U9LhQkIJ"
      },
      "source": [
        "# outputs epoch-by-epoch loss functions and accuracies at the end of each epoch of training\n",
        "plot_losses = livelossplot.PlotLossesKeras()\n",
        "\n",
        "# Train model\n",
        "model.fit(X_train, y_train,\n",
        "          batch_size=128,\n",
        "          epochs=epochs,\n",
        "          callbacks=[plot_losses],\n",
        "          verbose=1,\n",
        "          validation_data=(X_test, y_test))\n"
      ],
      "execution_count": null,
      "outputs": []
    },
    {
      "cell_type": "markdown",
      "metadata": {
        "id": "NPTUDJNjVd_n"
      },
      "source": [
        "##### Evaluation"
      ]
    },
    {
      "cell_type": "code",
      "metadata": {
        "id": "sQhlgALoVgzA"
      },
      "source": [
        "score = model.evaluate(X_test, y_test, verbose=0)\n",
        "print('Test loss:', score[0])\n",
        "print('Test accuracy:', score[1])"
      ],
      "execution_count": null,
      "outputs": []
    },
    {
      "cell_type": "markdown",
      "metadata": {
        "id": "u2rywYq6bjG4"
      },
      "source": [
        "##### Model Summary"
      ]
    },
    {
      "cell_type": "code",
      "metadata": {
        "id": "WhEfjsTKbny1"
      },
      "source": [
        "model.summary()"
      ],
      "execution_count": null,
      "outputs": []
    },
    {
      "cell_type": "markdown",
      "metadata": {
        "id": "5v4LSY3AdqO5"
      },
      "source": [
        "### Theory Questions"
      ]
    },
    {
      "cell_type": "markdown",
      "metadata": {
        "id": "Z62bkuLOdqO5"
      },
      "source": [
        "**Q1.** How many neurons do you need in the output layer if you want to classify email into spam or ham? What activation function should you use in the output layer?\n",
        "\n",
        "**Answer 1:** Email classification is a binary classification problem, so you would only need one neuron in the output layer. This neuron would indicate the probability that the email is spam or ham. You'd most likely use the sigmoid activation function in the output layer.\n",
        "\n",
        "For the MNIST problem you would need 10 output neurons in the final layer, one for each digit. You would then replace the logistic function with the softmax function which can output one probability per class per digit.\n",
        "\n",
        "**Q2.** Can you list all the hyperparameters you can tweak in an MLP? If the MLP overfits the training data, how could you tweak these hyperparameters to try to solve the problem?\n",
        "\n",
        "**Answer 2:** In general, the hyperparameters of a neural network you can adjust are the number of hidden layers, the number of neurons in each hidden layer, and the activation function used by each neuron.\n",
        "\n",
        "For binary classification, use the logistic activation function. For a multi-class problem, use softmax. For a linear regression problem, don't use an activation function.\n",
        "\n",
        "Some simple ways to try and solve overfitting are reducing the number of hidden layers or the number of neurons.\n",
        "\n",
        "**Q3.** What  may  happen  if  you  set  the  momentum  hyperparameter  too  close  to  1  (e.g., 0.99999) when using an SGD optimizer?\n",
        "\n",
        "**Answer 3:** If you set the momentum hyperparameter too close to 1 (e.g., 0.99999) when using an SGD optimizer, then the algorithm will likely pick up a lot of speed, hopefully moving roughly toward the global minimum, but its momentum will carry it right past the minimum. Then it will slow down and come back, accelerate again, overshoot again, and so on. It may oscillate this way many times before converging, so overall it will take much longer to converge than with a smaller momentum value.\n",
        "\n",
        "**Q4.** Does dropout slow down training?\n",
        "\n",
        "**Answer 4:** Yes, dropout does slow down training, in general roughly by a factor of two."
      ]
    },
    {
      "cell_type": "markdown",
      "metadata": {
        "id": "VHfHdGCP_n6Y"
      },
      "source": [
        "### Please answer the questions below to complete the experiment:\n",
        "\n",
        "\n"
      ]
    },
    {
      "cell_type": "code",
      "metadata": {
        "id": "VgSwVENIPcM6"
      },
      "source": [
        "#@title Which of the following is designed to automatically standardize the inputs to a layer in a deep learning neural network? { run: \"auto\", form-width: \"500px\", display-mode: \"form\" }\n",
        "Answer = \"Batch Normalization\" #@param [\"\", \"Momentum\", \"Batch Normalization\", \"ReLU\", \"Dropout\"]"
      ],
      "execution_count": 30,
      "outputs": []
    },
    {
      "cell_type": "code",
      "metadata": {
        "id": "NMzKSbLIgFzQ"
      },
      "source": [
        "#@title How was the experiment? { run: \"auto\", form-width: \"500px\", display-mode: \"form\" }\n",
        "Complexity = \"Good and Challenging for me\" #@param [\"\",\"Too Simple, I am wasting time\", \"Good, But Not Challenging for me\", \"Good and Challenging for me\", \"Was Tough, but I did it\", \"Too Difficult for me\"]\n"
      ],
      "execution_count": 31,
      "outputs": []
    },
    {
      "cell_type": "code",
      "metadata": {
        "id": "DjcH1VWSFI2l"
      },
      "source": [
        "#@title If it was too easy, what more would you have liked to be added? If it was very difficult, what would you have liked to have been removed? { run: \"auto\", display-mode: \"form\" }\n",
        "Additional = \"na\" #@param {type:\"string\"}\n"
      ],
      "execution_count": 32,
      "outputs": []
    },
    {
      "cell_type": "code",
      "metadata": {
        "id": "4VBk_4VTAxCM"
      },
      "source": [
        "#@title Can you identify the concepts from the lecture which this experiment covered? { run: \"auto\", vertical-output: true, display-mode: \"form\" }\n",
        "Concepts = \"Yes\" #@param [\"\",\"Yes\", \"No\"]\n"
      ],
      "execution_count": 33,
      "outputs": []
    },
    {
      "cell_type": "code",
      "metadata": {
        "id": "XH91cL1JWH7m"
      },
      "source": [
        "#@title  Text and image description/explanation and code comments within the experiment: { run: \"auto\", vertical-output: true, display-mode: \"form\" }\n",
        "Comments = \"Very Useful\" #@param [\"\",\"Very Useful\", \"Somewhat Useful\", \"Not Useful\", \"Didn't use\"]\n"
      ],
      "execution_count": 34,
      "outputs": []
    },
    {
      "cell_type": "code",
      "metadata": {
        "id": "z8xLqj7VWIKW"
      },
      "source": [
        "#@title Mentor Support: { run: \"auto\", vertical-output: true, display-mode: \"form\" }\n",
        "Mentor_support = \"Very Useful\" #@param [\"\",\"Very Useful\", \"Somewhat Useful\", \"Not Useful\", \"Didn't use\"]\n"
      ],
      "execution_count": 35,
      "outputs": []
    },
    {
      "cell_type": "code",
      "metadata": {
        "id": "FzAZHt1zw-Y-",
        "cellView": "form",
        "colab": {
          "base_uri": "https://localhost:8080/"
        },
        "outputId": "4d659770-c048-49cf-9f61-3214e19cdc11"
      },
      "source": [
        "#@title Run this cell to submit your notebook for grading { vertical-output: true }\n",
        "try:\n",
        "  if submission_id:\n",
        "      return_id = submit_notebook()\n",
        "      if return_id : submission_id = return_id\n",
        "  else:\n",
        "      print(\"Please complete the setup first.\")\n",
        "except NameError:\n",
        "  print (\"Please complete the setup first.\")"
      ],
      "execution_count": 36,
      "outputs": [
        {
          "output_type": "stream",
          "name": "stdout",
          "text": [
            "Your submission is successful.\n",
            "Ref Id: 5272\n",
            "Date of submission:  21 Nov 2021\n",
            "Time of submission:  19:20:44\n",
            "View your submissions: https://cds.iisc.talentsprint.com/notebook_submissions\n"
          ]
        }
      ]
    }
  ]
}